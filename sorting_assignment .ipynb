{
 "cells": [
  {
   "cell_type": "code",
   "execution_count": 3,
   "id": "d5d775be",
   "metadata": {},
   "outputs": [
    {
     "name": "stdout",
     "output_type": "stream",
     "text": [
      "enter the elements of the list2,2,2,3,4,5\n",
      "the element occuring maximum number of times 2\n"
     ]
    }
   ],
   "source": [
    "#element occcuring maximum number of times\n",
    "l=[]\n",
    "d={}\n",
    "l=eval(input(\"enter the elements of the list\"))\n",
    "for x in l:\n",
    "    n=l.count(x)\n",
    "    d[x]=n\n",
    "k_max=max(d,key=d.get)\n",
    "print(\"the element occuring maximum number of times\",k_max)"
   ]
  },
  {
   "cell_type": "code",
   "execution_count": 1,
   "id": "7048c9e1",
   "metadata": {},
   "outputs": [
    {
     "name": "stdout",
     "output_type": "stream",
     "text": [
      "enter the elements of the list1,2,3,3,2,1,3\n",
      "{1: 2, 2: 2, 3: 3}\n",
      " the element which occcured odd number of times is 3\n"
     ]
    }
   ],
   "source": [
    "#list of n elements is there and we have to print the element which occurs odd number of times\n",
    "l=[]\n",
    "d={}\n",
    "l=eval(input(\"enter the elements of the list\"))\n",
    "for x in l:\n",
    "    n=l.count(x)\n",
    "    d[x]=n\n",
    "print(d)\n",
    "for x in d:\n",
    "    if(d[x]%2==1):\n",
    "        print(\" the element which occcured odd number of times is\",x)"
   ]
  },
  {
   "cell_type": "markdown",
   "id": "044e2219",
   "metadata": {},
   "source": []
  },
  {
   "cell_type": "code",
   "execution_count": 21,
   "id": "e2eed66a",
   "metadata": {},
   "outputs": [
    {
     "name": "stdout",
     "output_type": "stream",
     "text": [
      "enter the elements of the arry4,1,3,2,6,5\n",
      "enter a number9\n",
      "[4, 3, 2, 4, 2, 3, 1, 3, 5, 1, 2, 6, 1, 6, 2]\n"
     ]
    }
   ],
   "source": [
    "#find three elements from an array of n elements such that there sum is equal to a given element\n",
    "l=[]\n",
    "t=[]\n",
    "tu={}\n",
    "temp=[]\n",
    "l=eval(input(\"enter the elements of the arry\"))\n",
    "le=len(l)\n",
    "n=int(input(\"enter a number\"))\n",
    "for i in range(0,le):\n",
    "    for j in range(i+1,le):\n",
    "        for k in range(i+2,le):\n",
    "            if(l[i]+l[j]+l[k])==n:\n",
    "                t.append(l[i])\n",
    "                t.append(l[j])\n",
    "                t.append(l[k])\n",
    "\n",
    "print(t)\n",
    "              "
   ]
  },
  {
   "cell_type": "code",
   "execution_count": 3,
   "id": "b0f936ee",
   "metadata": {},
   "outputs": [
    {
     "name": "stdout",
     "output_type": "stream",
     "text": [
      "enter the elements of the arry2,1,3,6,7\n",
      "enter a number5\n",
      "[2, 3]\n"
     ]
    }
   ],
   "source": [
    "#find two elements from an array of n elements such that there sum is equal to a given element K\n",
    "\n",
    "l=[]\n",
    "t=[]\n",
    "temp=0\n",
    "l=eval(input(\"enter the elements of the arry\"))\n",
    "le=len(l)\n",
    "n=int(input(\"enter a number\"))\n",
    "for i in range(0,le):\n",
    "    for j in range(i+1,le):\n",
    "    \n",
    "        if((l[i]+l[j])==n):\n",
    "            \n",
    "            t.append(l[i])\n",
    "            t.append(l[j])\n",
    "print(t)"
   ]
  },
  {
   "cell_type": "markdown",
   "id": "4673142c",
   "metadata": {},
   "source": [
    " "
   ]
  },
  {
   "cell_type": "code",
   "execution_count": 12,
   "id": "3b90fad6",
   "metadata": {},
   "outputs": [
    {
     "name": "stdout",
     "output_type": "stream",
     "text": [
      "enter the range12\n",
      "0\n",
      "1\n",
      "1\n",
      "0\n",
      "1\n",
      "2\n",
      "1\n",
      "2\n",
      "0\n",
      "0\n",
      "0\n",
      "1\n",
      "[0, 1, 1, 0, 1, 2, 1, 2, 0, 0, 0, 1]\n",
      "[0, 0, 0, 0, 0, 1, 1, 1, 1, 1, 2, 2]\n"
     ]
    }
   ],
   "source": [
    "#Sort an array of 0,1,2.The array contains the 0's first followed by the 1's and then the 2.\n",
    "l=[]\n",
    "arr=[]\n",
    "n=int(input(\"enter the range\"))\n",
    "for i in range(0,n):\n",
    "    e=int(input())\n",
    "    l.append(e)\n",
    "print(l)\n",
    "le=len(l)\n",
    "for i in range(0,le-1):\n",
    "    for j in range(0,le-i-1):\n",
    "        if(l[j]>l[j+1]):\n",
    "            temp=l[j]\n",
    "            l[j]=l[j+1]\n",
    "            l[j+1]=temp\n",
    "print(l)"
   ]
  },
  {
   "cell_type": "code",
   "execution_count": 3,
   "id": "cff3e222",
   "metadata": {},
   "outputs": [
    {
     "name": "stdout",
     "output_type": "stream",
     "text": [
      "enter the range6\n",
      "3\n",
      "4\n",
      "5\n",
      "12\n",
      "13\n",
      "6\n",
      "[3, 4, 5, 12, 13, 6]\n",
      "[3, 4, 5, 5, 12, 13]\n"
     ]
    }
   ],
   "source": [
    "#sum of the squares of two numbers is equal to the square of the third number\n",
    "l=[]\n",
    "temp=[]\n",
    "n=int(input(\"enter the range\"))\n",
    "for i in range(0,n):\n",
    "    e=int(input())\n",
    "    l.append(e)\n",
    "print(l)\n",
    "le=len(l)\n",
    "for i in range(0,le):\n",
    "    for j in range(i+1,le):\n",
    "        for k in range(i+2,le):\n",
    "            if(((l[i]*l[i])+(l[j]*l[j]))==l[k]*l[k]):\n",
    "                temp.append(l[i])\n",
    "                temp.append(l[j])\n",
    "                temp.append(l[k])\n",
    "print(temp)\n",
    "    "
   ]
  },
  {
   "cell_type": "code",
   "execution_count": 14,
   "id": "6bf811e1",
   "metadata": {},
   "outputs": [
    {
     "name": "stdout",
     "output_type": "stream",
     "text": [
      "enter the range4\n",
      "7\n",
      "7\n",
      "7\n",
      "1\n",
      "[7, 7, 7, 1]\n",
      "2.0\n",
      "the majority element is 7\n"
     ]
    }
   ],
   "source": [
    "#an element in majority appears more than n/2 times.\n",
    "#Give an algorithm that takes an array of n elements as argument and identifies a majority\n",
    "l=[]\n",
    "l=[]\n",
    "arr=[]\n",
    "n=int(input(\"enter the range\"))\n",
    "for i in range(0,n):\n",
    "    e=int(input())\n",
    "    l.append(e)\n",
    "print(l)\n",
    "le=len(l)\n",
    "n1=le/2.0\n",
    "print(n1)\n",
    "for x in l:\n",
    "    c=l.count(x)\n",
    "    if(c>n1):\n",
    "        m=x\n",
    "        break\n",
    "print(\"the majority element is\",m)"
   ]
  },
  {
   "cell_type": "markdown",
   "id": "516cded9",
   "metadata": {},
   "source": [
    "### "
   ]
  },
  {
   "cell_type": "code",
   "execution_count": 12,
   "id": "7cafd80b",
   "metadata": {},
   "outputs": [
    {
     "name": "stdout",
     "output_type": "stream",
     "text": [
      "enter the number of rows4\n",
      "enter the number of columns4\n",
      "0\n",
      "1\n",
      "0\n",
      "0\n",
      "1\n",
      "0\n",
      "0\n",
      "1\n",
      "1\n",
      "1\n",
      "1\n",
      "0\n",
      "0\n",
      "1\n",
      "1\n",
      "1\n",
      "[[0, 1, 0, 0], [1, 0, 0, 1], [1, 1, 1, 0], [0, 1, 1, 1]]\n",
      "the row with maximum zero's is 1\n"
     ]
    }
   ],
   "source": [
    "#find row with maximum number of 0's\n",
    "arr=[]\n",
    "m=0\n",
    "row=int(input(\"enter the number of rows\"))\n",
    "co=int(input(\"enter the number of columns\"))\n",
    "for i in range(0,row):\n",
    "    a=[]\n",
    "    for j in range(0,co):\n",
    "        ele=int(input())\n",
    "        a.append(ele)\n",
    "    arr.append(a)\n",
    "print(arr)\n",
    "for i in range(0,row):\n",
    "    c=0\n",
    "    for j in range(0,co):\n",
    "        if(arr[i][j]==0):\n",
    "            \n",
    "            c=c+1\n",
    "            ind=i\n",
    "    if(c>m):\n",
    "        m=c\n",
    "        print(\"the row with maximum zero's is\",ind+1)\n",
    "\n",
    "        "
   ]
  },
  {
   "cell_type": "code",
   "execution_count": 15,
   "id": "25edb209",
   "metadata": {},
   "outputs": [
    {
     "name": "stdout",
     "output_type": "stream",
     "text": [
      "enter the range6\n",
      "1\n",
      "60\n",
      "-10\n",
      "70\n",
      "-80\n",
      "85\n",
      "[1, 60, -10, 70, -80, 85]\n",
      "the two elements with sum closest to zero is [-80, 85]\n"
     ]
    }
   ],
   "source": [
    "#given an array of positive and negative.Find the two numbers whose sum is closest to 0.\n",
    "l=[]\n",
    "temp=[]\n",
    "s=0\n",
    "n=int(input(\"enter the range\"))\n",
    "for i in range(0,n):\n",
    "    e=int(input())\n",
    "    l.append(e)\n",
    "print(l)\n",
    "le=len(l)\n",
    "m=l[0]+l[1]\n",
    "for i in range(0,le):\n",
    "    for j in range(i+1,le):\n",
    "        temp=[]\n",
    "        s=l[i]+l[j]\n",
    "        if(abs(s)<abs(m)):\n",
    "            m=s\n",
    "            r=l[i]\n",
    "            c=l[j]\n",
    "temp.append(r)\n",
    "temp.append(c)\n",
    "print(\"the two elements with sum closest to zero is\",temp)"
   ]
  },
  {
   "cell_type": "code",
   "execution_count": 30,
   "id": "ecfc10dd",
   "metadata": {},
   "outputs": [
    {
     "name": "stdout",
     "output_type": "stream",
     "text": [
      "enter the range8\n",
      "36.0\n",
      "1\n",
      "2\n",
      "3\n",
      "4\n",
      "6\n",
      "7\n",
      "8\n",
      "[1, 2, 3, 4, 6, 7, 8]\n",
      "31\n",
      "5.0\n"
     ]
    }
   ],
   "source": [
    "#find the missing element from the list of n-1 elements and the list contains integers in the range 1 to n\n",
    "n=int(input(\"enter the range\"))\n",
    "l=[]\n",
    "s=0\n",
    "n1=(n*(n+1))/2\n",
    "print(n1)\n",
    "for i in range(0,n-1):\n",
    "    e=int(input())\n",
    "    l.append(e)\n",
    "print(l)\n",
    "for x in l:\n",
    "    s=s+x\n",
    "print(s)\n",
    "ele=n1-s\n",
    "print(ele)\n",
    "\n"
   ]
  },
  {
   "cell_type": "code",
   "execution_count": null,
   "id": "a259c10b",
   "metadata": {},
   "outputs": [],
   "source": []
  }
 ],
 "metadata": {
  "kernelspec": {
   "display_name": "Python 3 (ipykernel)",
   "language": "python",
   "name": "python3"
  },
  "language_info": {
   "codemirror_mode": {
    "name": "ipython",
    "version": 3
   },
   "file_extension": ".py",
   "mimetype": "text/x-python",
   "name": "python",
   "nbconvert_exporter": "python",
   "pygments_lexer": "ipython3",
   "version": "3.11.3"
  }
 },
 "nbformat": 4,
 "nbformat_minor": 5
}
