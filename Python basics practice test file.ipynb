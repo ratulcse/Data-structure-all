{
 "cells": [
  {
   "cell_type": "markdown",
   "id": "OU9xzXRTdqIu",
   "metadata": {
    "id": "OU9xzXRTdqIu"
   },
   "source": [
    "# String"
   ]
  },
  {
   "cell_type": "code",
   "execution_count": null,
   "id": "284e464c",
   "metadata": {
    "id": "284e464c",
    "outputId": "0328e3a2-adea-4b4d-85d7-8b1fb101b4b2"
   },
   "outputs": [
    {
     "name": "stdout",
     "output_type": "stream",
     "text": [
      "Enter a string value: Subhajit\n",
      "Reverse of the given string is: tijahbuS\n"
     ]
    }
   ],
   "source": [
    "#1. program to reverse a string\n",
    "s=input(\"Enter a string value: \")\n",
    "rev=\"\"\n",
    "for i in range(len(s)):\n",
    "    rev=s[i]+rev\n",
    "print(f\"Reverse of the given string is: {rev}\")\n",
    "\n",
    "#alternate\n",
    "#rev=s[::-1]\n",
    "#print(f\"Reverse of the given string is: {rev}\")"
   ]
  },
  {
   "cell_type": "code",
   "execution_count": null,
   "id": "d0add190",
   "metadata": {
    "id": "d0add190",
    "outputId": "42e8f09c-56cf-4309-b3de-6b9ac1791a0f"
   },
   "outputs": [
    {
     "name": "stdout",
     "output_type": "stream",
     "text": [
      "Enter a string input: madam\n",
      "Palindrome\n"
     ]
    }
   ],
   "source": [
    "#2. Checking if a string is a palindrome\n",
    "s=input(\"Enter a string input: \")\n",
    "if(s[::-1]==s):\n",
    "    print(\"Palindrome\")\n",
    "else:\n",
    "    print(\"Not palindrome\")"
   ]
  },
  {
   "cell_type": "code",
   "execution_count": null,
   "id": "0a7eeee1",
   "metadata": {
    "id": "0a7eeee1",
    "outputId": "5b54831e-f381-4cfa-8551-c6e8084f652a"
   },
   "outputs": [
    {
     "name": "stdout",
     "output_type": "stream",
     "text": [
      "Enter a string value: Hi I'm learning python\n",
      "Output: HI I'M LEARNING PYTHON\n"
     ]
    }
   ],
   "source": [
    "#3. Converting a string to uppercase\n",
    "s=input(\"Enter a string value: \")\n",
    "print(f\"Output: {s.upper()}\")"
   ]
  },
  {
   "cell_type": "code",
   "execution_count": null,
   "id": "fe27f333",
   "metadata": {
    "id": "fe27f333",
    "outputId": "23da2554-bb86-46e2-af9a-e634f432203b"
   },
   "outputs": [
    {
     "name": "stdout",
     "output_type": "stream",
     "text": [
      "Enter a string value: Hi I'm learning python\n",
      "Output: hi i'm learning python\n"
     ]
    }
   ],
   "source": [
    "#4. Converting a string to lowercase\n",
    "s=input(\"Enter a string value: \")\n",
    "print(f\"Output: {s.lower()}\")"
   ]
  },
  {
   "cell_type": "code",
   "execution_count": 2,
   "id": "c1c9164a",
   "metadata": {
    "colab": {
     "base_uri": "https://localhost:8080/"
    },
    "executionInfo": {
     "elapsed": 5184,
     "status": "ok",
     "timestamp": 1703849595479,
     "user": {
      "displayName": "AKASH HALDER",
      "userId": "15599268396319366783"
     },
     "user_tz": -330
    },
    "id": "c1c9164a",
    "outputId": "9e6c6744-2cad-4166-ca90-d5001b982eb5"
   },
   "outputs": [
    {
     "name": "stdout",
     "output_type": "stream",
     "text": [
      "Enter a string input: Hi I'm learning python\n",
      "Number of vowels present: 6\n"
     ]
    }
   ],
   "source": [
    "#5. Counting the number of vowels in a string\n",
    "s=input(\"Enter a string input: \")\n",
    "#vowel=['a','e','i','o','u','A','E','I','O','U']\n",
    "vowel=['A','E','I','O','U']\n",
    "count=0\n",
    "for i in s:\n",
    "    #if i in vowel:\n",
    "    if i.upper() in vowel:\n",
    "        count+=1\n",
    "print(f\"Number of vowels present: {count}\")"
   ]
  },
  {
   "cell_type": "code",
   "execution_count": 5,
   "id": "f0a5ad67",
   "metadata": {
    "colab": {
     "base_uri": "https://localhost:8080/"
    },
    "executionInfo": {
     "elapsed": 15015,
     "status": "ok",
     "timestamp": 1703850209792,
     "user": {
      "displayName": "AKASH HALDER",
      "userId": "15599268396319366783"
     },
     "user_tz": -330
    },
    "id": "f0a5ad67",
    "outputId": "82ce4f66-e9c9-4071-e7be-d29900eff10b"
   },
   "outputs": [
    {
     "name": "stdout",
     "output_type": "stream",
     "text": [
      "Enter a string input: Hi I'm learning python\n",
      "Number of consonants present: 12\n"
     ]
    }
   ],
   "source": [
    "#6. Counting the number of consonants in a string\n",
    "s=input(\"Enter a string input: \")\n",
    "#cons=set(\"bcdfghjklmnpqrstvwxyzBCDFGHJKLMNPQRSTVWXYZ\")\n",
    "cons=list(\"BCDFGHJKLMNPQRSTVWXYZ\")\n",
    "count=0\n",
    "for i in s:\n",
    "    if i.upper() in cons:\n",
    "        count+=1\n",
    "print(f\"Number of consonants present: {count}\")"
   ]
  },
  {
   "cell_type": "code",
   "execution_count": 6,
   "id": "b0714c01",
   "metadata": {
    "colab": {
     "base_uri": "https://localhost:8080/"
    },
    "executionInfo": {
     "elapsed": 40187,
     "status": "ok",
     "timestamp": 1703850675518,
     "user": {
      "displayName": "AKASH HALDER",
      "userId": "15599268396319366783"
     },
     "user_tz": -330
    },
    "id": "b0714c01",
    "outputId": "2a61b35c-73b0-4837-c3c9-0824d9b1ef51"
   },
   "outputs": [
    {
     "name": "stdout",
     "output_type": "stream",
     "text": [
      "Enter a string: Remove All   White   Space   .\n",
      "RemoveAllWhiteSpace.\n"
     ]
    }
   ],
   "source": [
    "#7. Removing all whitespaces from a string\n",
    "'''s=input(\"Enter a string: \")\n",
    "new=s.split()\n",
    "print(\"Your desired output: \",end=\"\")\n",
    "for i in new:\n",
    "    print(i,end=\" \")'''\n",
    "s=input(\"Enter a string: \")\n",
    "s=s.replace(\" \",\"\")\n",
    "print(s)"
   ]
  },
  {
   "cell_type": "code",
   "execution_count": null,
   "id": "22fbd545",
   "metadata": {
    "id": "22fbd545",
    "outputId": "feb2b637-e64b-4bda-8e72-736ff978c76c"
   },
   "outputs": [
    {
     "name": "stdout",
     "output_type": "stream",
     "text": [
      "Enter a string input: Hello World\n",
      "Length of the given string is 11\n"
     ]
    }
   ],
   "source": [
    "#8. finding the length of a string without using the `len()` function\n",
    "s=input(\"Enter a string input: \")\n",
    "count=0\n",
    "for i in s:\n",
    "    count+=1\n",
    "print(\"Length of the given string is {}\".format(count))"
   ]
  },
  {
   "cell_type": "code",
   "execution_count": 10,
   "id": "b180ccc2",
   "metadata": {
    "colab": {
     "base_uri": "https://localhost:8080/"
    },
    "executionInfo": {
     "elapsed": 17700,
     "status": "ok",
     "timestamp": 1703853198812,
     "user": {
      "displayName": "AKASH HALDER",
      "userId": "15599268396319366783"
     },
     "user_tz": -330
    },
    "id": "b180ccc2",
    "outputId": "3f2548b2-749a-45d0-da71-70d0c5845e07"
   },
   "outputs": [
    {
     "name": "stdout",
     "output_type": "stream",
     "text": [
      "Enter a string input: to replace\n",
      "Enter the sub-string you are searching for: place\n",
      "place isn't present in the given string.\n"
     ]
    }
   ],
   "source": [
    "#9. checking if a string contains a specific word\n",
    "s=input(\"Enter a string input: \")\n",
    "sub=input(\"Enter the sub-string you are searching for: \")\n",
    "'''flag=False\n",
    "if sub in s or sub.upper() in s or sub.lower() in s or sub.title() in s:\n",
    "    flag=True\n",
    "if(flag):\n",
    "    print(\"{} is present in the given string.\".format(sub))\n",
    "else:\n",
    "    print(\"{} isn't present in the given string.\".format(sub))'''\n",
    "l=s.split()\n",
    "l = [x.lower() for x in l]\n",
    "if sub.lower() in l:\n",
    "  print(f\"{sub} is present in the given string.\")\n",
    "else:\n",
    "  print(f\"{sub} isn't present in the given string.\")"
   ]
  },
  {
   "cell_type": "code",
   "execution_count": 13,
   "id": "921f45f8",
   "metadata": {
    "colab": {
     "base_uri": "https://localhost:8080/"
    },
    "executionInfo": {
     "elapsed": 33027,
     "status": "ok",
     "timestamp": 1703857603593,
     "user": {
      "displayName": "AKASH HALDER",
      "userId": "15599268396319366783"
     },
     "user_tz": -330
    },
    "id": "921f45f8",
    "outputId": "39795721-bdc1-46ce-d615-4e57629d8fde"
   },
   "outputs": [
    {
     "name": "stdout",
     "output_type": "stream",
     "text": [
      "Enter a string value: I'm learning Python.\n",
      "Enter the word you want to replace: python\n",
      "Enter the word you want to replace with python: java\n",
      "python is replaced with java.\n",
      "Given string: I'm learning Python.\n",
      "After replacing: I'm learning java.\n"
     ]
    }
   ],
   "source": [
    "#10. ReplacING a word in a string with another word\n",
    "import re\n",
    "s=input(\"Enter a string value: \")\n",
    "sub1=input(\"Enter the word you want to replace: \")\n",
    "sub2=input(\"Enter the word you want to replace with {}: \".format(sub1))\n",
    "'''\n",
    "flag=False\n",
    "if sub1 in s:\n",
    "    s1=s.replace(sub1,sub2)\n",
    "    flag=True\n",
    "if(not flag):\n",
    "    print(\"{} is not present in the given string.\".format(sub1))\n",
    "else:\n",
    "    print(s1)\n",
    "'''\n",
    "x=re.compile(r\"\\b({})\\b\".format(sub1),re.IGNORECASE).sub(sub2,s)\n",
    "\n",
    "if s==x:\n",
    "  print(f'{sub1} is not present in the given string.')\n",
    "else:\n",
    "  print(f'{sub1} is replaced with {sub2}.\\nGiven string: {s}\\nAfter replacing: {x}')"
   ]
  },
  {
   "cell_type": "code",
   "execution_count": 26,
   "id": "9823d596",
   "metadata": {
    "colab": {
     "base_uri": "https://localhost:8080/"
    },
    "executionInfo": {
     "elapsed": 12302,
     "status": "ok",
     "timestamp": 1703859688583,
     "user": {
      "displayName": "AKASH HALDER",
      "userId": "15599268396319366783"
     },
     "user_tz": -330
    },
    "id": "9823d596",
    "outputId": "1c78b51d-67e2-4182-f5b7-df64c57f7bb0"
   },
   "outputs": [
    {
     "name": "stdout",
     "output_type": "stream",
     "text": [
      "Enter a string: The following pages are a useful first step to get on your way writing programs with Python!\n",
      "Enter the word you are searching for: on\n",
      "Occurences of on in the given string is: 1\n"
     ]
    }
   ],
   "source": [
    "#11. Counting the occurrences of a word in a string\n",
    "import re\n",
    "s=input(\"Enter a string: \")\n",
    "sub=input(\"Enter the word you are searching for: \")\n",
    "x=re.compile(r\"\\b({})\\b\".format(sub),re.IGNORECASE).findall(s)\n",
    "print(\"Occurences of {} in the given string is: {}\".format(sub,len(x)))"
   ]
  },
  {
   "cell_type": "code",
   "execution_count": 39,
   "id": "2944963a",
   "metadata": {
    "colab": {
     "base_uri": "https://localhost:8080/"
    },
    "executionInfo": {
     "elapsed": 9409,
     "status": "ok",
     "timestamp": 1703863901202,
     "user": {
      "displayName": "AKASH HALDER",
      "userId": "15599268396319366783"
     },
     "user_tz": -330
    },
    "id": "2944963a",
    "outputId": "1e9fa47b-51a7-4a60-eaf2-e6983895fbde"
   },
   "outputs": [
    {
     "name": "stdout",
     "output_type": "stream",
     "text": [
      "Enter a string: Python can be easy to pick up whether you are a first time programmer or you are experienced with other languages.\n",
      "Enter the word you are searching for: are\n",
      "First occurrence of 'are' in the given string at location: 42\n"
     ]
    }
   ],
   "source": [
    "#12. Finding the first occurrence of a word in a string\n",
    "s=input(\"Enter a string: \")\n",
    "sub=input(\"Enter the word you are searching for: \")\n",
    "x=re.compile(r\"\\b({})\\b\".format(sub),re.IGNORECASE).search(s)\n",
    "if(x==None):\n",
    "    print(\"'{}' is not present in the given string.\".format(sub))\n",
    "else:\n",
    "    print(f\"First occurrence of '{sub}' in the given string at location: {x.span()[0]}\")"
   ]
  },
  {
   "cell_type": "code",
   "execution_count": 36,
   "id": "1212732c",
   "metadata": {
    "colab": {
     "base_uri": "https://localhost:8080/"
    },
    "executionInfo": {
     "elapsed": 7384,
     "status": "ok",
     "timestamp": 1703862895294,
     "user": {
      "displayName": "AKASH HALDER",
      "userId": "15599268396319366783"
     },
     "user_tz": -330
    },
    "id": "1212732c",
    "outputId": "1d7cd043-2ab0-486c-e4e5-2575d6984213"
   },
   "outputs": [
    {
     "name": "stdout",
     "output_type": "stream",
     "text": [
      "Enter a string value: Python can be easy to pick up whether you are a first time programmer or you are experienced with other languages.\n",
      "Enter the word you are searching for: are\n",
      "Last occurrence of 'are' in the given string at location: 77\n"
     ]
    }
   ],
   "source": [
    "#13.Finding the last occurrence of a word in a string\n",
    "s=input(\"Enter a string value: \")\n",
    "sub=input(\"Enter the word you are searching for: \")\n",
    "x=re.compile(r\"\\b({})\\b\".format(sub),re.IGNORECASE).finditer(s)\n",
    "last=False\n",
    "for y in x:\n",
    "  last=y\n",
    "if(not last):\n",
    "  print(\"'{}' is not present in the given string.\".format(sub))\n",
    "else:\n",
    "  print(f\"Last occurrence of '{sub}' in the given string at location: {last.span()[0]}\")"
   ]
  },
  {
   "cell_type": "code",
   "execution_count": null,
   "id": "ff71e628",
   "metadata": {
    "id": "ff71e628",
    "outputId": "28439ce2-0f83-43ba-b9fb-ba177a623747"
   },
   "outputs": [
    {
     "name": "stdout",
     "output_type": "stream",
     "text": [
      "Enter a string value: Hi I am learning Python.\n",
      "Hi\n",
      "I\n",
      "am\n",
      "learning\n",
      "Python.\n"
     ]
    }
   ],
   "source": [
    "#14. Spliting a string into a list of words\n",
    "s=input(\"Enter a string value: \")\n",
    "l=s.split()\n",
    "for i in l:\n",
    "    print(i)"
   ]
  },
  {
   "cell_type": "code",
   "execution_count": null,
   "id": "69c8da84",
   "metadata": {
    "id": "69c8da84",
    "outputId": "a108a671-b648-45a8-d6e9-77936fbc9706"
   },
   "outputs": [
    {
     "name": "stdout",
     "output_type": "stream",
     "text": [
      "Enter the number of words required: 5\n",
      "Enter a word: Hi\n",
      "Enter a word: I\n",
      "Enter a word: am\n",
      "Enter a word: learning\n",
      "Enter a word: Python.\n",
      "Your string is: Hi I am learning Python.\n"
     ]
    }
   ],
   "source": [
    "#15. Joining a list of words into a string\n",
    "l=[]\n",
    "n=int(input(\"Enter the number of words required: \"))\n",
    "for i in range(n):\n",
    "    l.append(input(\"Enter a word: \"))\n",
    "s=\" \".join(l)\n",
    "print(f\"Your string is: {s}\")"
   ]
  },
  {
   "cell_type": "code",
   "execution_count": null,
   "id": "303b0448",
   "metadata": {
    "id": "303b0448",
    "outputId": "b1344486-80ff-4f19-d2a3-6e13e7aac3fe"
   },
   "outputs": [
    {
     "name": "stdout",
     "output_type": "stream",
     "text": [
      "Enter a string: Hi I am learning Python.\n",
      "Output:  Hi_I_am_learning_Python.\n"
     ]
    }
   ],
   "source": [
    "#16. Convert a string where words are separated by spaces to one where words are separated by underscores\n",
    "s=input(\"Enter a string: \")\n",
    "s1=s.replace(\" \",\"_\")\n",
    "print(\"Output: \",s1)"
   ]
  },
  {
   "cell_type": "code",
   "execution_count": null,
   "id": "db69f3c0",
   "metadata": {
    "id": "db69f3c0",
    "outputId": "461559c4-17e5-4b8c-8ed4-2c00be29674b"
   },
   "outputs": [
    {
     "name": "stdout",
     "output_type": "stream",
     "text": [
      "Enter a string: Hi I am learning python.\n",
      "Enter a word or a phrase: hi\n",
      "The given string starts with hi\n"
     ]
    }
   ],
   "source": [
    "#17. Check if a string starts with a specific word or phrase\n",
    "s=input(\"Enter a string: \")\n",
    "sub=input(\"Enter a word or a phrase: \")\n",
    "if(s.startswith(sub) or s.startswith(sub.title())):\n",
    "    print(\"The given string starts with {}\".format(sub))\n",
    "else:\n",
    "    print(\"The given string doesn't start with {}\".format(sub))"
   ]
  },
  {
   "cell_type": "code",
   "execution_count": null,
   "id": "aae68dae",
   "metadata": {
    "id": "aae68dae",
    "outputId": "60043b46-8e8d-4a79-d901-230c0e4ba28b"
   },
   "outputs": [
    {
     "name": "stdout",
     "output_type": "stream",
     "text": [
      "Enter a string: Hi I am learning Python\n",
      "Enter a word or a phrase: python\n",
      "The given string ends with python\n"
     ]
    }
   ],
   "source": [
    "#18. Check if a string ends with a specific word or phrase\n",
    "s=input(\"Enter a string: \")\n",
    "sub=input(\"Enter a word or a phrase: \")\n",
    "if(s.endswith(sub) or s.endswith(sub.title())):\n",
    "    print(\"The given string ends with {}\".format(sub))\n",
    "else:\n",
    "    print(\"The given string doesn't end with {}\".format(sub))"
   ]
  },
  {
   "cell_type": "code",
   "execution_count": null,
   "id": "d5cb4cb0",
   "metadata": {
    "id": "d5cb4cb0",
    "outputId": "f7589177-988a-4a8b-d083-68d860262105"
   },
   "outputs": [
    {
     "name": "stdout",
     "output_type": "stream",
     "text": [
      "Enter a string: hello world\n",
      "Output: Hello World\n"
     ]
    }
   ],
   "source": [
    "#19. Convert a string to title case\n",
    "s=input(\"Enter a string: \")\n",
    "s1=s.title()\n",
    "print(\"Output:\",s1)"
   ]
  },
  {
   "cell_type": "code",
   "execution_count": null,
   "id": "dbd22995",
   "metadata": {
    "id": "dbd22995",
    "outputId": "d2c27e82-00ec-4bdb-9c88-3a07a5558d83"
   },
   "outputs": [
    {
     "name": "stdout",
     "output_type": "stream",
     "text": [
      "Enter a string: Hi I am learning python\n",
      "The longest word present in the given string is: \"learning\"\n"
     ]
    }
   ],
   "source": [
    "#20. Find the longest word in a string\n",
    "s=input(\"Enter a string: \")\n",
    "l=s.split()\n",
    "lock=\"\"\n",
    "for i in l:\n",
    "    if(len(lock)<len(i)):\n",
    "        lock=i\n",
    "print(\"The longest word present in the given string is: \\\"{}\\\"\".format(lock))"
   ]
  },
  {
   "cell_type": "code",
   "execution_count": null,
   "id": "0fba1121",
   "metadata": {
    "id": "0fba1121",
    "outputId": "71aa417f-5261-4121-f5aa-dcf568784e53"
   },
   "outputs": [
    {
     "name": "stdout",
     "output_type": "stream",
     "text": [
      "Enter a string: Hi I am learning python\n",
      "The longest word present in the given string is: \"I\"\n"
     ]
    }
   ],
   "source": [
    "#21. Find the shortest word in a string\n",
    "s=input(\"Enter a string: \")\n",
    "l=s.split()\n",
    "lock=l[0]\n",
    "for i in l:\n",
    "    if(len(lock)>len(i)):\n",
    "        lock=i\n",
    "print(\"The longest word present in the given string is: \\\"{}\\\"\".format(lock))"
   ]
  },
  {
   "cell_type": "code",
   "execution_count": null,
   "id": "7dc63fdf",
   "metadata": {
    "id": "7dc63fdf",
    "outputId": "857bc6c7-1391-4ba8-f0ec-10d98f3fd477"
   },
   "outputs": [
    {
     "name": "stdout",
     "output_type": "stream",
     "text": [
      "Enter a string: Hi I am learning pyhton\n",
      "Output: pyhton learning am I Hi\n"
     ]
    }
   ],
   "source": [
    "#22. Reverse the order of words in a string\n",
    "s=input(\"Enter a string: \")\n",
    "l,s1=s.split(),\"\"\n",
    "for i in range(len(l)-1,-1,-1):\n",
    "    if(i==0):\n",
    "        s1=s1+l[i]\n",
    "    else:\n",
    "        s1=s1+l[i]+\" \"\n",
    "print(\"Output:\",s1)"
   ]
  },
  {
   "cell_type": "code",
   "execution_count": null,
   "id": "0b26bcab",
   "metadata": {
    "id": "0b26bcab",
    "outputId": "7bb48a42-c934-40d0-cc5b-6365197d8585"
   },
   "outputs": [
    {
     "name": "stdout",
     "output_type": "stream",
     "text": [
      "Enter a alphanumeric string: subhajit8801\n",
      "Input string is alphanumeric\n"
     ]
    }
   ],
   "source": [
    "#23. Check if a string is alphanumeric\n",
    "s=input(\"Enter a alphanumeric string: \")\n",
    "if(s.isalnum()):\n",
    "    print(\"Input string is alphanumeric\")\n",
    "else:\n",
    "    print(\"Input string is not alphanumeric\")"
   ]
  },
  {
   "cell_type": "code",
   "execution_count": 37,
   "id": "96c5fd87",
   "metadata": {
    "colab": {
     "base_uri": "https://localhost:8080/"
    },
    "executionInfo": {
     "elapsed": 5641,
     "status": "ok",
     "timestamp": 1703863741009,
     "user": {
      "displayName": "AKASH HALDER",
      "userId": "15599268396319366783"
     },
     "user_tz": -330
    },
    "id": "96c5fd87",
    "outputId": "6ce5ba41-d9d0-4494-e57a-42af21139b4e"
   },
   "outputs": [
    {
     "name": "stdout",
     "output_type": "stream",
     "text": [
      "Enter a string: subhajit8801@gmail.com\n",
      "Output: 8801\n"
     ]
    }
   ],
   "source": [
    "#24. Extract all digits from a string\n",
    "s=input(\"Enter a string: \")\n",
    "s1=\"\"\n",
    "for i in s:\n",
    "    if(i.isdigit()):\n",
    "        s1=s1+i\n",
    "print(\"Output:\",s1)"
   ]
  },
  {
   "cell_type": "code",
   "execution_count": 38,
   "id": "5207fd18",
   "metadata": {
    "colab": {
     "base_uri": "https://localhost:8080/"
    },
    "executionInfo": {
     "elapsed": 5125,
     "status": "ok",
     "timestamp": 1703863779047,
     "user": {
      "displayName": "AKASH HALDER",
      "userId": "15599268396319366783"
     },
     "user_tz": -330
    },
    "id": "5207fd18",
    "outputId": "26229e68-f8a7-4cce-9895-4cd220c95e67"
   },
   "outputs": [
    {
     "name": "stdout",
     "output_type": "stream",
     "text": [
      "Enter a string: subhajit8801@gmail.com\n",
      "Output: subhajitgmailcom\n"
     ]
    }
   ],
   "source": [
    "#25. Extract all alphabets from a string\n",
    "s=input(\"Enter a string: \")\n",
    "s1=\"\"\n",
    "for i in s:\n",
    "    if(i.isalpha()):\n",
    "        s1=s1+i\n",
    "print(\"Output:\",s1)"
   ]
  },
  {
   "cell_type": "code",
   "execution_count": null,
   "id": "e08c2fdb",
   "metadata": {
    "id": "e08c2fdb",
    "outputId": "37060290-2911-438d-af78-7fc322d05f51"
   },
   "outputs": [
    {
     "name": "stdout",
     "output_type": "stream",
     "text": [
      "Enter a string: Hi I am learning Python.\n",
      "Number of uppercase characters in the given string is: 3\n"
     ]
    }
   ],
   "source": [
    "#26. Count the number of uppercase letters in a string\n",
    "s=input(\"Enter a string: \")\n",
    "count=0\n",
    "for i in s:\n",
    "    if(i.isupper()):\n",
    "        count+=1\n",
    "print(\"Number of uppercase characters in the given string is:\",count)"
   ]
  },
  {
   "cell_type": "code",
   "execution_count": null,
   "id": "066abad4",
   "metadata": {
    "id": "066abad4",
    "outputId": "c66fc6ff-b489-46c9-ac91-a7e0642cadf1"
   },
   "outputs": [
    {
     "name": "stdout",
     "output_type": "stream",
     "text": [
      "Enter a string: Hi I am learning Python.\n",
      "Number of uppercase characters in the given string is: 16\n"
     ]
    }
   ],
   "source": [
    "#27. Count the number of lowercase letters in a string.\n",
    "s=input(\"Enter a string: \")\n",
    "count=0\n",
    "for i in s:\n",
    "    if(i.islower()):\n",
    "        count+=1\n",
    "print(\"Number of uppercase characters in the given string is:\",count)"
   ]
  },
  {
   "cell_type": "code",
   "execution_count": null,
   "id": "f7b74f87",
   "metadata": {
    "id": "f7b74f87",
    "outputId": "df790a96-3939-4827-9d25-b72693ba2d5a"
   },
   "outputs": [
    {
     "name": "stdout",
     "output_type": "stream",
     "text": [
      "Enter a string: Hi I am learning Python.\n",
      "Output: hI i AM LEARNING pYTHON.\n"
     ]
    }
   ],
   "source": [
    "#28. Swap the case of each character in a string\n",
    "s=input(\"Enter a string: \")\n",
    "s1=s.swapcase()\n",
    "print(\"Output:\",s1)"
   ]
  },
  {
   "cell_type": "code",
   "execution_count": 48,
   "id": "6cca0258",
   "metadata": {
    "colab": {
     "base_uri": "https://localhost:8080/"
    },
    "executionInfo": {
     "elapsed": 13366,
     "status": "ok",
     "timestamp": 1703864719952,
     "user": {
      "displayName": "AKASH HALDER",
      "userId": "15599268396319366783"
     },
     "user_tz": -330
    },
    "id": "6cca0258",
    "outputId": "7e94e3db-aae9-4afb-83ed-e589611e7439"
   },
   "outputs": [
    {
     "name": "stdout",
     "output_type": "stream",
     "text": [
      "Enter a string: Hi, I am learning Python.\n",
      "Enter the word you want to eliminate: hi\n",
      "\"hi\" is removed.\n",
      "After removing the word: , I am learning Python.\n"
     ]
    }
   ],
   "source": [
    "#29. Remove a specific word from a string\n",
    "import re\n",
    "s=input(\"Enter a string: \")\n",
    "s1=input(\"Enter the word you want to eliminate: \")\n",
    "x=re.compile(r\"\\b({})\\b\".format(s1),re.IGNORECASE).sub(s2,s)\n",
    "if s==x:\n",
    "  print(f'\"{s1}\" is not present in the string.')\n",
    "else:\n",
    "  print(f'\"{s1}\" is removed.\\nAfter removing the word: {x}')"
   ]
  },
  {
   "cell_type": "code",
   "execution_count": null,
   "id": "f3ea4378",
   "metadata": {
    "id": "f3ea4378",
    "outputId": "42870d1f-b345-4c0f-b672-28458037a790"
   },
   "outputs": [
    {
     "name": "stdout",
     "output_type": "stream",
     "text": [
      "Enter a email address:subhajit8801@gmail.com\n",
      "Valid email address!\n"
     ]
    }
   ],
   "source": [
    "#30.Check if a string is a valid email address\n",
    "s=input(\"Enter a email address:\")\n",
    "if(s.find(\"@gmail.com\")!=-1 or s.find(\"@yahoo.com\")!=-1 or s.find(\"@hotmail.com\")!=-1):\n",
    "    print(\"Valid email address!\")\n",
    "else:\n",
    "    print(\"Invalid email address!\")"
   ]
  },
  {
   "cell_type": "code",
   "execution_count": null,
   "id": "0ede415c",
   "metadata": {
    "id": "0ede415c",
    "outputId": "255484d4-9241-4619-d651-0fd0c199e1bb"
   },
   "outputs": [
    {
     "name": "stdout",
     "output_type": "stream",
     "text": [
      "Enter an e-mail id: xyz@hotmail.com\n",
      "User name: xyz\n"
     ]
    }
   ],
   "source": [
    "#31.Extracting the user name from an email id\n",
    "email=input(\"Enter an e-mail id: \")\n",
    "if(email.find(\"@gmail.com\")!=-1 or email.find(\"@yahoo.com\")!=-1 or email.find(\"@hotmail.com\")!=-1):\n",
    "    l=email.split(\"@\")\n",
    "    print(f\"User name: {l[0]}\")\n",
    "else:\n",
    "    print(\"You have given an invalid email\")"
   ]
  },
  {
   "cell_type": "code",
   "execution_count": null,
   "id": "21fb5f63",
   "metadata": {
    "id": "21fb5f63",
    "outputId": "f7691081-b2e4-4bc9-fb66-5a292150d281"
   },
   "outputs": [
    {
     "name": "stdout",
     "output_type": "stream",
     "text": [
      "Enter an e-mail id: subhajit@gmail.com\n",
      "Domain name: gmail.com\n"
     ]
    }
   ],
   "source": [
    "#32.extracting the domain name from an email id\n",
    "email=input(\"Enter an e-mail id: \")\n",
    "if(email.find(\"@gmail.com\")!=-1 or s.find(\"@yahoo.com\")!=-1 or s.find(\"@hotmail.com\")!=-1):\n",
    "    l=email.split(\"@\")\n",
    "    print(f\"Domain name: {l[1]}\")\n",
    "else:\n",
    "    print(\"Invalid email id\")"
   ]
  },
  {
   "cell_type": "code",
   "execution_count": null,
   "id": "951b3fb4",
   "metadata": {
    "id": "951b3fb4",
    "outputId": "489eb825-0ab3-4a44-c642-df0923f5989c"
   },
   "outputs": [
    {
     "name": "stdout",
     "output_type": "stream",
     "text": [
      "Enter a string:         Hi     I  am learning     python \n",
      "Output: Hi I am learning python\n"
     ]
    }
   ],
   "source": [
    "#33.replacing multiple spaces in a string with a single space\n",
    "s=input(\"Enter a string: \")\n",
    "l=s.split()\n",
    "s1=\" \".join(l)\n",
    "print(\"Output:\",s1)"
   ]
  },
  {
   "cell_type": "code",
   "execution_count": 49,
   "id": "d169890f",
   "metadata": {
    "colab": {
     "base_uri": "https://localhost:8080/"
    },
    "executionInfo": {
     "elapsed": 4210,
     "status": "ok",
     "timestamp": 1703864987476,
     "user": {
      "displayName": "AKASH HALDER",
      "userId": "15599268396319366783"
     },
     "user_tz": -330
    },
    "id": "d169890f",
    "outputId": "c372a7ac-8754-4b5e-e4d5-9dcd0bfb3e65"
   },
   "outputs": [
    {
     "name": "stdout",
     "output_type": "stream",
     "text": [
      "Enter an URL: https://www.python.org/\n",
      "Valid URL\n"
     ]
    }
   ],
   "source": [
    "#34. Check if a string is a valid URL\n",
    "url=input(\"Enter an URL: \")\n",
    "if(url.startswith(\"https://\") or url.startswith(\"http://\")):\n",
    "    print(\"Valid URL\")\n",
    "else:\n",
    "    print(\"Invalid URL\")"
   ]
  },
  {
   "cell_type": "code",
   "execution_count": 50,
   "id": "2e608872",
   "metadata": {
    "colab": {
     "base_uri": "https://localhost:8080/"
    },
    "executionInfo": {
     "elapsed": 8660,
     "status": "ok",
     "timestamp": 1703865115767,
     "user": {
      "displayName": "AKASH HALDER",
      "userId": "15599268396319366783"
     },
     "user_tz": -330
    },
    "id": "2e608872",
    "outputId": "8995d6c8-3b3e-48e5-9820-e4303738fa74"
   },
   "outputs": [
    {
     "name": "stdout",
     "output_type": "stream",
     "text": [
      "Enter an URL: https://www.python.org/\n",
      "Protocol of the given url is: https\n"
     ]
    }
   ],
   "source": [
    "#35. Extract the protocol (http or https) from a URL string\n",
    "url=input(\"Enter an URL: \")\n",
    "if(url.startswith(\"https://\") or url.startswith(\"http://\")):\n",
    "    l=url.split(\":\")\n",
    "    print(f\"Protocol of the given url is: {l[0]}\")\n",
    "else:\n",
    "    print(\"You have entered an invalid URL\")"
   ]
  },
  {
   "cell_type": "code",
   "execution_count": 51,
   "id": "97de0af9",
   "metadata": {
    "colab": {
     "base_uri": "https://localhost:8080/"
    },
    "executionInfo": {
     "elapsed": 3465,
     "status": "ok",
     "timestamp": 1703865236003,
     "user": {
      "displayName": "AKASH HALDER",
      "userId": "15599268396319366783"
     },
     "user_tz": -330
    },
    "id": "97de0af9",
    "outputId": "30d68e54-d5ea-41e8-dc45-da703100db4c"
   },
   "outputs": [
    {
     "name": "stdout",
     "output_type": "stream",
     "text": [
      "Enter a string value: Abbreviation\n",
      "Frequency of 'A' in the given string is: 1\n",
      "Frequency of 'b' in the given string is: 2\n",
      "Frequency of 'r' in the given string is: 1\n",
      "Frequency of 'e' in the given string is: 1\n",
      "Frequency of 'v' in the given string is: 1\n",
      "Frequency of 'i' in the given string is: 2\n",
      "Frequency of 'a' in the given string is: 1\n",
      "Frequency of 't' in the given string is: 1\n",
      "Frequency of 'o' in the given string is: 1\n",
      "Frequency of 'n' in the given string is: 1\n"
     ]
    }
   ],
   "source": [
    "#36. Find the frequency of each character in a string\n",
    "s=input(\"Enter a string value: \")\n",
    "l=[]\n",
    "for i in s:\n",
    "    if i not in l:\n",
    "        print(f\"Frequency of \\'{i}\\' in the given string is: {s.count(i)}\")\n",
    "        l.append(i)"
   ]
  },
  {
   "cell_type": "code",
   "execution_count": 52,
   "id": "a846b907",
   "metadata": {
    "colab": {
     "base_uri": "https://localhost:8080/"
    },
    "executionInfo": {
     "elapsed": 3692,
     "status": "ok",
     "timestamp": 1703865443272,
     "user": {
      "displayName": "AKASH HALDER",
      "userId": "15599268396319366783"
     },
     "user_tz": -330
    },
    "id": "a846b907",
    "outputId": "52b7e57c-d9a4-42e1-9ed5-7eb4c6bbb83b"
   },
   "outputs": [
    {
     "name": "stdout",
     "output_type": "stream",
     "text": [
      "Enter a string value: Subhajit said to me, \"How are you?\"\n",
      "Subhajit said to me How are you\n"
     ]
    }
   ],
   "source": [
    "#37.Remove all punctuation from a string\n",
    "import string\n",
    "s=input(\"Enter a string value: \")\n",
    "#punctuation=[',','.',':',';','?','[',']','(',')','-','/','!',\"\\'\",'\\\"']\n",
    "punctuation=string.punctuation\n",
    "s1=\"\"\n",
    "for i in s:\n",
    "    if i not in punctuation:\n",
    "        s1=s1+i\n",
    "print(s1)"
   ]
  },
  {
   "cell_type": "code",
   "execution_count": 54,
   "id": "0d5e8c13",
   "metadata": {
    "colab": {
     "base_uri": "https://localhost:8080/"
    },
    "executionInfo": {
     "elapsed": 4555,
     "status": "ok",
     "timestamp": 1703865511811,
     "user": {
      "displayName": "AKASH HALDER",
      "userId": "15599268396319366783"
     },
     "user_tz": -330
    },
    "id": "0d5e8c13",
    "outputId": "69414ae3-3c10-4106-bf33-889641990483"
   },
   "outputs": [
    {
     "name": "stdout",
     "output_type": "stream",
     "text": [
      "Enter a string: 6879956353\n",
      "Given string contains only digits.\n"
     ]
    }
   ],
   "source": [
    "#38. Check if a string contains only digits\n",
    "s=input(\"Enter a string: \")\n",
    "if(s.isdigit()):\n",
    "    print(\"Given string contains only digits.\")\n",
    "else:\n",
    "    print(\"Given string doesn't contain only digits.\")"
   ]
  },
  {
   "cell_type": "code",
   "execution_count": 57,
   "id": "fjdsNP91UGww",
   "metadata": {
    "colab": {
     "base_uri": "https://localhost:8080/"
    },
    "executionInfo": {
     "elapsed": 3899,
     "status": "ok",
     "timestamp": 1703865911861,
     "user": {
      "displayName": "AKASH HALDER",
      "userId": "15599268396319366783"
     },
     "user_tz": -330
    },
    "id": "fjdsNP91UGww",
    "outputId": "f4d7965d-b1ed-425d-dce7-37ba6c495106"
   },
   "outputs": [
    {
     "name": "stdout",
     "output_type": "stream",
     "text": [
      "Enter a string: python\n",
      "Given string contains only alphabets.\n"
     ]
    }
   ],
   "source": [
    "#39. Check if a string contains only alphabets.\n",
    "s=input(\"Enter a string: \")\n",
    "if(s.isalpha()):\n",
    "    print(\"Given string contains only alphabets.\")\n",
    "else:\n",
    "    print(\"Given string doesn't contain only alphabets.\")"
   ]
  },
  {
   "cell_type": "code",
   "execution_count": 59,
   "id": "5y-kEIRkUfLv",
   "metadata": {
    "colab": {
     "base_uri": "https://localhost:8080/"
    },
    "executionInfo": {
     "elapsed": 5378,
     "status": "ok",
     "timestamp": 1703866051881,
     "user": {
      "displayName": "AKASH HALDER",
      "userId": "15599268396319366783"
     },
     "user_tz": -330
    },
    "id": "5y-kEIRkUfLv",
    "outputId": "8e000dae-4313-48c2-e0ac-ca84a615379f"
   },
   "outputs": [
    {
     "name": "stdout",
     "output_type": "stream",
     "text": [
      "Enter a string: Python\n",
      "After converingt the string to a list of characters: ['P', 'y', 't', 'h', 'o', 'n']\n"
     ]
    }
   ],
   "source": [
    "#40. convert a string to a list of characters.\n",
    "s=input(\"Enter a string: \")\n",
    "print(f\"After converingt the string to a list of characters: {list(s)}\")"
   ]
  },
  {
   "cell_type": "code",
   "execution_count": null,
   "id": "c47970dc",
   "metadata": {
    "id": "c47970dc",
    "outputId": "beae1e2a-5097-4614-f514-0f5c0b78e6b0"
   },
   "outputs": [
    {
     "name": "stdout",
     "output_type": "stream",
     "text": [
      "Enter a word: Listen\n",
      "Enter another word: Silent\n",
      "Listen and Silent are anagrams.\n"
     ]
    }
   ],
   "source": [
    "#41.Check if two strings are anagrams\n",
    "s1=input(\"Enter a word: \")\n",
    "s2=input(\"Enter another word: \")\n",
    "if(sorted(s1.lower())==sorted(s2.lower())):\n",
    "    print(f\"{s1} and {s2} are anagrams.\")\n",
    "else:\n",
    "    print(f\"{s1} and {s2} aren't anagrams.\")"
   ]
  },
  {
   "cell_type": "code",
   "execution_count": null,
   "id": "4e55daca",
   "metadata": {
    "id": "4e55daca",
    "outputId": "0a5dd9ae-2d47-4027-cc87-22898df470dc"
   },
   "outputs": [
    {
     "name": "stdout",
     "output_type": "stream",
     "text": [
      "Enter a plain text: Hello World!\n",
      "Cipher text of the given plain text is: Tqxx{ c{~xp-\n"
     ]
    }
   ],
   "source": [
    "#42.Encode a string using a Caesar cipher\n",
    "pt=input(\"Enter a plain text: \")\n",
    "shift=len(pt)%26\n",
    "if shift==0:\n",
    "    shift+=1\n",
    "ct=\"\"\n",
    "for i in pt:\n",
    "    if i.isspace():\n",
    "        ct=ct+\" \"\n",
    "    else:\n",
    "        ct=ct+chr(ord(i)+shift)\n",
    "print(\"Cipher text of the given plain text is:\",ct)"
   ]
  },
  {
   "cell_type": "code",
   "execution_count": null,
   "id": "283247c7",
   "metadata": {
    "id": "283247c7",
    "outputId": "fd0360f6-0b17-4f83-dabd-b4214ab91e40",
    "scrolled": false
   },
   "outputs": [
    {
     "name": "stdout",
     "output_type": "stream",
     "text": [
      "Enter the cipher text: Tqxx{ c{~xp-\n",
      "Plain text of the given cipher text is: Hello World!\n"
     ]
    }
   ],
   "source": [
    "#43.Decode a Caesar cipher encoded string\n",
    "ct=input(\"Enter the cipher text: \")\n",
    "shift=len(ct)%26\n",
    "if shift==0:\n",
    "    shift+=1\n",
    "pt=\"\"\n",
    "for i in ct:\n",
    "    if i.isspace():\n",
    "        pt=pt+\" \"\n",
    "    else:\n",
    "        pt=pt+chr(ord(i)-shift)\n",
    "print(\"Plain text of the given cipher text is:\",pt)"
   ]
  },
  {
   "cell_type": "code",
   "execution_count": null,
   "id": "93fa03be",
   "metadata": {
    "id": "93fa03be",
    "outputId": "126f24fa-6fee-4160-cf67-aa7794f30d24"
   },
   "outputs": [
    {
     "name": "stdout",
     "output_type": "stream",
     "text": [
      "Enter a string: Hi he is is a good good boy\n",
      "The most frequent words in the given string are: \n",
      "is=2 times\n",
      "good=2 times\n"
     ]
    }
   ],
   "source": [
    "#44. Find the most frequent word in a string\n",
    "s=input(\"Enter a string: \")\n",
    "l=s.split()\n",
    "d={}\n",
    "for i in l:\n",
    "    if i in d.keys():\n",
    "        d[i]=d[i]+1\n",
    "    else:\n",
    "        d[i]=1\n",
    "m=0\n",
    "for i,j in d.items():\n",
    "    if(m<j):\n",
    "        m=j\n",
    "print(\"The most frequent words in the given string are: \")\n",
    "for i,j in d.items():\n",
    "    if(m==j):\n",
    "        print(\"{}={} times\".format(i,j))"
   ]
  },
  {
   "cell_type": "code",
   "execution_count": null,
   "id": "4a9f7eec",
   "metadata": {
    "id": "4a9f7eec",
    "outputId": "79266348-18f9-4b17-db66-42e2ec7edd49"
   },
   "outputs": [
    {
     "name": "stdout",
     "output_type": "stream",
     "text": [
      "Enter a string: Hi he is is a good good boy\n",
      "All the unique words present in the given string: Hi he is a good boy "
     ]
    }
   ],
   "source": [
    "#45. Find all unique words in a string\n",
    "s=input(\"Enter a string: \")\n",
    "l=s.split()\n",
    "l1=[]\n",
    "print(\"All the unique words present in the given string:\",end=\" \")\n",
    "for i in l:\n",
    "    if i not in l1:\n",
    "        l1.append(i)\n",
    "        print(i,end=\" \")"
   ]
  },
  {
   "cell_type": "code",
   "execution_count": 62,
   "id": "xGENV4ksWEzf",
   "metadata": {
    "colab": {
     "base_uri": "https://localhost:8080/"
    },
    "executionInfo": {
     "elapsed": 55514,
     "status": "ok",
     "timestamp": 1703866864131,
     "user": {
      "displayName": "AKASH HALDER",
      "userId": "15599268396319366783"
     },
     "user_tz": -330
    },
    "id": "xGENV4ksWEzf",
    "outputId": "62a140f5-0a75-49c9-9ea5-4488f260ea85"
   },
   "outputs": [
    {
     "name": "stdout",
     "output_type": "stream",
     "text": [
      "Enter a string: AAbcdEIhffUklO\n",
      "The number of syllables in the string: 4\n"
     ]
    }
   ],
   "source": [
    "# 46. count the number of syllables in a string.\n",
    "s=input(\"Enter a string: \")\n",
    "v=list(\"AEIOU\")\n",
    "f,count=True,0\n",
    "for x in s:\n",
    "  if x.upper() in v and f:\n",
    "    count+=1\n",
    "    f=False\n",
    "  else:f=True\n",
    "print(f\"The number of syllables in the string: {count}\")"
   ]
  },
  {
   "cell_type": "code",
   "execution_count": null,
   "id": "e42ca1c1",
   "metadata": {
    "id": "e42ca1c1",
    "outputId": "c84aa49b-0ca5-4f56-d95c-279f0f3f3cab"
   },
   "outputs": [
    {
     "name": "stdout",
     "output_type": "stream",
     "text": [
      "Enter a string: Hi my name is $ubho@7718#\n",
      "Your given string countains special character(s): $ @ # "
     ]
    }
   ],
   "source": [
    "#47. Check if a string contains any special characters\n",
    "s=input(\"Enter a string: \")\n",
    "if(s.isalnum()):\n",
    "    print(\"Your given string doesn't countain special characters.\")\n",
    "else:\n",
    "    print(\"Your given string countains special character(s): \",end=\"\")\n",
    "    for i in s:\n",
    "        if not i.isalnum() and not i.isspace():\n",
    "            print(i,end=\" \")"
   ]
  },
  {
   "cell_type": "code",
   "execution_count": null,
   "id": "78f69892",
   "metadata": {
    "id": "78f69892",
    "outputId": "7fdf7cb7-17c9-4a45-8482-e2aa3c7ec0cc"
   },
   "outputs": [
    {
     "name": "stdout",
     "output_type": "stream",
     "text": [
      "Enter a string of words: Hi learning Python is so easy\n",
      "Enter the position of the word, you want to remove: 3\n",
      "Required output: Hi learning is so easy\n"
     ]
    }
   ],
   "source": [
    "#48.Remove the nth word from a string\n",
    "s=input(\"Enter a string of words: \")\n",
    "l=s.split()\n",
    "n=int(input(\"Enter the position of the word, you want to remove: \"))\n",
    "l.remove(l[n-1])\n",
    "output=\" \".join(l)\n",
    "print(\"Required output:\",output)"
   ]
  },
  {
   "cell_type": "code",
   "execution_count": null,
   "id": "7eebca21",
   "metadata": {
    "id": "7eebca21",
    "outputId": "0755dbf6-d77b-42ef-f8fd-edac65059dcb"
   },
   "outputs": [
    {
     "name": "stdout",
     "output_type": "stream",
     "text": [
      "Enter a string of words: Hi learning Python is easy\n",
      "Enter the new word you want to insert to the existing sentence: so\n",
      "Enter the position where you want to insert the word: 5\n",
      "Required out: Hi learning Python is so easy\n"
     ]
    }
   ],
   "source": [
    "#49.Insert a word at the nth position in a string\n",
    "s=input(\"Enter a string of words: \")\n",
    "l=s.split()\n",
    "word=input(\"Enter the new word you want to insert to the existing sentence: \")\n",
    "n=int(input(\"Enter the position where you want to insert the word: \"))\n",
    "l.insert(n-1,word)\n",
    "output=\" \".join(l)\n",
    "print(\"Required out:\",output)"
   ]
  },
  {
   "cell_type": "code",
   "execution_count": 69,
   "id": "10fec32c",
   "metadata": {
    "colab": {
     "base_uri": "https://localhost:8080/"
    },
    "executionInfo": {
     "elapsed": 4724,
     "status": "ok",
     "timestamp": 1703868023747,
     "user": {
      "displayName": "AKASH HALDER",
      "userId": "15599268396319366783"
     },
     "user_tz": -330
    },
    "id": "10fec32c",
    "outputId": "c5f81939-8d5f-497a-a02e-b647fe96690b"
   },
   "outputs": [
    {
     "name": "stdout",
     "output_type": "stream",
     "text": [
      "Enter a csv string: Orange,Apple,Key,Name,Age\n",
      "Orange\n",
      "Apple\n",
      "Key\n",
      "Name\n",
      "Age\n",
      "After converting the CSV string to a list of lists: [['Orange'], ['Apple'], ['Key'], ['Name'], ['Age']]\n"
     ]
    }
   ],
   "source": [
    "#50.Convert a CSV string to a list of lists.\n",
    "s=input(\"Enter a csv string: \")\n",
    "l=[]\n",
    "for x in s.split(','):\n",
    "  print(x)\n",
    "  l.append([x])\n",
    "print(f\"After converting the CSV string to a list of lists: {l}\")"
   ]
  },
  {
   "cell_type": "markdown",
   "id": "Iq4gtIq8fSkM",
   "metadata": {
    "id": "Iq4gtIq8fSkM"
   },
   "source": [
    "# List"
   ]
  },
  {
   "cell_type": "code",
   "execution_count": null,
   "id": "358f6444",
   "metadata": {
    "id": "358f6444",
    "outputId": "a068937d-4680-407b-d7e5-3da0bc5be1bf"
   },
   "outputs": [
    {
     "name": "stdout",
     "output_type": "stream",
     "text": [
      "Contents of the list: [1, 2, 3, 4, 5, 6, 7, 8, 9, 10]\n"
     ]
    }
   ],
   "source": [
    "#Create a list with integers from 1 to 10\n",
    "l=list(range(1,11))\n",
    "print(\"Contents of the list:\",l)"
   ]
  },
  {
   "cell_type": "code",
   "execution_count": null,
   "id": "7ac6cad9",
   "metadata": {
    "id": "7ac6cad9",
    "outputId": "45edfce6-6a7b-45ed-e61e-13a05291af44"
   },
   "outputs": [
    {
     "name": "stdout",
     "output_type": "stream",
     "text": [
      "Enter a list of items: [1,2,3,4,5,'subho','sardar']\n",
      "Length of the list is: 7\n"
     ]
    }
   ],
   "source": [
    "#Find the length of a list without using the `len()` function\n",
    "l=eval(input(\"Enter a list of items: \"))\n",
    "c=0\n",
    "for i in l:\n",
    "   c+=1\n",
    "print(\"Length of the list is:\",c)"
   ]
  },
  {
   "cell_type": "code",
   "execution_count": null,
   "id": "386fe2ba",
   "metadata": {
    "id": "386fe2ba",
    "outputId": "a423d76b-4507-44b9-de9f-be97c1f9768b"
   },
   "outputs": [
    {
     "name": "stdout",
     "output_type": "stream",
     "text": [
      "Enter a list of items: [1,2,3,4,'python']\n",
      "Initial lis: [1, 2, 3, 4, 'python']\n",
      "Enter the new item you want to add to your exixting list: is easy\n",
      "Final list: [1, 2, 3, 4, 'python', 'is easy']\n"
     ]
    }
   ],
   "source": [
    "#Append an element to the end of a list\n",
    "l=eval(input(\"Enter a list of items: \"))\n",
    "print(\"Initial lis:\",l)\n",
    "item=input(\"Enter the new item you want to add to your exixting list: \")\n",
    "if item.isdigit():\n",
    "    l.append(int(item))\n",
    "elif item.isspace() or item==\"\":\n",
    "    print(\"No input!\")\n",
    "else:\n",
    "    l.append(item)\n",
    "print(\"Final list:\",l)"
   ]
  },
  {
   "cell_type": "code",
   "execution_count": null,
   "id": "d1a9d492",
   "metadata": {
    "id": "d1a9d492",
    "outputId": "99496dc4-5096-40af-dd2c-d60def688dad"
   },
   "outputs": [
    {
     "name": "stdout",
     "output_type": "stream",
     "text": [
      "Enter the number of elements required: 5\n",
      "Enter element no.1: 10\n",
      "Enter element no.2: 20\n",
      "Enter element no.3: 30\n",
      "Enter element no.4: 40\n",
      "Enter element no.5: python\n",
      "Initial list: [10, 20, 30, 40, 'python']\n",
      "Enter a new element that you want to add to the existing list: java\n",
      "Enter your desired position in the list: 3\n",
      "Final list: [10, 20, 'java', 30, 40, 'python']\n"
     ]
    }
   ],
   "source": [
    "#Insert an element at a specific index in a list\n",
    "l=[]\n",
    "n=int(input(\"Enter the number of elements required: \"))\n",
    "for i in range(n):\n",
    "    item=input(f\"Enter element no.{i+1}: \")\n",
    "    if item.isdigit():\n",
    "        l.append(int(item))\n",
    "    else:\n",
    "        l.append(item)\n",
    "print(\"Initial list:\",l)\n",
    "item=input(\"Enter a new element that you want to add to the existing list: \")\n",
    "index=int(input(\"Enter your desired position in the list: \"))\n",
    "if item.isdigit():\n",
    "    l.insert(index-1,int(item))\n",
    "else:\n",
    "    l.insert(index-1,item)\n",
    "print(\"Final list:\",l)"
   ]
  },
  {
   "cell_type": "code",
   "execution_count": null,
   "id": "36a314e8",
   "metadata": {
    "id": "36a314e8",
    "outputId": "fb4bde9b-3e26-4e43-ff9a-672f09feb333"
   },
   "outputs": [
    {
     "name": "stdout",
     "output_type": "stream",
     "text": [
      "Enter the number of elements required: 5\n",
      "Enter element no.1: 10\n",
      "Enter element no.2: 20\n",
      "Enter element no.3: 30\n",
      "Enter element no.4: 40\n",
      "Enter element no.5: python\n",
      "Initial list: [10, 20, 30, 40, 'python']\n",
      "Enter the item you want to remove from the list: 30\n",
      "Final list: [10, 20, 40, 'python']\n"
     ]
    }
   ],
   "source": [
    "#Remove an element from a list by its value\n",
    "l=[]\n",
    "n=int(input(\"Enter the number of elements required: \"))\n",
    "for i in range(n):\n",
    "    item=input(f\"Enter element no.{i+1}: \")\n",
    "    if item.isdigit():\n",
    "        l.append(int(item))\n",
    "    else:\n",
    "        l.append(item)\n",
    "print(\"Initial list:\",l)\n",
    "item=input(\"Enter the item you want to remove from the list: \")\n",
    "if item.isdigit():\n",
    "    item=int(item)\n",
    "if item in l:\n",
    "    l.remove(item)\n",
    "    print(\"Final list:\",l)\n",
    "else:\n",
    "    print(f\"{item} is not present in the given list.\")"
   ]
  },
  {
   "cell_type": "code",
   "execution_count": null,
   "id": "d62a4fc7",
   "metadata": {
    "id": "d62a4fc7",
    "outputId": "4e1a77ce-1a0d-4064-f009-75c555548423"
   },
   "outputs": [
    {
     "name": "stdout",
     "output_type": "stream",
     "text": [
      "Enter the number of elements required: 5\n",
      "Enter element no.1: 10\n",
      "Enter element no.2: 20\n",
      "Enter element no.3: 30\n",
      "Enter element no.4: 40\n",
      "Enter element no.5: python\n",
      "Initial list: [10, 20, 30, 40, 'python']\n",
      "Enter the position of the element that you want to remove from the list: 5\n",
      "Final list: [10, 20, 30, 40]\n"
     ]
    }
   ],
   "source": [
    "#Remove an element from a list by its index\n",
    "l=[]\n",
    "n=int(input(\"Enter the number of elements required: \"))\n",
    "for i in range(n):\n",
    "    item=input(f\"Enter element no.{i+1}: \")\n",
    "    if item.isdigit():\n",
    "        l.append(int(item))\n",
    "    else:\n",
    "        l.append(item)\n",
    "print(\"Initial list:\",l)\n",
    "index=int(input(\"Enter the position of the element that you want to remove from the list: \"))\n",
    "if index>len(l) or index<0:\n",
    "    print(\"Given index value is out of bound in the given list!\")\n",
    "else:\n",
    "    l.remove(l[index-1])\n",
    "    print(\"Final list:\",l)"
   ]
  },
  {
   "cell_type": "code",
   "execution_count": null,
   "id": "88e0dbdc",
   "metadata": {
    "id": "88e0dbdc",
    "outputId": "ba77fda5-1e13-4db8-9bb4-5c03ead3cc86"
   },
   "outputs": [
    {
     "name": "stdout",
     "output_type": "stream",
     "text": [
      "Enter the number of elements required: 5\n",
      "Enter element no.1: 10\n",
      "Enter element no.2: 20\n",
      "Enter element no.3: 30\n",
      "Enter element no.4: 40\n",
      "Enter element no.5: 50\n",
      "Enter the element you are searching for: 40\n",
      "40 is present in the given list\n"
     ]
    }
   ],
   "source": [
    "#Check if an element exists in a list\n",
    "l=[]\n",
    "n=int(input(\"Enter the number of elements required: \"))\n",
    "for i in range(n):\n",
    "    item=input(f\"Enter element no.{i+1}: \")\n",
    "    if item.isdigit():\n",
    "        l.append(int(item))\n",
    "    else:\n",
    "        l.append(item)\n",
    "item=input(\"Enter the element you are searching for: \")\n",
    "if item.isdigit():\n",
    "    item=int(item)\n",
    "if item in l:\n",
    "    print(f\"{item} is present in the given list\")\n",
    "else:\n",
    "     print(f\"{item} isn't present in the given list\")"
   ]
  },
  {
   "cell_type": "code",
   "execution_count": null,
   "id": "7d853fa9",
   "metadata": {
    "id": "7d853fa9",
    "outputId": "9498fe01-788b-471d-8179-d1ff89bab0f7"
   },
   "outputs": [
    {
     "name": "stdout",
     "output_type": "stream",
     "text": [
      "Enter the number of required elements: 5\n",
      "Enter element no.1: 10\n",
      "Enter element no.2: 20\n",
      "Enter element no.3: 30\n",
      "Enter element no.4: python\n",
      "Enter element no.5: java\n",
      "Enter the element you are searching: python\n",
      "python is found at index: 3\n"
     ]
    }
   ],
   "source": [
    "#Find the index of the first occurrence of an element in a list\n",
    "l=[]\n",
    "n=int(input(\"Enter the number of required elements: \"))\n",
    "for i in range(n):\n",
    "    item=input(f\"Enter element no.{i+1}: \")\n",
    "    if item.isdigit():\n",
    "        l.append(int(item))\n",
    "    else:\n",
    "        l.append(item)\n",
    "item=input(\"Enter the element you are searching: \")\n",
    "if item.isdigit():\n",
    "    item=int(item)\n",
    "flag=False\n",
    "for i in range(n):\n",
    "    if item==l[i]:\n",
    "        print(f\"{item} is found at index: {i}\")\n",
    "        flag=True\n",
    "        break\n",
    "if not flag:\n",
    "    print(f\"{item} is not present in the given list.\")"
   ]
  },
  {
   "cell_type": "code",
   "execution_count": null,
   "id": "13b28403",
   "metadata": {
    "id": "13b28403",
    "outputId": "2f4b4659-cbd4-418d-e2ce-ec4fa863772c"
   },
   "outputs": [
    {
     "name": "stdout",
     "output_type": "stream",
     "text": [
      "Enter the number of required elements: 5\n",
      "Enter element no.1: 10\n",
      "Enter element no.2: 20\n",
      "Enter element no.3: 30\n",
      "Enter element no.4: python\n",
      "Enter element no.5: 20\n",
      "Enter the element you are searching: 20\n",
      "Occurence of the 20 in the list is: 2\n"
     ]
    }
   ],
   "source": [
    "#Count the occurrences of an element in a list\n",
    "l=[]\n",
    "n=int(input(\"Enter the number of required elements: \"))\n",
    "for i in range(n):\n",
    "    item=input(f\"Enter element no.{i+1}: \")\n",
    "    if item.isdigit():\n",
    "        l.append(int(item))\n",
    "    else:\n",
    "        l.append(item)\n",
    "item=input(\"Enter the element you are searching: \")\n",
    "if item.isdigit():\n",
    "    item=int(item)\n",
    "print(f\"Occurence of the {item} in the list is: {l.count(item)}\")"
   ]
  },
  {
   "cell_type": "code",
   "execution_count": null,
   "id": "43a29fa1",
   "metadata": {
    "id": "43a29fa1",
    "outputId": "2e361f03-7581-4e2b-eecd-7bb0c9c5177c"
   },
   "outputs": [
    {
     "name": "stdout",
     "output_type": "stream",
     "text": [
      "Enter the number of required elements: 5\n",
      "Enter element no.1: 10\n",
      "Enter element no.2: 20\n",
      "Enter element no.3: 30\n",
      "Enter element no.4: java\n",
      "Enter element no.5: python\n",
      "Reverse of the given list is: ['python', 'java', 30, 20, 10]\n"
     ]
    }
   ],
   "source": [
    "#Reverse the order of elements in a list\n",
    "l=[]\n",
    "n=int(input(\"Enter the number of required elements: \"))\n",
    "for i in range(n):\n",
    "    item=input(f\"Enter element no.{i+1}: \")\n",
    "    if item.isdigit():\n",
    "        l.append(int(item))\n",
    "    else:\n",
    "        l.append(item)\n",
    "l1=[]\n",
    "l1=l[::-1]\n",
    "print(\"Reverse of the given list is:\",l1)"
   ]
  },
  {
   "cell_type": "code",
   "execution_count": null,
   "id": "5a760030",
   "metadata": {
    "id": "5a760030",
    "outputId": "36b73163-b679-43a9-a6e9-796d64fbd711"
   },
   "outputs": [
    {
     "name": "stdout",
     "output_type": "stream",
     "text": [
      "Enter the number of required elements: 5\n",
      "Enter element no.1: 25\n",
      "Enter element no.2: 10\n",
      "Enter element no.3: python\n",
      "Enter element no.4: 12\n",
      "Enter element no.5: java\n",
      "Before sorting: [25, 10, 'python', 12, 'java']\n",
      "After sorting: [10, 12, 25, 'java', 'python']\n"
     ]
    }
   ],
   "source": [
    "#Sort a list in ascending order\n",
    "l=[]\n",
    "l1=[]\n",
    "l2=[]\n",
    "n=int(input(\"Enter the number of required elements: \"))\n",
    "for i in range(n):\n",
    "    item=input(f\"Enter element no.{i+1}: \")\n",
    "    if item.isdigit():\n",
    "        l1.append(int(item))\n",
    "        l.append(int(item))\n",
    "    else:\n",
    "        l2.append(item)\n",
    "        l.append(item)\n",
    "l1.sort()\n",
    "l2.sort()\n",
    "l1.extend(l2)\n",
    "print(\"Before sorting:\",l)\n",
    "print(\"After sorting:\",l1)"
   ]
  },
  {
   "cell_type": "code",
   "execution_count": null,
   "id": "7a95041d",
   "metadata": {
    "id": "7a95041d",
    "outputId": "2e4f8153-0a72-4da1-a5a5-12bd52852f2b"
   },
   "outputs": [
    {
     "name": "stdout",
     "output_type": "stream",
     "text": [
      "Enter the number of required elements: 5\n",
      "Enter element no.1: 3\n",
      "Enter element no.2: java\n",
      "Enter element no.3: 15\n",
      "Enter element no.4: 17\n",
      "Enter element no.5: python\n",
      "Before sorting: [3, 'java', 15, 17, 'python']\n",
      "After sorting: [17, 15, 3, 'python', 'java']\n"
     ]
    }
   ],
   "source": [
    "#Sort a list in descending order\n",
    "l=[]\n",
    "l1=[]\n",
    "l2=[]\n",
    "n=int(input(\"Enter the number of required elements: \"))\n",
    "for i in range(n):\n",
    "    item=input(f\"Enter element no.{i+1}: \")\n",
    "    if item.isdigit():\n",
    "        l1.append(int(item))\n",
    "        l.append(int(item))\n",
    "    else:\n",
    "        l2.append(item)\n",
    "        l.append(item)\n",
    "l1.sort(reverse=True)\n",
    "l2.sort(reverse=True)\n",
    "l1.extend(l2)\n",
    "print(\"Before sorting:\",l)\n",
    "print(\"After sorting:\",l1)"
   ]
  },
  {
   "cell_type": "code",
   "execution_count": null,
   "id": "6e563c9a",
   "metadata": {
    "id": "6e563c9a",
    "outputId": "c6271c20-cc8f-4265-c0f0-f62e9ce7acb9"
   },
   "outputs": [
    {
     "name": "stdout",
     "output_type": "stream",
     "text": [
      "Your desired list: [2, 4, 6, 8, 10, 12, 14, 16, 18, 20]\n"
     ]
    }
   ],
   "source": [
    "#Create a list of even numbers from 1 to 20\n",
    "l=[i for i in range(1,21) if i%2==0]\n",
    "print(\"Your desired list:\",l)"
   ]
  },
  {
   "cell_type": "code",
   "execution_count": null,
   "id": "66524a90",
   "metadata": {
    "id": "66524a90",
    "outputId": "0856f214-c0cc-45cf-9857-2c590aea8d9a"
   },
   "outputs": [
    {
     "name": "stdout",
     "output_type": "stream",
     "text": [
      "Your desired list: [1, 3, 5, 7, 9, 11, 13, 15, 17, 19]\n"
     ]
    }
   ],
   "source": [
    "#Create a list of odd numbers from 1 to 20\n",
    "l=[i for i in range(1,21) if i%2!=0]\n",
    "print(\"Your desired list:\",l)"
   ]
  },
  {
   "cell_type": "code",
   "execution_count": null,
   "id": "5e107b4f",
   "metadata": {
    "id": "5e107b4f",
    "outputId": "8781327b-e5a9-4c75-d488-738d7f4846eb"
   },
   "outputs": [
    {
     "name": "stdout",
     "output_type": "stream",
     "text": [
      "Enter the number of elements required: 5\n",
      "Enter element no.1: 13\n",
      "Enter element no.2: 17\n",
      "Enter element no.3: 19\n",
      "Enter element no.4: 83\n",
      "Enter element no.5: 151\n",
      "Sum of all the given list items is: 283\n"
     ]
    }
   ],
   "source": [
    "#Find the sum of all elements in a list\n",
    "l=[]\n",
    "n=int(input(\"Enter the number of elements required: \"))\n",
    "s=0\n",
    "for i in range(n):\n",
    "    l.append(int(input(f\"Enter element no.{i+1}: \")))\n",
    "    s+=l[i]\n",
    "print(\"Sum of all the given list items is:\",s)"
   ]
  },
  {
   "cell_type": "code",
   "execution_count": null,
   "id": "4c2e9076",
   "metadata": {
    "id": "4c2e9076",
    "outputId": "8f1e54a0-444c-4181-c755-b9a9783952b5"
   },
   "outputs": [
    {
     "name": "stdout",
     "output_type": "stream",
     "text": [
      "Enter the number of elements required: 5\n",
      "Enter element no.1: 19\n",
      "Enter element no.2: 17\n",
      "Enter element no.3: 83\n",
      "Enter element no.4: 151\n",
      "Enter element no.5: 13\n",
      "The maximum list item present in the given list is: 151\n"
     ]
    }
   ],
   "source": [
    "#Find the maximum value in a list\n",
    "l=[]\n",
    "n=int(input(\"Enter the number of elements required: \"))\n",
    "\n",
    "for i in range(n):\n",
    "    l.append(int(input(f\"Enter element no.{i+1}: \")))\n",
    "m=l[0]\n",
    "for i in l:\n",
    "    if m<i:\n",
    "        m=i\n",
    "print(\"The maximum list item present in the given list is:\",m)"
   ]
  },
  {
   "cell_type": "code",
   "execution_count": null,
   "id": "d3e140ed",
   "metadata": {
    "id": "d3e140ed",
    "outputId": "42df0dfb-5e05-48ca-cc6e-684184b4eff6"
   },
   "outputs": [
    {
     "name": "stdout",
     "output_type": "stream",
     "text": [
      "Enter the number of elements required: 5\n",
      "Enter element no.1: 19\n",
      "Enter element no.2: 17\n",
      "Enter element no.3: 72\n",
      "Enter element no.4: 141\n",
      "Enter element no.5: 13\n",
      "The minimum list item present in the given list is: 13\n"
     ]
    }
   ],
   "source": [
    "#Find the minimum value in a list\n",
    "l=[]\n",
    "n=int(input(\"Enter the number of elements required: \"))\n",
    "for i in range(n):\n",
    "    l.append(int(input(f\"Enter element no.{i+1}: \")))\n",
    "m=l[0]\n",
    "for i in l:\n",
    "    if m>i:\n",
    "        m=i\n",
    "print(\"The minimum list item present in the given list is:\",m)"
   ]
  },
  {
   "cell_type": "code",
   "execution_count": null,
   "id": "d22ab703",
   "metadata": {
    "id": "d22ab703",
    "outputId": "461f2afe-e0a3-4fcf-e68c-4ca8a1574cad"
   },
   "outputs": [
    {
     "name": "stdout",
     "output_type": "stream",
     "text": [
      "Your desired list is: [1, 4, 9, 16, 25, 36, 49, 64, 81, 100]\n"
     ]
    }
   ],
   "source": [
    "#Create a list of squares of numbers from 1 to 10\n",
    "l=[i**2 for i in range(1,11)]\n",
    "print(\"Your desired list is:\",l)"
   ]
  },
  {
   "cell_type": "code",
   "execution_count": null,
   "id": "3c70785c",
   "metadata": {
    "id": "3c70785c",
    "outputId": "d9a01a93-af00-4355-fbc3-b4fb74c76728"
   },
   "outputs": [
    {
     "name": "stdout",
     "output_type": "stream",
     "text": [
      "Enter the number of elements required: 6\n",
      "Enter element no.1: 18\n",
      "Enter element no.2: 16\n",
      "Enter element no.3: 15\n",
      "Enter element no.4: 46\n",
      "Enter element no.5: 15\n",
      "Enter element no.6: 21\n",
      "Your input list is: [18, 16, 15, 46, 15, 21]\n"
     ]
    }
   ],
   "source": [
    "#Create a list of random numbers\n",
    "l=[]\n",
    "n=int(input(\"Enter the number of elements required: \"))\n",
    "for i in range(n):\n",
    "    l.append(int(input(f\"Enter element no.{i+1}: \")))\n",
    "print(\"Your input list is:\",l)"
   ]
  },
  {
   "cell_type": "code",
   "execution_count": null,
   "id": "7a000444",
   "metadata": {
    "id": "7a000444",
    "outputId": "ce1c3284-6c99-488b-c4e1-0363bf46357b"
   },
   "outputs": [
    {
     "name": "stdout",
     "output_type": "stream",
     "text": [
      "Enter the number of elements required: 10\n",
      "Enter element no.1: 10\n",
      "Enter element no.2: 20\n",
      "Enter element no.3: 10\n",
      "Enter element no.4: 30\n",
      "Enter element no.5: 10\n",
      "Enter element no.6: py\n",
      "Enter element no.7: py\n",
      "Enter element no.8: jv\n",
      "Enter element no.9: p\n",
      "Enter element no.10: j\n",
      "[10, 20, 30, 'py', 'jv', 'p', 'j']\n"
     ]
    }
   ],
   "source": [
    "#Remove duplicates from a list\n",
    "l=[]\n",
    "n=int(input(\"Enter the number of elements required: \"))\n",
    "for i in range(n):\n",
    "    item=input(f\"Enter element no.{i+1}: \")\n",
    "    if item.isdigit():\n",
    "        l.append(int(item))\n",
    "    else:\n",
    "        l.append(item)\n",
    "unique=[]\n",
    "for i in l:\n",
    "    if i not in unique:\n",
    "        unique.append(i)\n",
    "print(unique)"
   ]
  },
  {
   "cell_type": "code",
   "execution_count": null,
   "id": "00e2c8c5",
   "metadata": {
    "id": "00e2c8c5",
    "outputId": "f7c5bde0-08b4-45de-93e1-4afa5d616b4e"
   },
   "outputs": [
    {
     "name": "stdout",
     "output_type": "stream",
     "text": [
      "Enter the number of elements required for the first list: 5\n",
      "Enter element no.1: 5\n",
      "Enter element no.2: 5\n",
      "Enter element no.3: 5\n",
      "Enter element no.4: 5\n",
      "Enter element no.5: 7\n",
      "Enter the number of elements required for the first list: 4\n",
      "Enter element no.1: 5\n",
      "Enter element no.2: 7\n",
      "Enter element no.3: 7\n",
      "Enter element no.4: 5\n",
      "First list: [5, 5, 5, 5, 7]\n",
      "Second list: [5, 7, 7, 5]\n",
      "The common elements between the two lists: [5, 7]\n"
     ]
    }
   ],
   "source": [
    "#Find the common elements between two lists\n",
    "l1=[]\n",
    "l2=[]\n",
    "n1=int(input(\"Enter the number of elements required for the first list: \"))\n",
    "for i in range(n1):\n",
    "    l1.append(int(input(f\"Enter element no.{i+1}: \")))\n",
    "n2=int(input(\"Enter the number of elements required for the first list: \"))\n",
    "for i in range(n2):\n",
    "    l2.append(int(input(f\"Enter element no.{i+1}: \")))\n",
    "print(\"First list:\",l1)\n",
    "print(\"Second list:\",l2)\n",
    "l3=[]\n",
    "for i in l1:\n",
    "    if i in l2 and i not in l3:\n",
    "        l3.append(i)\n",
    "print(\"The common elements between the two lists:\",l3)"
   ]
  },
  {
   "cell_type": "code",
   "execution_count": null,
   "id": "6ff83d44",
   "metadata": {
    "id": "6ff83d44",
    "outputId": "6b92410d-ba70-4ba7-a92a-cc4936bb62e5"
   },
   "outputs": [
    {
     "name": "stdout",
     "output_type": "stream",
     "text": [
      "Enter the number of elements required for the first list: 5\n",
      "Enter element no.1: 5\n",
      "Enter element no.2: 8\n",
      "Enter element no.3: 5\n",
      "Enter element no.4: 9\n",
      "Enter element no.5: 2\n",
      "Enter the number of elements required for the first list: 6\n",
      "Enter element no.1: 7\n",
      "Enter element no.2: 5\n",
      "Enter element no.3: 7\n",
      "Enter element no.4: 9\n",
      "Enter element no.5: 3\n",
      "Enter element no.6: 6\n",
      "First list: [5, 8, 5, 9, 2]\n",
      "Second list: [7, 5, 7, 9, 3, 6]\n",
      "Difference between the to lists: [8, 2, 7, 3, 6]\n"
     ]
    }
   ],
   "source": [
    "#Find the difference between two lists\n",
    "l1=[]\n",
    "l2=[]\n",
    "n1=int(input(\"Enter the number of elements required for the first list: \"))\n",
    "for i in range(n1):\n",
    "    l1.append(int(input(f\"Enter element no.{i+1}: \")))\n",
    "n2=int(input(\"Enter the number of elements required for the first list: \"))\n",
    "for i in range(n2):\n",
    "    l2.append(int(input(f\"Enter element no.{i+1}: \")))\n",
    "print(\"First list:\",l1)\n",
    "print(\"Second list:\",l2)\n",
    "l3=[]\n",
    "for i in l1:\n",
    "    if i not in l2 and i not in l3:\n",
    "        l3.append(i)\n",
    "for j in l2:\n",
    "    if j not in l1 and j not in l3:\n",
    "        l3.append(j)\n",
    "print(\"Difference between the to lists:\",l3)"
   ]
  },
  {
   "cell_type": "code",
   "execution_count": null,
   "id": "111ececa",
   "metadata": {
    "id": "111ececa",
    "outputId": "488ef512-17ce-4d00-f230-f3c049657bc5"
   },
   "outputs": [
    {
     "name": "stdout",
     "output_type": "stream",
     "text": [
      "Enter the number of required elements: 5\n",
      "Enter element no.1: 1\n",
      "Enter element no.2: 2\n",
      "Enter element no.3: 3\n",
      "Enter element no.4: 4\n",
      "Enter element no.5: I\n",
      "Enter the number of required elements: 4\n",
      "Enter element no.1: love\n",
      "Enter element no.2: python\n",
      "Enter element no.3: so much\n",
      "Enter element no.4: .\n",
      "Final list after merger: [1, 2, 3, 4, 'I', 'love', 'python', 'so much', '.']\n"
     ]
    }
   ],
   "source": [
    "#Merge two lists\n",
    "l1=[]\n",
    "n1=int(input(\"Enter the number of required elements: \"))\n",
    "for i in range(n1):\n",
    "    item=input(f\"Enter element no.{i+1}: \")\n",
    "    if item.isdigit():\n",
    "        l1.append(int(item))\n",
    "    else:\n",
    "        l1.append(item)\n",
    "l2=[]\n",
    "n2=int(input(\"Enter the number of required elements: \"))\n",
    "for i in range(n2):\n",
    "    item=input(f\"Enter element no.{i+1}: \")\n",
    "    if item.isdigit():\n",
    "        l2.append(int(item))\n",
    "    else:\n",
    "        l2.append(item)\n",
    "l1.extend(l2)\n",
    "print(\"Final list after merger:\",l1)"
   ]
  },
  {
   "cell_type": "code",
   "execution_count": null,
   "id": "9fbc43b1",
   "metadata": {
    "id": "9fbc43b1",
    "outputId": "47530382-b217-4780-cb26-3589ef0e7f3d"
   },
   "outputs": [
    {
     "name": "stdout",
     "output_type": "stream",
     "text": [
      "Enter the number of required elements: 5\n",
      "Enter element no.1: 4\n",
      "Enter element no.2: 5\n",
      "Enter element no.3: 9\n",
      "Enter element no.4: 2\n",
      "Enter element no.5: 6\n",
      "Intial list: [4, 5, 9, 2, 6]\n",
      "Final list: [8, 10, 18, 4, 12]\n"
     ]
    }
   ],
   "source": [
    "#Multiply all elements in a list by 2\n",
    "l=[]\n",
    "n=int(input(\"Enter the number of required elements: \"))\n",
    "for i in range(n):\n",
    "    l.append(int(input(f\"Enter element no.{i+1}: \")))\n",
    "print(\"Intial list:\",l)\n",
    "for i in range(n):\n",
    "    l[i]*=2\n",
    "print(\"Final list:\",l)"
   ]
  },
  {
   "cell_type": "code",
   "execution_count": null,
   "id": "c91220a1",
   "metadata": {
    "id": "c91220a1",
    "outputId": "2e55135e-6042-461c-d076-ff2ae132bff5"
   },
   "outputs": [
    {
     "name": "stdout",
     "output_type": "stream",
     "text": [
      "Enter the number of required elements: 5\n",
      "Enter element no.1: 8\n",
      "Enter element no.2: 4\n",
      "Enter element no.3: 9\n",
      "Enter element no.4: 7\n",
      "Enter element no.5: 3\n",
      "All the even numbers present in the list: 8 4 "
     ]
    }
   ],
   "source": [
    "#Filter out all even numbers from a list\n",
    "l=[]\n",
    "n=int(input(\"Enter the number of required elements: \"))\n",
    "for i in range(n):\n",
    "    l.append(int(input(f\"Enter element no.{i+1}: \")))\n",
    "print(\"All the even numbers present in the list: \",end=\"\")\n",
    "for i in l:\n",
    "    if i%2==0:\n",
    "        print(i,end=\" \")"
   ]
  },
  {
   "cell_type": "code",
   "execution_count": null,
   "id": "96790748",
   "metadata": {
    "id": "96790748",
    "outputId": "48281dcd-cb52-47fd-9e76-86147fc09cef"
   },
   "outputs": [
    {
     "name": "stdout",
     "output_type": "stream",
     "text": [
      "Enter the number of required elements: 5\n",
      "Enter element no.1: i\n",
      "Enter element no.2: love\n",
      "Enter element no.3: java\n",
      "Enter element no.4: and\n",
      "Enter element no.5: python\n",
      "Initial list of strings: ['i', 'love', 'java', 'and', 'python']\n",
      "Final list of integers: [105, 108, 106, 97, 112]\n"
     ]
    }
   ],
   "source": [
    "#Convert a list of strings to a list of integers\n",
    "l=[]\n",
    "n=int(input(\"Enter the number of required elements: \"))\n",
    "for i in range(n):\n",
    "    l.append(input(f\"Enter element no.{i+1}: \"))\n",
    "print(\"Initial list of strings:\",l)\n",
    "for i in range(n):\n",
    "    if l[i].isdigit():\n",
    "        l[i]=int(l[i])\n",
    "    else:\n",
    "        l[i]=ord(l[i][0])\n",
    "print(\"Final list of integers:\",l)"
   ]
  },
  {
   "cell_type": "code",
   "execution_count": null,
   "id": "450fb8f7",
   "metadata": {
    "id": "450fb8f7",
    "outputId": "fe2be741-54cc-42c0-ccc4-67e578b0c810"
   },
   "outputs": [
    {
     "name": "stdout",
     "output_type": "stream",
     "text": [
      "Enter the number of required elements: 5\n",
      "Enter element no.1: 5\n",
      "Enter element no.2: 12\n",
      "Enter element no.3: 13\n",
      "Enter element no.4: 8\n",
      "Enter element no.5: 9\n",
      "Initial list of integers: [5, 12, 13, 8, 9]\n",
      "Final list of string: ['5', '12', '13', '8', '9']\n"
     ]
    }
   ],
   "source": [
    "#Convert a list of integers to a list of strings\n",
    "l=[]\n",
    "n=int(input(\"Enter the number of required elements: \"))\n",
    "for i in range(n):\n",
    "    l.append(int(input(f\"Enter element no.{i+1}: \")))\n",
    "print(\"Initial list of integers:\",l)\n",
    "for i in range(n):\n",
    "    l[i]=str(l[i])\n",
    "print(\"Final list of string:\",l)"
   ]
  },
  {
   "cell_type": "code",
   "execution_count": null,
   "id": "39223437",
   "metadata": {
    "id": "39223437",
    "outputId": "ac4e3108-2ac6-4a86-a290-a0f246a44c56"
   },
   "outputs": [
    {
     "name": "stdout",
     "output_type": "stream",
     "text": [
      "Enter a nested list: [[1,0,5,9],[2,3,78],[2,21,29]]\n",
      "Your required flatten list: [1, 0, 5, 9, 2, 3, 78, 2, 21, 29]\n"
     ]
    }
   ],
   "source": [
    "#Flatten a nested list\n",
    "l1=eval(input(\"Enter a nested list: \"))\n",
    "l2=[item for sublist in l1 for item in sublist]\n",
    "print(\"Your required flatten list:\",l2)"
   ]
  },
  {
   "cell_type": "code",
   "execution_count": null,
   "id": "cdfa6de7",
   "metadata": {
    "id": "cdfa6de7",
    "outputId": "c7154135-e28c-4f11-861c-158d26f34f64"
   },
   "outputs": [
    {
     "name": "stdout",
     "output_type": "stream",
     "text": [
      "list of the first 10 Fibonacci numbers: [0, 1, 1, 2, 3, 5, 8, 13, 21, 34]\n"
     ]
    }
   ],
   "source": [
    "#Create a list of the first 10 Fibonacci numbers\n",
    "l=[0,1]\n",
    "b,c,s=0,1,0\n",
    "for i in range(2,10):\n",
    "    s=b+c\n",
    "    l.append(s)\n",
    "    b=c\n",
    "    c=s\n",
    "print(\"list of the first 10 Fibonacci numbers:\",l)"
   ]
  },
  {
   "cell_type": "code",
   "execution_count": null,
   "id": "e4ec128d",
   "metadata": {
    "id": "e4ec128d",
    "outputId": "74d3c07e-844f-4792-fabd-0655b0ff89ff"
   },
   "outputs": [
    {
     "name": "stdout",
     "output_type": "stream",
     "text": [
      "Enter the number of elements required: 5\n",
      "Enter homogenous list items only or there will be an error:\n",
      "Enter element no.1: 11\n",
      "Enter element no.2: 21\n",
      "Enter element no.3: 65\n",
      "Enter element no.4: 98\n",
      "Enter element no.5: 99\n",
      "Given list is sorted in ascending order.\n"
     ]
    }
   ],
   "source": [
    "#Check if a list is sorted\n",
    "l=[]\n",
    "n=int(input(\"Enter the number of elements required: \"))\n",
    "print(\"Enter homogenous list items only or there will be an error:\")\n",
    "for i in range(n):\n",
    "    item=input(f\"Enter element no.{i+1}: \")\n",
    "    if item.isdigit():\n",
    "        l.append(int(item))\n",
    "    else:\n",
    "        l.append(item)\n",
    "aux1=l.copy()\n",
    "aux2=l.copy()\n",
    "aux1.sort()\n",
    "aux2.sort(reverse=True)\n",
    "if l==aux1:\n",
    "    print(\"Given list is sorted in ascending order.\")\n",
    "elif l==aux2:\n",
    "    print(\"Given list is sorted in descending order.\")\n",
    "else:\n",
    "    print(\"Given list isn't sorted.\")"
   ]
  },
  {
   "cell_type": "code",
   "execution_count": null,
   "id": "a7d05327",
   "metadata": {
    "id": "a7d05327",
    "outputId": "7de18ac4-4853-4109-f7fa-ee01ea66032a"
   },
   "outputs": [
    {
     "name": "stdout",
     "output_type": "stream",
     "text": [
      "Enter the number of elements required: 5\n",
      "Enter element no.1: 1\n",
      "Enter element no.2: 2\n",
      "Enter element no.3: 3\n",
      "Enter element no.4: java\n",
      "Enter element no.5: python\n",
      "Before shifting: [1, 2, 3, 'java', 'python']\n",
      "Enter the number of position you want to left right: 2\n",
      "After shifting `2` positions to the right: ['java', 'python', 1, 2, 3]\n"
     ]
    }
   ],
   "source": [
    "#Rotate a list to the right by `n` positions\n",
    "l=[]\n",
    "n1=int(input(\"Enter the number of elements required: \"))\n",
    "for i in range(n1):\n",
    "    item=input(f\"Enter element no.{i+1}: \")\n",
    "    if item.isdigit():\n",
    "        l.append(int(item))\n",
    "    else:\n",
    "        l.append(item)\n",
    "print(\"Before shifting:\",l)\n",
    "n=int(input(\"Enter the number of position you want to left right: \"))\n",
    "for i in range(n):\n",
    "    for j in range(1,n1):\n",
    "        t=l[0]\n",
    "        l[0]=l[j]\n",
    "        l[j]=t\n",
    "print(f\"After shifting `{n}` positions to the right:\",l)"
   ]
  },
  {
   "cell_type": "code",
   "execution_count": null,
   "id": "711a4544",
   "metadata": {
    "id": "711a4544",
    "outputId": "7d3c903c-d910-45a4-ab25-f03800b6e234"
   },
   "outputs": [
    {
     "name": "stdout",
     "output_type": "stream",
     "text": [
      "Enter the number of elements required: 5\n",
      "Enter element no.1: 1\n",
      "Enter element no.2: 2\n",
      "Enter element no.3: 3\n",
      "Enter element no.4: java\n",
      "Enter element no.5: python\n",
      "Before shifting: [1, 2, 3, 'java', 'python']\n",
      "Enter the number of position you want to left shift: 2\n",
      "After shifting `2` positions to the left: [3, 'java', 'python', 1, 2]\n"
     ]
    }
   ],
   "source": [
    "#Rotate a list to the left by `n` positions\n",
    "l=[]\n",
    "n1=int(input(\"Enter the number of elements required: \"))\n",
    "for i in range(n1):\n",
    "    item=input(f\"Enter element no.{i+1}: \")\n",
    "    if item.isdigit():\n",
    "        l.append(int(item))\n",
    "    else:\n",
    "        l.append(item)\n",
    "print(\"Before shifting:\",l)\n",
    "n=int(input(\"Enter the number of position you want to left shift: \"))\n",
    "for i in range(n):\n",
    "    for j in range(n1-1,0,-1):\n",
    "        t=l[0]\n",
    "        l[0]=l[j]\n",
    "        l[j]=t\n",
    "print(f\"After shifting `{n}` positions to the left:\",l)"
   ]
  },
  {
   "cell_type": "code",
   "execution_count": null,
   "id": "f2396b58",
   "metadata": {
    "id": "f2396b58",
    "outputId": "bc50756d-ceda-4aae-f838-ab9278699bd9"
   },
   "outputs": [
    {
     "name": "stdout",
     "output_type": "stream",
     "text": [
      "All the prime numbers upto 50: [2, 3, 5, 7, 11, 13, 17, 19, 23, 29, 31, 37, 41, 43, 47]\n"
     ]
    }
   ],
   "source": [
    "#Create a list of prime numbers up to 50\n",
    "import math as m\n",
    "l=[]\n",
    "for i in range(2,51):\n",
    "    c=0\n",
    "    for j in range(2,int(m.sqrt(i)+1)):\n",
    "        if i%j==0:\n",
    "            c=1\n",
    "            break\n",
    "    if c==0:\n",
    "        l.append(i)\n",
    "print(\"All the prime numbers upto 50:\",l)"
   ]
  },
  {
   "cell_type": "code",
   "execution_count": null,
   "id": "06a3704a",
   "metadata": {
    "id": "06a3704a",
    "outputId": "125a3cc1-3116-4e8d-b28a-6bfd6aca6576"
   },
   "outputs": [
    {
     "name": "stdout",
     "output_type": "stream",
     "text": [
      "Enter the number of elements required: 10\n",
      "Enter element no.1: 25\n",
      "Enter element no.2: 16\n",
      "Enter element no.3: python\n",
      "Enter element no.4: 25\n",
      "Enter element no.5: 49\n",
      "Enter element no.6: java\n",
      "Enter element no.7: 13\n",
      "Enter element no.8: 97\n",
      "Enter element no.9: c\n",
      "Enter element no.10: 26\n",
      "Enter the size of each chunks: 3\n",
      "Initial input list: [25, 16, 'python', 25, 49, 'java', 13, 97, 'c', 26]\n",
      "Desired output lis: [[25, 16, 'python'], [25, 49, 'java'], [13, 97, 'c'], [26]]\n"
     ]
    }
   ],
   "source": [
    "#Split a list into chunks of size `n`\n",
    "l=[]\n",
    "n=int(input(\"Enter the number of elements required: \"))\n",
    "for i in range(n):\n",
    "    item=input(f\"Enter element no.{i+1}: \")\n",
    "    if item.isdigit():\n",
    "        l.append(int(item))\n",
    "    else:\n",
    "        l.append(item)\n",
    "size=int(input(\"Enter the size of each chunks: \"))\n",
    "final=[l[i:i+size] for i in range(0,len(l),size)]\n",
    "print(\"Initial input list:\",l)\n",
    "print(\"Desired output lis:\",final)"
   ]
  },
  {
   "cell_type": "code",
   "execution_count": null,
   "id": "6d0c9f93",
   "metadata": {
    "id": "6d0c9f93",
    "outputId": "1bcefff1-db0c-4601-bbeb-de8a7123ae10"
   },
   "outputs": [
    {
     "name": "stdout",
     "output_type": "stream",
     "text": [
      "Enter the number of required elements: 10\n",
      "Enter element no.1: 21\n",
      "Enter element no.2: 56\n",
      "Enter element no.3: 16\n",
      "Enter element no.4: 12\n",
      "Enter element no.5: 97\n",
      "Enter element no.6: 631\n",
      "Enter element no.7: 25\n",
      "Enter element no.8: 12\n",
      "Enter element no.9: 35\n",
      "Enter element no.10: 98\n",
      "Your given list: [21, 56, 16, 12, 97, 631, 25, 12, 35, 98]\n",
      "The second largest element in it: 98\n"
     ]
    }
   ],
   "source": [
    "#Find the second largest number in a list\n",
    "l=[]\n",
    "n=int(input(\"Enter the number of required elements: \"))\n",
    "for i in range(n):\n",
    "    l.append(int(input(f\"Enter element no.{i+1}: \")))\n",
    "m1=m2=l[0]\n",
    "for i in l:\n",
    "    if(m1<i):\n",
    "        m2=m1\n",
    "        m1=i\n",
    "    elif(m2<i) and (m2!=m1):\n",
    "        m2=i\n",
    "print(\"Your given list:\",l)\n",
    "print(\"The second largest element in it:\",m2)"
   ]
  },
  {
   "cell_type": "code",
   "execution_count": null,
   "id": "361c6b46",
   "metadata": {
    "id": "361c6b46",
    "outputId": "90a5653e-227e-4f05-d4d7-794d4b16903d"
   },
   "outputs": [
    {
     "name": "stdout",
     "output_type": "stream",
     "text": [
      "Enter the number of required elements: 5\n",
      "Please enter numbers only oherwise it will raise an error: \n",
      "Enter element no.1: 5\n",
      "Enter element no.2: 12\n",
      "Enter element no.3: 13\n",
      "Enter element no.4: 7\n",
      "Enter element no.5: 9\n",
      "Input list: [5, 12, 13, 7, 9]\n",
      "Desired list: [25, 144, 169, 49, 81]\n"
     ]
    }
   ],
   "source": [
    "#Replace every element in a list with its square\n",
    "l=[]\n",
    "n=int(input(\"Enter the number of required elements: \"))\n",
    "print(\"Please enter numbers only oherwise it will raise an error: \")\n",
    "for i in range(n):\n",
    "    l.append(int(input(f\"Enter element no.{i+1}: \")))\n",
    "print(\"Input list:\",l)\n",
    "for i in range(n):\n",
    "    l[i]=l[i]**2\n",
    "print(\"Desired list:\",l)"
   ]
  },
  {
   "cell_type": "code",
   "execution_count": null,
   "id": "5e32eafc",
   "metadata": {
    "id": "5e32eafc",
    "outputId": "697830c1-302f-4d37-e974-bb7ecad90e4a"
   },
   "outputs": [
    {
     "name": "stdout",
     "output_type": "stream",
     "text": [
      "Enter the number of elements required: 5\n",
      "Enter element no.1: 1\n",
      "Enter element no.2: 2\n",
      "Enter element no.3: 3\n",
      "Enter element no.4: java\n",
      "Enter element no.5: python\n",
      "Desired output: {1: 0, 2: 1, 3: 2, 'java': 3, 'python': 4}\n"
     ]
    }
   ],
   "source": [
    "#Convert a list to a dictionary where list elements become keys and their indices become values\n",
    "l=[]\n",
    "n=int(input(\"Enter the number of elements required: \"))\n",
    "for i in range(n):\n",
    "    item=input(f\"Enter element no.{i+1}: \")\n",
    "    if item.isdigit():\n",
    "        l.append(int(item))\n",
    "    else:\n",
    "        l.append(item)\n",
    "d={}\n",
    "for i in range(n):\n",
    "    d[l[i]]=i\n",
    "print(\"Desired output:\",d)"
   ]
  },
  {
   "cell_type": "code",
   "execution_count": null,
   "id": "0db63634",
   "metadata": {
    "id": "0db63634",
    "outputId": "6c4049fc-a26b-4653-da80-3f91bfed53c8"
   },
   "outputs": [
    {
     "name": "stdout",
     "output_type": "stream",
     "text": [
      "Enter the number of elements required: 5\n",
      "Enter element no.1: 1\n",
      "Enter element no.2: 2\n",
      "Enter element no.3: 3\n",
      "Enter element no.4: java\n",
      "Enter element no.5: python\n",
      "Initial list before shuffling: [1, 2, 3, 'java', 'python']\n",
      "Final list after shuffling: ['python', 1, 2, 'java', 3]\n"
     ]
    }
   ],
   "source": [
    "#Shuffle the elements of a list randomly\n",
    "import random\n",
    "l=[]\n",
    "n=int(input(\"Enter the number of elements required: \"))\n",
    "for i in range(n):\n",
    "    item=input(f\"Enter element no.{i+1}: \")\n",
    "    if item.isdigit():\n",
    "        l.append(int(item))\n",
    "    else:\n",
    "        l.append(item)\n",
    "print(\"Initial list before shuffling:\",l)\n",
    "random.shuffle(l)\n",
    "print(\"Final list after shuffling:\",l)"
   ]
  },
  {
   "cell_type": "code",
   "execution_count": null,
   "id": "300d1e1b",
   "metadata": {
    "id": "300d1e1b",
    "outputId": "d212f5bc-dc4d-4386-c6d5-ffe6cb03e4e7"
   },
   "outputs": [
    {
     "name": "stdout",
     "output_type": "stream",
     "text": [
      "Your required list is: [1, 2, 6, 24, 120, 720, 5040, 40320, 362880, 3628800]\n"
     ]
    }
   ],
   "source": [
    "#Create a list of the first 10 factorial numbers\n",
    "l=[]\n",
    "for i in range(1,11):\n",
    "    f=1\n",
    "    for j in range(i,0,-1):\n",
    "        f*=j\n",
    "    l.append(f)\n",
    "print(\"Your required list is:\",l)"
   ]
  },
  {
   "cell_type": "code",
   "execution_count": null,
   "id": "fc5b17bb",
   "metadata": {
    "id": "fc5b17bb",
    "outputId": "9dbc541f-3c75-41b5-c384-dc9a6d88eb4e"
   },
   "outputs": [
    {
     "name": "stdout",
     "output_type": "stream",
     "text": [
      "Enter the number of elements required: 5\n",
      "Enter element no.1: 1\n",
      "Enter element no.2: 2\n",
      "Enter element no.3: 3\n",
      "Enter element no.4: java\n",
      "Enter element no.5: python\n",
      "Enter the number of elements required: 5\n",
      "Enter element no.1: python\n",
      "Enter element no.2: 2\n",
      "Enter element no.3: 5\n",
      "Enter element no.4: shell\n",
      "Enter element no.5: perl\n",
      "The common elements between the lists: [2, 'python']\n"
     ]
    }
   ],
   "source": [
    "#Check if two lists have at least one element in common\n",
    "l1=[]\n",
    "n1=int(input(\"Enter the number of elements required: \"))\n",
    "for i in range(n1):\n",
    "    item=input(f\"Enter element no.{i+1}: \")\n",
    "    if item.isdigit():\n",
    "        l1.append(int(item))\n",
    "    else:\n",
    "        l1.append(item)\n",
    "l2=[]\n",
    "n2=int(input(\"Enter the number of elements required: \"))\n",
    "for i in range(n):\n",
    "    item=input(f\"Enter element no.{i+1}: \")\n",
    "    if item.isdigit():\n",
    "        l2.append(int(item))\n",
    "    else:\n",
    "        l2.append(item)\n",
    "l3=[i for i in l1 if i in l2]\n",
    "if(len(l3)>=1):\n",
    "    print(\"The common elements between the lists:\",l3)\n",
    "else:\n",
    "    print(\"Two lists have no elements in common\")"
   ]
  },
  {
   "cell_type": "code",
   "execution_count": null,
   "id": "58009d4f",
   "metadata": {
    "id": "58009d4f",
    "outputId": "87ee8896-4c53-436a-b26a-504d7d0d6b90"
   },
   "outputs": [
    {
     "name": "stdout",
     "output_type": "stream",
     "text": [
      "Enter the number of elements required: 5\n",
      "Enter element no.1: 1\n",
      "Enter element no.2: 2\n",
      "Enter element no.3: 3\n",
      "Enter element no.4: java\n",
      "Enter element no.5: python\n",
      "Initial list: [1, 2, 3, 'java', 'python']\n",
      "Final list: []\n"
     ]
    }
   ],
   "source": [
    "#Remove all elements from a list\n",
    "l=[]\n",
    "n=int(input(\"Enter the number of elements required: \"))\n",
    "for i in range(n):\n",
    "    item=input(f\"Enter element no.{i+1}: \")\n",
    "    if item.isdigit():\n",
    "        l.append(int(item))\n",
    "    else:\n",
    "        l.append(item)\n",
    "print(\"Initial list:\",l)\n",
    "l.clear()\n",
    "print(\"Final list:\",l)"
   ]
  },
  {
   "cell_type": "code",
   "execution_count": null,
   "id": "1aa07b4d",
   "metadata": {
    "id": "1aa07b4d",
    "outputId": "0e0de396-e1a4-40fd-df6f-6fbf8450d448"
   },
   "outputs": [
    {
     "name": "stdout",
     "output_type": "stream",
     "text": [
      "Enter the number of elements required: 5\n",
      "Enter numbers only:\n",
      "Enter element no.1: 2\n",
      "Enter element no.2: -6\n",
      "Enter element no.3: 0\n",
      "Enter element no.4: 3\n",
      "Enter element no.5: -10\n",
      "Initial list: [2, -6, 0, 3, -10]\n",
      "Final list: [2, 0, 0, 3, 0]\n"
     ]
    }
   ],
   "source": [
    "#Replace negative numbers in a list with 0\n",
    "l=[]\n",
    "n=int(input(\"Enter the number of elements required: \"))\n",
    "print(\"Enter numbers only:\")\n",
    "for i in range(n):\n",
    "        l.append(int(input(f\"Enter element no.{i+1}: \")))\n",
    "print(\"Initial list:\",l)\n",
    "for i in range(n):\n",
    "    if l[i]<0:\n",
    "        l[i]=0\n",
    "print(\"Final list:\",l)"
   ]
  },
  {
   "cell_type": "code",
   "execution_count": null,
   "id": "710e8aec",
   "metadata": {
    "id": "710e8aec",
    "outputId": "d46c3c61-3168-4f12-d6e7-794c06b1dedd"
   },
   "outputs": [
    {
     "name": "stdout",
     "output_type": "stream",
     "text": [
      "Enter a string: Hi I am learning python\n",
      "['Hi', 'I', 'am', 'learning', 'python']\n"
     ]
    }
   ],
   "source": [
    "#Convert a string into a list of words\n",
    "s=input(\"Enter a string: \")\n",
    "l=s.split()\n",
    "print(l)"
   ]
  },
  {
   "cell_type": "code",
   "execution_count": null,
   "id": "a1363c68",
   "metadata": {
    "id": "a1363c68",
    "outputId": "9e255ee8-d6fa-46c4-b113-a6e5318afbb1"
   },
   "outputs": [
    {
     "name": "stdout",
     "output_type": "stream",
     "text": [
      "Enter the number of elements required: 5\n",
      "Enter element no.1: Hi\n",
      "Enter element no.2: I\n",
      "Enter element no.3: am\n",
      "Enter element no.4: learning\n",
      "Enter element no.5: python\n",
      "Output string: Hi I am learning python\n"
     ]
    }
   ],
   "source": [
    "#Convert a list of words into a string\n",
    "l=[]\n",
    "n=int(input(\"Enter the number of elements required: \"))\n",
    "for i in range(n):\n",
    "    l.append(input(f\"Enter element no.{i+1}: \"))\n",
    "s=\" \".join(l)\n",
    "print(\"Output string:\",s)"
   ]
  },
  {
   "cell_type": "code",
   "execution_count": null,
   "id": "b298d51f",
   "metadata": {
    "id": "b298d51f",
    "outputId": "a43d0973-5db1-452b-be0b-4798a73cc2e5"
   },
   "outputs": [
    {
     "name": "stdout",
     "output_type": "stream",
     "text": [
      "Enter the number of elements required: 5\n",
      "Enter element no.1: hi\n",
      "Enter element no.2: I\n",
      "Enter element no.3: am\n",
      "Enter element no.4: learning\n",
      "Enter element no.5: python\n",
      "Input list: ['hi', 'I', 'am', 'learning', 'python']\n",
      "The longest string present here is: learning\n"
     ]
    }
   ],
   "source": [
    "#Find the longest string in a list of strings\n",
    "l=[]\n",
    "n=int(input(\"Enter the number of elements required: \"))\n",
    "for i in range(n):\n",
    "    l.append(input(f\"Enter element no.{i+1}: \"))\n",
    "print(\"Input list:\",l)\n",
    "lock=\"\"\n",
    "for i in l:\n",
    "    if len(lock)<len(i):\n",
    "        lock=i\n",
    "print(\"The longest string present here is:\",lock)"
   ]
  },
  {
   "cell_type": "code",
   "execution_count": null,
   "id": "f8d979de",
   "metadata": {
    "id": "f8d979de",
    "outputId": "6d850be6-3061-4abe-f3e7-3ca536b370c6"
   },
   "outputs": [
    {
     "name": "stdout",
     "output_type": "stream",
     "text": [
      "Enter the number of elements required: 5\n",
      "Enter element no.1: hi\n",
      "Enter element no.2: I\n",
      "Enter element no.3: am\n",
      "Enter element no.4: learning\n",
      "Enter element no.5: python\n",
      "Input list: ['hi', 'I', 'am', 'learning', 'python']\n",
      "The shortest string present here is: I\n"
     ]
    }
   ],
   "source": [
    "#Find the shortest string in a list of strings\n",
    "l=[]\n",
    "n=int(input(\"Enter the number of elements required: \"))\n",
    "for i in range(n):\n",
    "    l.append(input(f\"Enter element no.{i+1}: \"))\n",
    "print(\"Input list:\",l)\n",
    "lock=l[0]\n",
    "for i in l:\n",
    "    if len(lock)>len(i):\n",
    "        lock=i\n",
    "print(\"The shortest string present here is:\",lock)"
   ]
  },
  {
   "cell_type": "code",
   "execution_count": null,
   "id": "ee9e0674",
   "metadata": {
    "id": "ee9e0674",
    "outputId": "012f034d-1b19-464b-e2d1-5136be03541b"
   },
   "outputs": [
    {
     "name": "stdout",
     "output_type": "stream",
     "text": [
      "Enter the value of n: 10\n",
      "List of first 10 triangular numbers: [1, 3, 6, 10, 15, 21, 28, 36, 45, 55]\n"
     ]
    }
   ],
   "source": [
    "#Create a list of the first `n` triangular numbers\n",
    "l=[]\n",
    "n=int(input(\"Enter the value of n: \"))\n",
    "step,k=2,1\n",
    "for i in range(0,n):\n",
    "    l.append(int(k))\n",
    "    k+=step\n",
    "    step+=1\n",
    "print(\"List of first {} triangular numbers: {}\".format(n,l))"
   ]
  },
  {
   "cell_type": "code",
   "execution_count": null,
   "id": "4b0f11f7",
   "metadata": {
    "id": "4b0f11f7"
   },
   "outputs": [],
   "source": [
    "#Check if a list contains another list as a subsequence\n"
   ]
  },
  {
   "cell_type": "code",
   "execution_count": null,
   "id": "dc0e1e6b",
   "metadata": {
    "id": "dc0e1e6b",
    "outputId": "8434c194-9134-4dc7-b2ff-dfaa7a8e3c15"
   },
   "outputs": [
    {
     "name": "stdout",
     "output_type": "stream",
     "text": [
      "Enter the number of rquired elements: 5\n",
      "Enter element no.1: 1\n",
      "Enter element no.2: 2\n",
      "Enter element no.3: 3\n",
      "Enter element no.4: 4\n",
      "Enter element no.5: 5\n",
      "Initial list: [1, 2, 3, 4, 5]\n",
      "Enter two indices of the list whose elements we would like to swap: 2 3\n",
      "Final list: [1, 2, 4, 3, 5]\n"
     ]
    }
   ],
   "source": [
    "#Swap two elements in a list by their indices\n",
    "l=[]\n",
    "n=int(input(\"Enter the number of rquired elements: \"))\n",
    "for i in range(n):\n",
    "    item=input(f\"Enter element no.{i+1}: \")\n",
    "    if item.isdigit():\n",
    "        l.append(int(item))\n",
    "    else:\n",
    "        l.append(item)\n",
    "print(\"Initial list:\",l)\n",
    "a,b=map(int,input(\"Enter two indices of the list whose elements we would like to swap: \").split())\n",
    "if a<len(l) and b<len(l):\n",
    "    t=l[a]\n",
    "    l[a]=l[b]\n",
    "    l[b]=t\n",
    "    print(\"Final list:\",l)\n",
    "else:\n",
    "    print(\"Invalid input: list ondex out of bound\")"
   ]
  },
  {
   "cell_type": "markdown",
   "id": "JRj_8jzqdJ2k",
   "metadata": {
    "id": "JRj_8jzqdJ2k"
   },
   "source": [
    "# **Tuple**"
   ]
  },
  {
   "cell_type": "code",
   "execution_count": null,
   "id": "359b94b9",
   "metadata": {
    "id": "359b94b9",
    "outputId": "4c901191-06f1-4e08-bc92-88821d0844a9"
   },
   "outputs": [
    {
     "name": "stdout",
     "output_type": "stream",
     "text": [
      "<class 'tuple'>\n",
      "Tuple with integers from 1 to 5: (1, 2, 3, 4, 5)\n"
     ]
    }
   ],
   "source": [
    "#Create a tuple with integers from 1 to 5\n",
    "t=tuple(range(1,6))\n",
    "print(type(t))\n",
    "print(\"Tuple with integers from 1 to 5:\",t)"
   ]
  },
  {
   "cell_type": "code",
   "execution_count": null,
   "id": "c139ac9e",
   "metadata": {
    "id": "c139ac9e",
    "outputId": "a74cb114-9a57-4f77-f3a0-b25d4b24b32d"
   },
   "outputs": [
    {
     "name": "stdout",
     "output_type": "stream",
     "text": [
      "Enter a tuple: (10,50,30,80,54)\n",
      "<class 'tuple'>\n",
      "The 3rd element of the given tuple is: 30\n"
     ]
    }
   ],
   "source": [
    "#Access the third element of a tuple\n",
    "t=eval(input(\"Enter a tuple: \"))\n",
    "print(type(t))\n",
    "if len(t)>2:\n",
    "    print(\"The 3rd element of the given tuple is:\",t[2])\n",
    "else:\n",
    "    print(f\"Your input tuple contains {len(t)} elements\")"
   ]
  },
  {
   "cell_type": "code",
   "execution_count": null,
   "id": "862eacfd",
   "metadata": {
    "id": "862eacfd",
    "outputId": "a1865ff1-4acb-4a6a-a2e2-e317b1ed8c97"
   },
   "outputs": [
    {
     "name": "stdout",
     "output_type": "stream",
     "text": [
      "Enter a tuple: (10,20,30,40,50,60,70,80,90)\n",
      "Length of your input tuple is: 9\n"
     ]
    }
   ],
   "source": [
    "#Find the length of a tuple without using the `len()` function\n",
    "t=eval(input(\"Enter a tuple: \"))\n",
    "c=0\n",
    "for i in t:\n",
    "    c+=1\n",
    "print(\"Length of your input tuple is:\",c)"
   ]
  },
  {
   "cell_type": "code",
   "execution_count": null,
   "id": "44e893e6",
   "metadata": {
    "id": "44e893e6",
    "outputId": "17ca76e2-15d1-4072-e634-f19a03f2c74b"
   },
   "outputs": [
    {
     "name": "stdout",
     "output_type": "stream",
     "text": [
      "Enter a  tuple: (1,2,3,1,2,1,2,1,'python','java','1')\n",
      "Enter an element you want to search in the input tuple: python\n",
      "Occurence of python in the input tuple is: 1\n"
     ]
    }
   ],
   "source": [
    "#Count the occurrences of an element in a tuple\n",
    "t=eval(input(\"Enter a  tuple: \"))\n",
    "item=input(\"Enter an element you want to search in the input tuple: \")\n",
    "if item.isdigit():\n",
    "    item=int(item)\n",
    "if item in t:\n",
    "    print(f\"Occurence of {item} in the input tuple is: {t.count(item)}\")\n",
    "else:\n",
    "    print(f\"{item} is missing in the input tuple\")"
   ]
  },
  {
   "cell_type": "code",
   "execution_count": null,
   "id": "fc7fca51",
   "metadata": {
    "id": "fc7fca51",
    "outputId": "e70a5047-300f-4366-ef51-4bb8e79cf933"
   },
   "outputs": [
    {
     "name": "stdout",
     "output_type": "stream",
     "text": [
      "Enter a  tuple: (1,2,3,1,2,1,2,1,'python','java','1')\n",
      "Enter an element you want to search in the input tuple: C++\n",
      "C++ is missing in the input tuple\n"
     ]
    }
   ],
   "source": [
    "#Find the index of the first occurrence of an element in a tuple\n",
    "t=eval(input(\"Enter a  tuple: \"))\n",
    "item=input(\"Enter an element you want to search in the input tuple: \")\n",
    "if item.isdigit():\n",
    "    item=int(item)\n",
    "if item in t:\n",
    "    print(f\"First occurence of {item} in the input tuple is: {t.index(item)}\")\n",
    "else:\n",
    "    print(f\"{item} is missing in the input tuple\")"
   ]
  },
  {
   "cell_type": "code",
   "execution_count": null,
   "id": "106a1f1e",
   "metadata": {
    "id": "106a1f1e",
    "outputId": "fcc16f14-1d40-4c35-8e12-d627961fa058"
   },
   "outputs": [
    {
     "name": "stdout",
     "output_type": "stream",
     "text": [
      "Enter a tuple: (1,2,3,4,'I','am','learning','python')\n",
      "Enter an element you want to search in the input tuple: 4\n",
      "4 is present in the input tuple at index no.: 3\n"
     ]
    }
   ],
   "source": [
    "#Check if an element exists in a tuple\n",
    "t=eval(input(\"Enter a tuple: \"))\n",
    "item=input(\"Enter an element you want to search in the input tuple: \")\n",
    "if item in t:\n",
    "    print(f\"{item} is present in the input tuple at index no.: {t.index(item)}\")\n",
    "elif item.isdigit() in t:\n",
    "    print(f\"{item} is present in the input tuple at index no.: {t.index(int(item))}\")\n",
    "else:\n",
    "    print(f\"{item} is missing in the input tuple\")"
   ]
  },
  {
   "cell_type": "code",
   "execution_count": null,
   "id": "82d7b799",
   "metadata": {
    "id": "82d7b799",
    "outputId": "f36d6be0-c0ab-4b96-ecec-9f7532f55f12"
   },
   "outputs": [
    {
     "name": "stdout",
     "output_type": "stream",
     "text": [
      "Enter a tuple: (1,2,3,5,6,9,7)\n",
      "Type of 't' is: <class 'tuple'>\n",
      "Type of 'l' is: <class 'list'>\n"
     ]
    }
   ],
   "source": [
    "#Convert a tuple to a list\n",
    "t=eval(input(\"Enter a tuple: \"))\n",
    "l=list(t)\n",
    "print(\"Type of 't' is:\",type(t))\n",
    "print(\"Type of 'l' is:\",type(l))"
   ]
  },
  {
   "cell_type": "code",
   "execution_count": null,
   "id": "8c185ce7",
   "metadata": {
    "id": "8c185ce7",
    "outputId": "0f8416fb-2155-4d4d-b388-c8c87b27b501"
   },
   "outputs": [
    {
     "name": "stdout",
     "output_type": "stream",
     "text": [
      "Enter the number of elements you require: 5\n",
      "Enter element no.1: 1\n",
      "Enter element no.2: 2\n",
      "Enter element no.3: 3\n",
      "Enter element no.4: python\n",
      "Enter element no.5: java\n",
      "Type of (1, 2, 3, 'python', 'java') is: <class 'tuple'>\n",
      "Type of [1, 2, 3, 'python', 'java'] is: <class 'list'>\n"
     ]
    }
   ],
   "source": [
    "#Convert a list to a tuple\n",
    "l=[]\n",
    "n=int(input(\"Enter the number of elements you require: \"))\n",
    "for i in range(n):\n",
    "    item=input(f\"Enter element no.{i+1}: \")\n",
    "    if item.isdigit():\n",
    "        l.append(int(item))\n",
    "    else:\n",
    "        l.append(item)\n",
    "t=tuple(l)\n",
    "print(f\"Type of {t} is: {type(t)}\")\n",
    "print(f\"Type of {l} is: {type(l)}\")"
   ]
  },
  {
   "cell_type": "code",
   "execution_count": null,
   "id": "05ce8f0e",
   "metadata": {
    "id": "05ce8f0e",
    "outputId": "56f89225-d302-41ea-e5b6-dd0b68bb5b66"
   },
   "outputs": [
    {
     "name": "stdout",
     "output_type": "stream",
     "text": [
      "Enter a tuple: (1,2,3,'python')\n",
      "a: 1 \tb: 2 \tc: 3 \td: python\n"
     ]
    }
   ],
   "source": [
    "#Unpack the elements of a tuple into variables\n",
    "t=eval(input(\"Enter a tuple: \"))\n",
    "a,b,c,d=t\n",
    "print(\"a:\",a,\"\\tb:\",b,\"\\tc:\",c,\"\\td:\",d)"
   ]
  },
  {
   "cell_type": "code",
   "execution_count": null,
   "id": "3d4676ef",
   "metadata": {
    "id": "3d4676ef",
    "outputId": "32f9d0fc-7970-47ac-802d-1bdd1bcf6ac0"
   },
   "outputs": [
    {
     "name": "stdout",
     "output_type": "stream",
     "text": [
      "Tuple of even numbers from 1 to 10: (2, 4, 6, 8, 10)\n"
     ]
    }
   ],
   "source": [
    "#Create a tuple of even numbers from 1 to 10\n",
    "t=tuple(range(2,11,2))\n",
    "print(\"Tuple of even numbers from 1 to 10:\",t)"
   ]
  },
  {
   "cell_type": "code",
   "execution_count": null,
   "id": "d0f80bad",
   "metadata": {
    "id": "d0f80bad",
    "outputId": "fbeecded-1807-4b67-d58a-b2ad7a3e7351"
   },
   "outputs": [
    {
     "name": "stdout",
     "output_type": "stream",
     "text": [
      "Tuple of odd numbers from 1 to 10: (1, 3, 5, 7, 9)\n"
     ]
    }
   ],
   "source": [
    "#Create a tuple of odd numbers from 1 to 10\n",
    "t=tuple(range(1,10,2))\n",
    "print(\"Tuple of odd numbers from 1 to 10:\",t)"
   ]
  },
  {
   "cell_type": "code",
   "execution_count": null,
   "id": "fad5773f",
   "metadata": {
    "id": "fad5773f",
    "outputId": "801e062e-99c2-4b8e-9591-dd6d1a42b6ab"
   },
   "outputs": [
    {
     "name": "stdout",
     "output_type": "stream",
     "text": [
      "Input a tuple: (1,2,3,4)\n",
      "Input a second tuple: ('I','learn','python')\n",
      "First tuple: (1, 2, 3, 4)\n",
      "Second tuple: ('I', 'learn', 'python')\n",
      "Concatenated tuple: (1, 2, 3, 4, 'I', 'learn', 'python')\n"
     ]
    }
   ],
   "source": [
    "#Concatenate two tuples\n",
    "t1=eval(input(\"Input a tuple: \"))\n",
    "t2=eval(input(\"Input a second tuple: \"))\n",
    "t3=t1+t2\n",
    "print(\"First tuple:\",t1)\n",
    "print(\"Second tuple:\",t2)\n",
    "print(\"Concatenated tuple:\",t3)"
   ]
  },
  {
   "cell_type": "code",
   "execution_count": null,
   "id": "7f4cd292",
   "metadata": {
    "id": "7f4cd292",
    "outputId": "83f706e6-056e-4e48-ac59-9b9a74b6a6da"
   },
   "outputs": [
    {
     "name": "stdout",
     "output_type": "stream",
     "text": [
      "Input a tuple: (1,2,3,4,5,6,7,8,9)\n",
      "Your desired tuple: (1, 2, 3, 4, 5, 6, 7, 8, 9, 1, 2, 3, 4, 5, 6, 7, 8, 9, 1, 2, 3, 4, 5, 6, 7, 8, 9)\n"
     ]
    }
   ],
   "source": [
    "#Repeat a tuple three times\n",
    "t1=eval(input(\"Input a tuple: \"))\n",
    "t2=t1*3\n",
    "print(\"Your desired tuple:\",t2)"
   ]
  },
  {
   "cell_type": "code",
   "execution_count": null,
   "id": "e1abe147",
   "metadata": {
    "id": "e1abe147",
    "outputId": "adb5e995-5f49-47bd-96dd-07ef86576405"
   },
   "outputs": [
    {
     "name": "stdout",
     "output_type": "stream",
     "text": [
      "Enter a tuple: ()\n",
      "Empty tuple!\n"
     ]
    }
   ],
   "source": [
    "#Check if a tuple is empty\n",
    "t=eval(input(\"Enter a tuple: \"))\n",
    "if t==():\n",
    "    print(\"Empty tuple!\")\n",
    "else:\n",
    "    print(t)"
   ]
  },
  {
   "cell_type": "code",
   "execution_count": null,
   "id": "82ad85c5",
   "metadata": {
    "id": "82ad85c5",
    "outputId": "6812baf7-77d6-495b-c2d0-16df6ab4a150"
   },
   "outputs": [
    {
     "name": "stdout",
     "output_type": "stream",
     "text": [
      "Enter a tuple: (1,2,3,4,5,6,8,9)\n",
      "1 2 3 4 \n",
      "5 6 8 9 \n",
      "\n"
     ]
    }
   ],
   "source": [
    "#Create a nested tuple\n",
    "t=eval(input(\"Enter a tuple: \"))\n",
    "t1=((t[0:4]),t[4:8],t[8:12])\n",
    "for i in t1:\n",
    "    for j in i:\n",
    "        print(j,end=\" \")\n",
    "    print()"
   ]
  },
  {
   "cell_type": "code",
   "execution_count": null,
   "id": "73f41afb",
   "metadata": {
    "id": "73f41afb",
    "outputId": "4fbac87b-3d54-4ec8-8774-c14c49326693"
   },
   "outputs": [
    {
     "name": "stdout",
     "output_type": "stream",
     "text": [
      "Enter a nested tuple: ((11,32,3,5,4,5),(2,63,454,6,6))\n",
      "First element of the nested tuple is: 11\n"
     ]
    }
   ],
   "source": [
    "#Access the first element of a nested tuple\n",
    "t=eval(input(\"Enter a nested tuple: \"))\n",
    "print(\"First element of the nested tuple is:\",t[0][0])"
   ]
  },
  {
   "cell_type": "code",
   "execution_count": null,
   "id": "ac429963",
   "metadata": {
    "id": "ac429963",
    "outputId": "9c014a0f-1128-472e-b3f3-e35389c6b711"
   },
   "outputs": [
    {
     "name": "stdout",
     "output_type": "stream",
     "text": [
      "Enter an element: python\n",
      "<class 'tuple'>\n",
      "('python',)\n"
     ]
    }
   ],
   "source": [
    "#Create a tuple with a single element\n",
    "item=input(\"Enter an element: \")\n",
    "if item.isdigit():\n",
    "    t=(int(item),)\n",
    "else:\n",
    "    t=(item,)\n",
    "print(type(t))\n",
    "print(t)"
   ]
  },
  {
   "cell_type": "code",
   "execution_count": null,
   "id": "c942b6aa",
   "metadata": {
    "id": "c942b6aa",
    "outputId": "4e97c3b6-6e70-43c3-dace-513fda32a540"
   },
   "outputs": [
    {
     "name": "stdout",
     "output_type": "stream",
     "text": [
      "Enter a tuple: 1,2,3,6\n",
      "Enter a second tuple: 1,2,3,6\n",
      "First and second tuple is exactly equal to each other\n"
     ]
    }
   ],
   "source": [
    "#Compare two tuples\n",
    "t1=eval(input(\"Enter a tuple: \"))\n",
    "t2=eval(input(\"Enter a second tuple: \"))\n",
    "if t1>t2:\n",
    "    print(\"First element of the first tuple is grater than the first element of the second tuple\")\n",
    "elif t1<t2:\n",
    "    print(\"First element of the second tuple is grater than the first element of the first tuple\")\n",
    "elif t1==t2:\n",
    "    print(\"First and second tuple is exactly equal to each other\")"
   ]
  },
  {
   "cell_type": "code",
   "execution_count": null,
   "id": "2506589a",
   "metadata": {
    "id": "2506589a"
   },
   "outputs": [],
   "source": [
    "#Delete a tuple\n"
   ]
  },
  {
   "cell_type": "code",
   "execution_count": null,
   "id": "18105490",
   "metadata": {
    "id": "18105490",
    "outputId": "34ee03a1-b177-4c76-b23e-cad1985e0bb0"
   },
   "outputs": [
    {
     "name": "stdout",
     "output_type": "stream",
     "text": [
      "Enter a tuple:(2,3,6,4598,54,2,1)\n",
      "Input tuple: (2, 3, 6, 4598, 54, 2, 1)\n",
      "Reverse of the input tuple using slice operator: (1, 2, 54, 4598, 6, 3, 2)\n"
     ]
    }
   ],
   "source": [
    "#Slice a tuple\n",
    "t=eval(input(\"Enter a tuple:\"))\n",
    "t1=t[::-1]\n",
    "print(\"Input tuple:\",t)\n",
    "print(\"Reverse of the input tuple using slice operator:\",t1)"
   ]
  },
  {
   "cell_type": "code",
   "execution_count": null,
   "id": "2d391301",
   "metadata": {
    "id": "2d391301",
    "outputId": "229546b4-184a-4e3c-ed2d-5b33e41a4156"
   },
   "outputs": [
    {
     "name": "stdout",
     "output_type": "stream",
     "text": [
      "Enter a tuple: (2,11,65,44,64,121,21,212,1)\n",
      "The maximum element present in the input tuple is: 212\n"
     ]
    }
   ],
   "source": [
    "#Find the maximum value in a tuple\n",
    "t=eval(input(\"Enter a tuple: \"))\n",
    "print(\"The maximum element present in the input tuple is:\",max(t))"
   ]
  },
  {
   "cell_type": "code",
   "execution_count": null,
   "id": "331b09b8",
   "metadata": {
    "id": "331b09b8",
    "outputId": "f41b71ef-a0ae-4fb4-e756-16e0bb41f237"
   },
   "outputs": [
    {
     "name": "stdout",
     "output_type": "stream",
     "text": [
      "Enter a tuple: (70,5,454,21,321,41,-431,31,313,500)\n",
      "The minimum element present in the input tuple is: -431\n"
     ]
    }
   ],
   "source": [
    "#Find the minimum value in a tuple\n",
    "t=eval(input(\"Enter a tuple: \"))\n",
    "print(\"The minimum element present in the input tuple is:\",min(t))"
   ]
  },
  {
   "cell_type": "code",
   "execution_count": null,
   "id": "bbee0855",
   "metadata": {
    "id": "bbee0855",
    "outputId": "01ccabed-a714-4b80-da4c-f57619c15386"
   },
   "outputs": [
    {
     "name": "stdout",
     "output_type": "stream",
     "text": [
      "Enter a string: I am learning python\n",
      "('I', ' ', 'a', 'm', ' ', 'l', 'e', 'a', 'r', 'n', 'i', 'n', 'g', ' ', 'p', 'y', 't', 'h', 'o', 'n')\n"
     ]
    }
   ],
   "source": [
    "#Convert a string to a tuple of characters\n",
    "s=input(\"Enter a string: \")\n",
    "t=tuple(s)\n",
    "print(t)"
   ]
  },
  {
   "cell_type": "code",
   "execution_count": null,
   "id": "8a3c4e29",
   "metadata": {
    "id": "8a3c4e29",
    "outputId": "ed842e28-0881-4335-980c-634506a989b8"
   },
   "outputs": [
    {
     "name": "stdout",
     "output_type": "stream",
     "text": [
      "Enter atuple of chracters: ('I','am','learning','python')\n",
      "I am learning python\n"
     ]
    }
   ],
   "source": [
    "#Convert a tuple of characters to a string\n",
    "t=eval(input(\"Enter atuple of chracters: \"))\n",
    "s=\" \".join(t)\n",
    "print(s)"
   ]
  },
  {
   "cell_type": "code",
   "execution_count": null,
   "id": "40c28935",
   "metadata": {
    "id": "40c28935"
   },
   "outputs": [],
   "source": [
    "#Create a tuple from multiple data types\n"
   ]
  },
  {
   "cell_type": "code",
   "execution_count": null,
   "id": "661fc1e1",
   "metadata": {
    "id": "661fc1e1",
    "outputId": "01db0f97-2baf-4521-d778-af8e88276f7c"
   },
   "outputs": [
    {
     "name": "stdout",
     "output_type": "stream",
     "text": [
      "Enter a tuple: 1,2,3,'Python'\n",
      "Enter a second tuple: 1,2,3,'Python'\n",
      "Both the input tuples are identical to each other\n"
     ]
    }
   ],
   "source": [
    "#Check if two tuples are identical\n",
    "t1=eval(input(\"Enter a tuple: \"))\n",
    "t2=eval(input(\"Enter a second tuple: \"))\n",
    "if t1==t2:\n",
    "    print(\"Both the input tuples are identical to each other\")\n",
    "else:\n",
    "    print(\"Input tuples are not identical\")"
   ]
  },
  {
   "cell_type": "code",
   "execution_count": null,
   "id": "01952441",
   "metadata": {
    "id": "01952441",
    "outputId": "8a3ba38b-551c-490b-8761-a890bbb46a61"
   },
   "outputs": [
    {
     "name": "stdout",
     "output_type": "stream",
     "text": [
      "Enter a tuple: (4,1,12,154,51,2,474,45,44,4,1)\n",
      "Before sorting: (4, 1, 12, 154, 51, 2, 474, 45, 44, 4, 1)\n",
      "Afetr sorting in ascending order: [1, 1, 2, 4, 4, 12, 44, 45, 51, 154, 474]\n"
     ]
    }
   ],
   "source": [
    "#Sort the elements of a tuple\n",
    "t=eval(input(\"Enter a tuple: \"))\n",
    "t1=sorted(t)\n",
    "print(\"Before sorting:\",t)\n",
    "print(\"Afetr sorting in ascending order:\",t1)"
   ]
  },
  {
   "cell_type": "code",
   "execution_count": null,
   "id": "9fb5300a",
   "metadata": {
    "id": "9fb5300a",
    "outputId": "fcf8e18e-4890-4fee-a924-5dcd6905b35b"
   },
   "outputs": [
    {
     "name": "stdout",
     "output_type": "stream",
     "text": [
      "Enter a tuple of intergers: 5,27,6411,63,21,35\n",
      "Input tuple of integers: (5, 27, 6411, 63, 21, 35)\n",
      "Output tuple of strings: ('5', '27', '6411', '63', '21', '35')\n"
     ]
    }
   ],
   "source": [
    "#Convert a tuple of integers to a tuple of strings\n",
    "t=eval(input(\"Enter a tuple of intergers: \"))\n",
    "l=[]\n",
    "for i in t:\n",
    "    l.append(str(i))\n",
    "t1=tuple(l)\n",
    "print(\"Input tuple of integers:\",t)\n",
    "print(\"Output tuple of strings:\",t1)"
   ]
  },
  {
   "cell_type": "code",
   "execution_count": null,
   "id": "5a892135",
   "metadata": {
    "id": "5a892135",
    "outputId": "e9ff1f8f-4f94-40b5-d271-0f31c93a51f3"
   },
   "outputs": [
    {
     "name": "stdout",
     "output_type": "stream",
     "text": [
      "Enter a tuple of strings: ('I','learn','python')\n",
      "Input tuple of strings: ('I', 'learn', 'python')\n",
      "Output tuple of integers: (73, 108, 112)\n"
     ]
    }
   ],
   "source": [
    "#Convert a tuple of strings to a tuple of integers\n",
    "t=eval(input(\"Enter a tuple of strings: \"))\n",
    "l=[]\n",
    "for i in t:\n",
    "        l.append(ord(i[0]))\n",
    "t1=tuple(l)\n",
    "print(\"Input tuple of strings:\",t)\n",
    "print(\"Output tuple of integers:\",t1)"
   ]
  },
  {
   "cell_type": "code",
   "execution_count": null,
   "id": "1e4016fa",
   "metadata": {
    "id": "1e4016fa",
    "outputId": "10e5f297-da3b-4a5c-a117-4b5dfb40bb05"
   },
   "outputs": [
    {
     "name": "stdout",
     "output_type": "stream",
     "text": [
      "Enter a tuple: 1,2,3,5,7\n",
      "Enter a second tuple: 'I',1,2,3\n",
      "Merged tuple is: (1, 2, 3, 5, 7, 'I', 1, 2, 3)\n"
     ]
    }
   ],
   "source": [
    "#Merge two tuples\n",
    "t1=eval(input(\"Enter a tuple: \"))\n",
    "t2=eval(input(\"Enter a second tuple: \"))\n",
    "t3=t1+t2\n",
    "print(\"Merged tuple is:\",t3)"
   ]
  },
  {
   "cell_type": "code",
   "execution_count": null,
   "id": "53a384cd",
   "metadata": {
    "id": "53a384cd",
    "outputId": "49c36e94-c79b-486f-b873-f311e4380d80"
   },
   "outputs": [
    {
     "name": "stdout",
     "output_type": "stream",
     "text": [
      "Enter a nested tuple: ((1,21,4,5),(11,1,12),(21,1))\n",
      "Flatten form of the given nested tuple is: (1, 21, 4, 5, 11, 1, 12, 21, 1)\n"
     ]
    }
   ],
   "source": [
    "#Flatten a nested tuple\n",
    "t=eval(input(\"Enter a nested tuple: \"))\n",
    "l=[i  for l in t for i in l]\n",
    "t1=tuple(l)\n",
    "print(\"Flatten form of the given nested tuple is:\",t1)"
   ]
  },
  {
   "cell_type": "code",
   "execution_count": null,
   "id": "c029bee0",
   "metadata": {
    "id": "c029bee0",
    "outputId": "870fc74b-5d65-4860-d47c-9eff6c833c7f"
   },
   "outputs": [
    {
     "name": "stdout",
     "output_type": "stream",
     "text": [
      "Tuple of first 5 prime numbers is: (2, 3, 5, 7, 11)\n"
     ]
    }
   ],
   "source": [
    "#Create a tuple of the first 5 prime numbers\n",
    "t=tuple()\n",
    "num=2\n",
    "while(len(t)<5):\n",
    "    c=1\n",
    "    for i in range(2,int(m.sqrt(num)+1)):\n",
    "        if num%i==0:\n",
    "            c=0\n",
    "            break\n",
    "    if(c):\n",
    "        t=t+(num,)\n",
    "    num+=1\n",
    "print(\"Tuple of first 5 prime numbers is:\",t)"
   ]
  },
  {
   "cell_type": "code",
   "execution_count": null,
   "id": "d202a7ba",
   "metadata": {
    "id": "d202a7ba",
    "outputId": "fa55e61b-5b08-4dce-dc60-47be71a32425"
   },
   "outputs": [
    {
     "name": "stdout",
     "output_type": "stream",
     "text": [
      "Enter a tuple: 1,2,3,2,1\n",
      "Your input tuple is palindrome\n"
     ]
    }
   ],
   "source": [
    "#Check if a tuple is a palindrome\n",
    "t=eval(input(\"Enter a tuple: \"))\n",
    "t1=t[::-1]\n",
    "if t==t1:\n",
    "    print(\"Your input tuple is palindrome\")\n",
    "else:\n",
    "    print(\"Your input tuple isn't palindrome\")"
   ]
  },
  {
   "cell_type": "code",
   "execution_count": null,
   "id": "5ac28e39",
   "metadata": {
    "id": "5ac28e39",
    "outputId": "542189cd-8aee-4d72-d792-0abfefd83f59"
   },
   "outputs": [
    {
     "name": "stdout",
     "output_type": "stream",
     "text": [
      "Tuple of squares of numbers from 1 to 5: (1, 4, 9, 16, 25)\n"
     ]
    }
   ],
   "source": [
    "#Create a tuple of squares of numbers from 1 to 5\n",
    "t=tuple()\n",
    "for i in range(1,6):\n",
    "    t=t+(i**2,)\n",
    "print(\"Tuple of squares of numbers from 1 to 5:\",t)"
   ]
  },
  {
   "cell_type": "code",
   "execution_count": null,
   "id": "65f200d5",
   "metadata": {
    "id": "65f200d5",
    "outputId": "1c7c7982-db30-4148-8eca-94034b1fac6d"
   },
   "outputs": [
    {
     "name": "stdout",
     "output_type": "stream",
     "text": [
      "Enter a tuple: 1,2,3,5,61,4,11,20,44,5\n",
      "The even numbers present in the tuple are: \n",
      "2 4 20 44 "
     ]
    }
   ],
   "source": [
    "#Filter out all even numbers from a tuple\n",
    "t=eval(input(\"Enter a tuple: \"))\n",
    "print(\"The even numbers present in the tuple are: \")\n",
    "for i in t:\n",
    "    if i%2==0:\n",
    "        print(i,end=\" \")"
   ]
  },
  {
   "cell_type": "code",
   "execution_count": null,
   "id": "2a3cabcf",
   "metadata": {
    "id": "2a3cabcf",
    "outputId": "e2fa9c90-07c5-4a48-ecb5-c6d3ccfaddd5"
   },
   "outputs": [
    {
     "name": "stdout",
     "output_type": "stream",
     "text": [
      "Enter a tuple: 1,321,4,4,1,41,11\n",
      "Input tuple: (1, 321, 4, 4, 1, 41, 11)\n",
      "Output tuple: (2, 642, 8, 8, 2, 82, 22)\n"
     ]
    }
   ],
   "source": [
    "#Multiply all elements in a tuple by 2\n",
    "t=eval(input(\"Enter a tuple: \"))\n",
    "t1=tuple()\n",
    "for i in t:\n",
    "    t1=t1+(i*2,)\n",
    "print(\"Input tuple:\",t)\n",
    "print(\"Output tuple:\",t1)"
   ]
  },
  {
   "cell_type": "code",
   "execution_count": null,
   "id": "553c3667",
   "metadata": {
    "id": "553c3667",
    "outputId": "b05862b6-cde9-4214-bfcc-b422015271d8"
   },
   "outputs": [
    {
     "name": "stdout",
     "output_type": "stream",
     "text": [
      "Enter the number of elements required: 5\n",
      "A tuple of random numbers is: (840, 637, 410, 36, 231)\n"
     ]
    }
   ],
   "source": [
    "#Create a tuple of random numbers\n",
    "import random\n",
    "n=int(input(\"Enter the number of elements required: \"))\n",
    "t=tuple()\n",
    "for i in range(n):\n",
    "    t=t+(random.randint(1,1000),)\n",
    "print(\"A tuple of random numbers is:\",t)"
   ]
  },
  {
   "cell_type": "code",
   "execution_count": null,
   "id": "e6e7e9a0",
   "metadata": {
    "id": "e6e7e9a0",
    "outputId": "99172afb-6114-40bb-a285-72f318e63e1d"
   },
   "outputs": [
    {
     "name": "stdout",
     "output_type": "stream",
     "text": [
      "Enter a tuple: 1,2,5,6,41\n",
      "Your input tuple is sorted in ascending order\n"
     ]
    }
   ],
   "source": [
    "#Check if a tuple is sorted\n",
    "t=eval(input(\"Enter a tuple: \"))\n",
    "t1=tuple(sorted(t))\n",
    "t2=tuple(sorted(t,reverse=True))\n",
    "if t==t1:\n",
    "    print(\"Your input tuple is sorted in ascending order\")\n",
    "elif t==t2:\n",
    "    print(\"Your input tuple is sorted in descending order\")\n",
    "else:\n",
    "    print(\"Your input tuple isn't sorted\")"
   ]
  },
  {
   "cell_type": "code",
   "execution_count": null,
   "id": "9ea2093b",
   "metadata": {
    "id": "9ea2093b",
    "outputId": "871e7662-99e8-419c-a592-f0e8f87b4252"
   },
   "outputs": [
    {
     "name": "stdout",
     "output_type": "stream",
     "text": [
      "Enter a tuple of elements: 9,4,3,2,5\n",
      "Enter the number of positions you want to left shift the tuple elements: 3\n",
      "Input tuple: (9, 4, 3, 2, 5)\n",
      "Output tuple: (2, 5, 9, 4, 3)\n"
     ]
    }
   ],
   "source": [
    "#Rotate a tuple to the left by `n` positions\n",
    "t=eval(input(\"Enter a tuple of elements: \"))\n",
    "l=list(t)\n",
    "n=int(input(\"Enter the number of positions you want to left shift the tuple elements: \"))\n",
    "for i in range(n):\n",
    "    for j in range(len(l)-1,0,-1):\n",
    "        temp=l[0]\n",
    "        l[0]=l[j]\n",
    "        l[j]=temp\n",
    "t1=tuple(l)\n",
    "print(\"Input tuple:\",t)\n",
    "print(\"Output tuple:\",t1)"
   ]
  },
  {
   "cell_type": "code",
   "execution_count": null,
   "id": "d22fa6f9",
   "metadata": {
    "id": "d22fa6f9",
    "outputId": "2073c268-0ddf-4d5c-a4d3-29504f27e1b1"
   },
   "outputs": [
    {
     "name": "stdout",
     "output_type": "stream",
     "text": [
      "Enter a tuple of elements: 9,4,3,2,5\n",
      "Enter the number of positions you want to right shift the tuple elements: 3\n",
      "Input tuple: (9, 4, 3, 2, 5)\n",
      "Output tuple: (3, 2, 5, 9, 4)\n"
     ]
    }
   ],
   "source": [
    "#Rotate a tuple to the right by `n` positions\n",
    "t=eval(input(\"Enter a tuple of elements: \"))\n",
    "l=list(t)\n",
    "n=int(input(\"Enter the number of positions you want to right shift the tuple elements: \"))\n",
    "for i in range(n):\n",
    "    for j in range(1,len(l)):\n",
    "        temp=l[0]\n",
    "        l[0]=l[j]\n",
    "        l[j]=temp\n",
    "t1=tuple(l)\n",
    "print(\"Input tuple:\",t)\n",
    "print(\"Output tuple:\",t1)"
   ]
  },
  {
   "cell_type": "code",
   "execution_count": null,
   "id": "742c2fff",
   "metadata": {
    "id": "742c2fff",
    "outputId": "644e0db3-9424-4f9c-9bbe-579426c5d7c8"
   },
   "outputs": [
    {
     "name": "stdout",
     "output_type": "stream",
     "text": [
      "tuple of the first 5 Fibonacci numbers: (0, 1, 1, 2, 3)\n"
     ]
    }
   ],
   "source": [
    "#Create a tuple of the first 5 Fibonacci numbers\n",
    "t=(0,1)\n",
    "for i in range(5-2):\n",
    "    t=t+(t[i]+t[i+1],)\n",
    "print(\"tuple of the first 5 Fibonacci numbers:\",t)"
   ]
  },
  {
   "cell_type": "code",
   "execution_count": null,
   "id": "458555d2",
   "metadata": {
    "id": "458555d2",
    "outputId": "d8750647-98c3-44da-a8a4-0429daa160c1"
   },
   "outputs": [
    {
     "name": "stdout",
     "output_type": "stream",
     "text": [
      "Enter the number of elements required: 5\n",
      "Enter element no.1: 1\n",
      "Enter element no.2: 2\n",
      "Enter element no.3: 3\n",
      "Enter element no.4: java\n",
      "Enter element no.5: python\n",
      "Your input tuple is: (1, 2, 3, 'java', 'python')\n"
     ]
    }
   ],
   "source": [
    "#Create a tuple from user input\n",
    "t=tuple()\n",
    "n=int(input(\"Enter the number of elements required: \"))\n",
    "for i in range(n):\n",
    "    item=input(f\"Enter element no.{i+1}: \")\n",
    "    if item.isdigit():\n",
    "        t=t+(int(item),)\n",
    "    else:\n",
    "        t=t+(item,)\n",
    "print(\"Your input tuple is:\",t)"
   ]
  },
  {
   "cell_type": "code",
   "execution_count": null,
   "id": "a3ef8311",
   "metadata": {
    "id": "a3ef8311",
    "outputId": "10f901ef-71ff-428c-8eaa-520375f3fd14"
   },
   "outputs": [
    {
     "name": "stdout",
     "output_type": "stream",
     "text": [
      "Enter a tuple of elements: 9,4,5,3,2\n",
      "Enter two indices with in the tuple: 1 4\n",
      "Before swapping: (9, 4, 5, 3, 2)\n",
      "After swapping: (9, 2, 5, 3, 4)\n"
     ]
    }
   ],
   "source": [
    "#Swap two elements in a tuple\n",
    "t=eval(input(\"Enter a tuple of elements: \"))\n",
    "l=list(t)\n",
    "a,b=map(int,input(\"Enter two indices with in the tuple: \").split())\n",
    "if 0<=a<len(l) and 0<=b<len(l):\n",
    "    temp=l[a]\n",
    "    l[a]=l[b]\n",
    "    l[b]=temp\n",
    "else:\n",
    "    print(\"Indices are out of bound\")\n",
    "t1=tuple(l)\n",
    "print(\"Before swapping:\",t)\n",
    "print(\"After swapping:\",t1)"
   ]
  },
  {
   "cell_type": "code",
   "execution_count": null,
   "id": "f2c87f0d",
   "metadata": {
    "id": "f2c87f0d",
    "outputId": "8c41693b-6df1-415c-b6e8-5ed32426d8e4"
   },
   "outputs": [
    {
     "name": "stdout",
     "output_type": "stream",
     "text": [
      "Enter a tuple of elements: 9,4,5,3,2\n",
      "Initial tuple: (9, 4, 5, 3, 2)\n",
      "Final tuple: (2, 3, 5, 4, 9)\n"
     ]
    }
   ],
   "source": [
    "#Reverse the elements of a tuple\n",
    "t=eval(input(\"Enter a tuple of elements: \"))\n",
    "l=list(t)\n",
    "l.reverse()\n",
    "t1=tuple(l)\n",
    "print(\"Initial tuple:\",t)\n",
    "print(\"Final tuple:\",t1)"
   ]
  },
  {
   "cell_type": "code",
   "execution_count": null,
   "id": "71704bcb",
   "metadata": {
    "id": "71704bcb",
    "outputId": "ce2b1102-dbb2-4763-90d3-6f20515b5ef6"
   },
   "outputs": [
    {
     "name": "stdout",
     "output_type": "stream",
     "text": [
      "Enter the value of `n`: 10\n",
      "(1, 2, 4, 8, 16, 32, 64, 128, 256, 512)\n"
     ]
    }
   ],
   "source": [
    "#Create a tuple of the first `n` powers of 2\n",
    "t=tuple()\n",
    "n=int(input(\"Enter the value of `n`: \"))\n",
    "for i in range(n):\n",
    "    t=t+(2**i,)\n",
    "print(t)"
   ]
  },
  {
   "cell_type": "code",
   "execution_count": null,
   "id": "2e13387f",
   "metadata": {
    "id": "2e13387f",
    "outputId": "9ca6a348-8207-467c-b283-b6ffce117be7"
   },
   "outputs": [
    {
     "name": "stdout",
     "output_type": "stream",
     "text": [
      "Enter the number of string elements required: 5\n",
      "Enter element no.1: I\n",
      "Enter element no.2: love\n",
      "Enter element no.3: python\n",
      "Enter element no.4: and\n",
      "Enter element no.5: java\n",
      "Longest string present is: 'python' and its length is 6\n"
     ]
    }
   ],
   "source": [
    "#Find the longest string in a tuple of strings\n",
    "t=tuple()\n",
    "n=int(input(\"Enter the number of string elements required: \"))\n",
    "for i in range(n):\n",
    "    t=t+(input(f\"Enter element no.{i+1}: \"),)\n",
    "lock,m=0,len(t[0])\n",
    "for i in range(len(t)):\n",
    "    if m<len(t[i]):\n",
    "        lock=i\n",
    "        m=len(t[i])\n",
    "print(f\"Longest string present is: '{t[lock]}' and its length is {m}\")"
   ]
  },
  {
   "cell_type": "code",
   "execution_count": null,
   "id": "77221479",
   "metadata": {
    "id": "77221479",
    "outputId": "04393495-2e5c-4bb1-e5c2-67d01982570f"
   },
   "outputs": [
    {
     "name": "stdout",
     "output_type": "stream",
     "text": [
      "Enter the number of string elements required: 5\n",
      "Enter element no.1: Hi\n",
      "Enter element no.2: I\n",
      "Enter element no.3: am\n",
      "Enter element no.4: learning\n",
      "Enter element no.5: python\n",
      "Shortest string present is: 'I' and its length is 1\n"
     ]
    }
   ],
   "source": [
    "#Find the shortest string in a tuple of strings\n",
    "t=tuple()\n",
    "n=int(input(\"Enter the number of string elements required: \"))\n",
    "for i in range(n):\n",
    "    t=t+(input(f\"Enter element no.{i+1}: \"),)\n",
    "lock,m=0,len(t[0])\n",
    "for i in range(len(t)):\n",
    "    if m>len(t[i]):\n",
    "        lock=i\n",
    "        m=len(t[i])\n",
    "print(f\"Shortest string present is: '{t[lock]}' and its length is {m}\")"
   ]
  },
  {
   "cell_type": "code",
   "execution_count": null,
   "id": "11f0164b",
   "metadata": {
    "id": "11f0164b",
    "outputId": "96fa225e-e49d-441d-9fc1-2294b6538ce1"
   },
   "outputs": [
    {
     "name": "stdout",
     "output_type": "stream",
     "text": [
      "Enter the value of `n`: 10\n",
      "Tuple of first 10 triangular number is: (1, 3, 6, 10, 15, 21, 28, 36, 45, 55)\n"
     ]
    }
   ],
   "source": [
    "#Create a tuple of the first `n` triangular numbers\n",
    "t=(1,)\n",
    "n=int(input(\"Enter the value of `n`: \"))\n",
    "j=2\n",
    "for i in range(1,n):\n",
    "    t=t+(t[i-1]+j,)\n",
    "    j+=1\n",
    "print(f\"Tuple of first {n} triangular number is: {t}\")"
   ]
  },
  {
   "cell_type": "code",
   "execution_count": null,
   "id": "f56f95fa",
   "metadata": {
    "id": "f56f95fa",
    "outputId": "3b6e1a8f-0632-42fe-9b68-89aeaabc37ba"
   },
   "outputs": [
    {
     "name": "stdout",
     "output_type": "stream",
     "text": [
      "Input a tuple: ((1,2,3),1,2,3,(21,23))\n",
      "Your input tuple contains 2 tuple(s) as subsequence\n"
     ]
    }
   ],
   "source": [
    "#Check if a tuple contains another tuple as a subsequence\n",
    "t=eval(input(\"Input a tuple: \"))\n",
    "flag,count=False,0\n",
    "for i in t:\n",
    "    if type(i)==type(tuple()):\n",
    "        flag=True\n",
    "        count+=1\n",
    "if(flag):\n",
    "    print(f\"Your input tuple contains {count} tuple(s) as subsequence\")\n",
    "else:\n",
    "    print(\"Your input tuple doesn't contain any tuple as a subsequence.\")"
   ]
  },
  {
   "cell_type": "code",
   "execution_count": null,
   "id": "0d814f9b",
   "metadata": {
    "id": "0d814f9b",
    "outputId": "1e9cf91b-1d6a-4b5c-ec06-236fad5b5fa2"
   },
   "outputs": [
    {
     "name": "stdout",
     "output_type": "stream",
     "text": [
      "Enter a value of n: 10\n",
      "tuple of alternating 1s and 0s of length 10 is: (1, 0, 1, 0, 1, 0, 1, 0, 1, 0)\n"
     ]
    }
   ],
   "source": [
    "#Create a tuple of alternating 1s and 0s of length `n`\n",
    "n=int(input(\"Enter a value of n: \"))\n",
    "t=tuple()\n",
    "for i in range(n):\n",
    "    if i%2==0:\n",
    "        t=t+(1,)\n",
    "    else:\n",
    "        t=t+(0,)\n",
    "print(f\"tuple of alternating 1s and 0s of length {n} is:\",t)"
   ]
  },
  {
   "cell_type": "markdown",
   "id": "fJSNCu_odVSR",
   "metadata": {
    "id": "fJSNCu_odVSR"
   },
   "source": [
    "# Set"
   ]
  },
  {
   "cell_type": "code",
   "execution_count": null,
   "id": "ebb60043",
   "metadata": {
    "id": "ebb60043",
    "outputId": "b1b4ebd0-cf01-4514-cad8-d2dea438665c"
   },
   "outputs": [
    {
     "name": "stdout",
     "output_type": "stream",
     "text": [
      "Set of integers from 1 to 5: {1, 2, 3, 4, 5}\n"
     ]
    }
   ],
   "source": [
    "#Create a set with integers from 1 to 5\n",
    "s=set(range(1,6))\n",
    "print(\"Set of integers from 1 to 5:\",s)"
   ]
  },
  {
   "cell_type": "code",
   "execution_count": null,
   "id": "9372a4d4",
   "metadata": {
    "id": "9372a4d4",
    "outputId": "dc651096-f5c9-4239-9abb-4357b23c61ca"
   },
   "outputs": [
    {
     "name": "stdout",
     "output_type": "stream",
     "text": [
      "Before adding any new element: set()\n",
      "Enter a new element: 15\n",
      "After adding a new element: {15}\n"
     ]
    }
   ],
   "source": [
    "#Add an element to a set\n",
    "s=set()\n",
    "print(\"Before adding any new element:\",s)\n",
    "item=input(\"Enter a new element: \")\n",
    "if item.isdigit():\n",
    "    s.add(int(item))\n",
    "else:\n",
    "    s.add(item)\n",
    "print(\"After adding a new element:\",s)"
   ]
  },
  {
   "cell_type": "code",
   "execution_count": null,
   "id": "8a892b54",
   "metadata": {
    "id": "8a892b54",
    "outputId": "ada6c136-5700-4ade-abc9-a407be1b6d07"
   },
   "outputs": [
    {
     "name": "stdout",
     "output_type": "stream",
     "text": [
      "Enter a set of elements: {1,2,5,36,5}\n",
      "Enter the item you want to remove from the set: 5\n",
      "After removing 5: {1, 2, 36}\n"
     ]
    }
   ],
   "source": [
    "#Remove an element from a set\n",
    "s=eval(input(\"Enter a set of elements: \"))\n",
    "item=input(\"Enter the item you want to remove from the set: \")\n",
    "if item.isdigit():\n",
    "    s.discard(int(item))\n",
    "else:\n",
    "    s.discard(item)\n",
    "print(f\"After removing {item}:\",s)"
   ]
  },
  {
   "cell_type": "code",
   "execution_count": null,
   "id": "69cb848e",
   "metadata": {
    "id": "69cb848e",
    "outputId": "33948537-9895-4561-88fa-5ec283975fd6"
   },
   "outputs": [
    {
     "name": "stdout",
     "output_type": "stream",
     "text": [
      "Enter a set of elements: {1,2,3,'python'}\n",
      "{1, 2, 3, 'python'}\n",
      "Enter the element you want to serach into the set: python\n",
      "python is present in the input set\n"
     ]
    }
   ],
   "source": [
    "#Check if an element exists in a set\n",
    "s=eval(input(\"Enter a set of elements: \"))\n",
    "print(s)\n",
    "item=input(\"Enter the element you want to serach into the set: \")\n",
    "if item.isdigit():\n",
    "    item=int(item)\n",
    "if item in s:\n",
    "    print(f\"{item} is present in the input set\")\n",
    "else:\n",
    "    print(f\"{item} isn't present in the input set\")"
   ]
  },
  {
   "cell_type": "code",
   "execution_count": null,
   "id": "6257e38f",
   "metadata": {
    "id": "6257e38f",
    "outputId": "0287cdc7-3290-4144-c058-1b082c9ead82"
   },
   "outputs": [
    {
     "name": "stdout",
     "output_type": "stream",
     "text": [
      "Input a set of elements: {1,2,3,6,94,10}\n",
      "Length of the input set is: 6\n"
     ]
    }
   ],
   "source": [
    "#Find the length of a set without using the `len()` function\n",
    "s=eval(input(\"Input a set of elements: \"))\n",
    "c=0\n",
    "for i in s:\n",
    "    c+=1\n",
    "print(\"Length of the input set is:\",c)"
   ]
  },
  {
   "cell_type": "code",
   "execution_count": null,
   "id": "24e77834",
   "metadata": {
    "id": "24e77834",
    "outputId": "d12de2b4-cc81-46d8-e878-d152cc2ac8fb"
   },
   "outputs": [
    {
     "name": "stdout",
     "output_type": "stream",
     "text": [
      "Input a set of elements: {2,5,6,7,9,10}\n",
      "Initial set: {2, 5, 6, 7, 9, 10}\n",
      "Final set: set()\n"
     ]
    }
   ],
   "source": [
    "#Clear all elements from a set\n",
    "s=eval(input(\"Input a set of elements: \"))\n",
    "print(\"Initial set:\",s)\n",
    "s.clear()\n",
    "print(\"Final set:\",s)"
   ]
  },
  {
   "cell_type": "code",
   "execution_count": null,
   "id": "5d5a4b33",
   "metadata": {
    "id": "5d5a4b33",
    "outputId": "e5a18a87-03d9-4136-a725-a9223dffa618"
   },
   "outputs": [
    {
     "name": "stdout",
     "output_type": "stream",
     "text": [
      "set of even numbers from 1 to 10: {2, 4, 6, 8, 10}\n"
     ]
    }
   ],
   "source": [
    "#Create a set of even numbers from 1 to 10\n",
    "s={i for i in range(1,11) if i%2==0}\n",
    "print(\"set of even numbers from 1 to 10:\",s)"
   ]
  },
  {
   "cell_type": "code",
   "execution_count": null,
   "id": "953ead71",
   "metadata": {
    "id": "953ead71",
    "outputId": "4e1dfaae-4a7d-4351-c82b-8447945b03c9"
   },
   "outputs": [
    {
     "name": "stdout",
     "output_type": "stream",
     "text": [
      "set of odd numbers from 1 to 10: {1, 3, 5, 7, 9}\n"
     ]
    }
   ],
   "source": [
    "#Create a set of odd numbers from 1 to 10\n",
    "s={i for i in range(1,11) if i%2!=0}\n",
    "print(\"set of odd numbers from 1 to 10:\",s)"
   ]
  },
  {
   "cell_type": "code",
   "execution_count": null,
   "id": "491ccfed",
   "metadata": {
    "id": "491ccfed",
    "outputId": "11204294-6076-47ff-d269-38e95f5b3dbf"
   },
   "outputs": [
    {
     "name": "stdout",
     "output_type": "stream",
     "text": [
      "Enter a set of elements: {2,3,6,9,4}\n",
      "Enter a second set of elements: {12,3,65,10}\n",
      "Union of two input sets: {65, 2, 3, 4, 6, 9, 10, 12}\n"
     ]
    }
   ],
   "source": [
    "#Find the union of two sets\n",
    "s1=eval(input(\"Enter a set of elements: \"))\n",
    "s2=eval(input(\"Enter a second set of elements: \"))\n",
    "s3=s1.union(s2) #or we can use s1|s2\n",
    "print(\"Union of two input sets:\",s3)"
   ]
  },
  {
   "cell_type": "code",
   "execution_count": null,
   "id": "02f7d7bb",
   "metadata": {
    "id": "02f7d7bb",
    "outputId": "645d8cd8-3c91-4638-fd70-187fc82438a3"
   },
   "outputs": [
    {
     "name": "stdout",
     "output_type": "stream",
     "text": [
      "Enter a set of elements: {1,2,6,7}\n",
      "Enter a second set of elements: {21,1,7,2,27}\n",
      "Intersection of two input sets: {1, 2, 7}\n"
     ]
    }
   ],
   "source": [
    "#Find the intersection of two sets\n",
    "s1=eval(input(\"Enter a set of elements: \"))\n",
    "s2=eval(input(\"Enter a second set of elements: \"))\n",
    "s3=s1&(s2)\n",
    "print(\"Intersection of two input sets:\",s3)"
   ]
  },
  {
   "cell_type": "code",
   "execution_count": null,
   "id": "e07f6325",
   "metadata": {
    "id": "e07f6325",
    "outputId": "9909e9cd-7fc3-4380-f236-de0cff67b11f"
   },
   "outputs": [
    {
     "name": "stdout",
     "output_type": "stream",
     "text": [
      "Enter a set of elements: {15,2,3,14}\n",
      "Enter a second set of elements: {10,2,3,1,20}\n",
      "Difference of two input sets: {14, 15}\n"
     ]
    }
   ],
   "source": [
    "#Find the difference between two sets\n",
    "s1=eval(input(\"Enter a set of elements: \"))\n",
    "s2=eval(input(\"Enter a second set of elements: \"))\n",
    "s3=s1.difference(s2)\n",
    "print(\"Difference of two input sets:\",s3)"
   ]
  },
  {
   "cell_type": "code",
   "execution_count": null,
   "id": "c7cf083d",
   "metadata": {
    "id": "c7cf083d",
    "outputId": "68150385-be17-4606-d3fe-3941f404b2bd"
   },
   "outputs": [
    {
     "name": "stdout",
     "output_type": "stream",
     "text": [
      "Enter a set of elements: {1,2,3,5,7}\n",
      "Enter a second set of elements: {2,3,5,7}\n",
      "Second set is subset of first set\n"
     ]
    }
   ],
   "source": [
    "#Check if a set is a subset of another set\n",
    "s1=eval(input(\"Enter a set of elements: \"))\n",
    "s2=eval(input(\"Enter a second set of elements: \"))\n",
    "if s1.issubset(s2):\n",
    "    print(\"First set is subset of second set\")\n",
    "elif s2.issubset(s1):\n",
    "    print(\"Second set is subset of first set\")\n",
    "else:\n",
    "    print(\"None set is a subset\")"
   ]
  },
  {
   "cell_type": "code",
   "execution_count": null,
   "id": "ee4a6e24",
   "metadata": {
    "id": "ee4a6e24",
    "outputId": "3c2e0e7e-1192-446e-ab64-b4842cfda968"
   },
   "outputs": [
    {
     "name": "stdout",
     "output_type": "stream",
     "text": [
      "Enter a set of elements: {2,3,6,7}\n",
      "Enter a second set of elements: {3,7}\n",
      "First set is superset of second set\n"
     ]
    }
   ],
   "source": [
    "#Check if a set is a superset of another set\n",
    "s1=eval(input(\"Enter a set of elements: \"))\n",
    "s2=eval(input(\"Enter a second set of elements: \"))\n",
    "if s1.issuperset(s2):\n",
    "    print(\"First set is superset of second set\")\n",
    "elif s2.issuperset(s1):\n",
    "    print(\"Second set is superset of first set\")\n",
    "else:\n",
    "    print(\"None set is a superset\")"
   ]
  },
  {
   "cell_type": "code",
   "execution_count": null,
   "id": "1bc6ec93",
   "metadata": {
    "id": "1bc6ec93",
    "outputId": "e6a824ef-19b6-4810-b836-4f0960a82878"
   },
   "outputs": [
    {
     "name": "stdout",
     "output_type": "stream",
     "text": [
      "Enter a list of items: [52,26,56,26,52,'python']\n",
      "Your input list: [52, 26, 56, 26, 52, 'python']\n",
      "Output set: {56, 'python', 26, 52}\n"
     ]
    }
   ],
   "source": [
    "#Create a set from a list\n",
    "l=eval(input(\"Enter a list of items: \"))\n",
    "print(\"Your input list:\",l)\n",
    "s=set(l)\n",
    "print(\"Output set:\",s)"
   ]
  },
  {
   "cell_type": "code",
   "execution_count": null,
   "id": "e4aa45bb",
   "metadata": {
    "id": "e4aa45bb",
    "outputId": "78e14bde-d0cc-4822-e82e-d6748bc0bb32"
   },
   "outputs": [
    {
     "name": "stdout",
     "output_type": "stream",
     "text": [
      "Enter a set of items: {1,2,3,6,6}\n",
      "Your input set: {1, 2, 3, 6}\n",
      "Output list: [1, 2, 3, 6]\n"
     ]
    }
   ],
   "source": [
    "#Convert a set to a list\n",
    "s=eval(input(\"Enter a set of items: \"))\n",
    "print(\"Your input set:\",s)\n",
    "l=list(s)\n",
    "print(\"Output list:\",l)"
   ]
  },
  {
   "cell_type": "code",
   "execution_count": null,
   "id": "6128d843",
   "metadata": {
    "id": "6128d843",
    "outputId": "6df43e99-ccbd-4fe7-832b-081be673eb3f"
   },
   "outputs": [
    {
     "name": "stdout",
     "output_type": "stream",
     "text": [
      "Enter a set of items: {1,65,4,1,43,2}\n",
      "65 is removed from the input set\n"
     ]
    }
   ],
   "source": [
    "#Remove a random element from a set\n",
    "s=eval(input(\"Enter a set of items: \"))\n",
    "print(f\"{s.pop()} is removed from the input set\")"
   ]
  },
  {
   "cell_type": "code",
   "execution_count": null,
   "id": "3e6ab407",
   "metadata": {
    "id": "3e6ab407",
    "outputId": "7a8c0a93-244b-46bf-8a76-b894c3ed3086"
   },
   "outputs": [
    {
     "name": "stdout",
     "output_type": "stream",
     "text": [
      "Enter a set of items: {1,41,17,43,2}\n",
      "1 is popped out from the input set\n"
     ]
    }
   ],
   "source": [
    "#Pop an element from a set\n",
    "s=eval(input(\"Enter a set of items: \"))\n",
    "print(f\"{s.pop()} is popped out from the input set\")"
   ]
  },
  {
   "cell_type": "code",
   "execution_count": null,
   "id": "e51cb056",
   "metadata": {
    "id": "e51cb056",
    "outputId": "6fd95c16-9fbb-4f43-e79b-05aca2aab3a2"
   },
   "outputs": [
    {
     "name": "stdout",
     "output_type": "stream",
     "text": [
      "Enter a set of elements: {10,23,11,5}\n",
      "Enter a second set of elements: {21,654,66}\n",
      "Input sets have no elements in common\n"
     ]
    }
   ],
   "source": [
    "#Check if two sets have no elements in common\n",
    "s1=eval(input(\"Enter a set of elements: \"))\n",
    "s2=eval(input(\"Enter a second set of elements: \"))\n",
    "s3=s1&s2\n",
    "if s3==set():\n",
    "    print(\"Input sets have no elements in common\")\n",
    "else:\n",
    "    print(\"The common elements between the two input sets:\",s3)"
   ]
  },
  {
   "cell_type": "code",
   "execution_count": null,
   "id": "a8111772",
   "metadata": {
    "id": "a8111772",
    "outputId": "e5f5c802-fcb0-4935-884d-1dd4005f8937"
   },
   "outputs": [
    {
     "name": "stdout",
     "output_type": "stream",
     "text": [
      "Enter a set of elements: {1,32,6,65}\n",
      "Enter a second set of elements: {35,32,1,70,58}\n",
      "The symmetric difference between the two input sets is: {65, 35, 70, 6, 58}\n"
     ]
    }
   ],
   "source": [
    "#eval(input(\"Enter a set of elements: \"))\n",
    "s1=eval(input(\"Enter a set of elements: \"))\n",
    "s2=eval(input(\"Enter a second set of elements: \"))\n",
    "s3=s1^s2\n",
    "print(\"The symmetric difference between the two input sets is:\",s3)"
   ]
  },
  {
   "cell_type": "code",
   "execution_count": null,
   "id": "f042b1bd",
   "metadata": {
    "id": "f042b1bd",
    "outputId": "5067796a-58eb-4a98-cc4e-1a5654e89d3c"
   },
   "outputs": [
    {
     "name": "stdout",
     "output_type": "stream",
     "text": [
      "Enter a set of elements: {1,32,6,65}\n",
      "Enter a second set of elements: {35,32,1,70,58}\n",
      "{32, 1, 65, 35, 6, 70, 58}\n"
     ]
    }
   ],
   "source": [
    "#Update a set with elements from another set\n",
    "s1=eval(input(\"Enter a set of elements: \"))\n",
    "s2=eval(input(\"Enter a second set of elements: \"))\n",
    "s1.update(s2)\n",
    "print(s1)"
   ]
  },
  {
   "cell_type": "code",
   "execution_count": null,
   "id": "09148def",
   "metadata": {
    "id": "09148def",
    "outputId": "1e59ecc9-bd9a-48f3-dfc9-ac73616fe540"
   },
   "outputs": [
    {
     "name": "stdout",
     "output_type": "stream",
     "text": [
      "Set of the first 5 prime numbers is: {2, 3, 5, 7, 11}\n"
     ]
    }
   ],
   "source": [
    "#Create a set of the first 5 prime numbers\n",
    "import math as m\n",
    "s=set()\n",
    "num=2\n",
    "while(len(s)<5):\n",
    "    c=1\n",
    "    for i in range(2,int(m.sqrt(num)+1)):\n",
    "        if num%i==0:\n",
    "            c=0\n",
    "            break\n",
    "    if(c):\n",
    "        s.add(num)\n",
    "    num+=1\n",
    "print(\"Set of the first 5 prime numbers is:\",s)"
   ]
  },
  {
   "cell_type": "code",
   "execution_count": null,
   "id": "d9d795c3",
   "metadata": {
    "id": "d9d795c3",
    "outputId": "c6a28555-6eff-4f25-d7e8-04cf914af0b6"
   },
   "outputs": [
    {
     "name": "stdout",
     "output_type": "stream",
     "text": [
      "Enter a set of elements: {2,65,4,46,5}\n",
      "Enter a second set of elements: {2,65,4,46,5}\n",
      "Your input sets are identical to each other\n"
     ]
    }
   ],
   "source": [
    "#Check if two sets are identical\n",
    "s1=eval(input(\"Enter a set of elements: \"))\n",
    "s2=eval(input(\"Enter a second set of elements: \"))\n",
    "if s1==s2:\n",
    "    print(\"Your input sets are identical to each other\")\n",
    "else:\n",
    "    print(\"Your input sets arn't identical to each other\")"
   ]
  },
  {
   "cell_type": "code",
   "execution_count": null,
   "id": "d2ab5a09",
   "metadata": {
    "id": "d2ab5a09",
    "outputId": "37ebc974-e003-447f-a799-f19fb2b00970"
   },
   "outputs": [
    {
     "name": "stdout",
     "output_type": "stream",
     "text": [
      "Enter a set of elements: {5,3,6,9,10}\n",
      "<class 'set'>\n",
      "<class 'frozenset'>\n"
     ]
    }
   ],
   "source": [
    "#Create a frozen set\n",
    "s=eval(input(\"Enter a set of elements: \"))\n",
    "print(type(s))\n",
    "s=frozenset(s)\n",
    "print(type(s))"
   ]
  },
  {
   "cell_type": "code",
   "execution_count": null,
   "id": "b56454ad",
   "metadata": {
    "id": "b56454ad",
    "outputId": "bd4c3906-4a17-4b5c-e9c7-80ada433e09a"
   },
   "outputs": [
    {
     "name": "stdout",
     "output_type": "stream",
     "text": [
      "Enter a set of elements: {2,131,4,5}\n",
      "Enter a second set of elements: {98,74,44,96}\n",
      "Input sets are disjoint sets\n"
     ]
    }
   ],
   "source": [
    "#Check if a set is disjoint with another set\n",
    "s1=eval(input(\"Enter a set of elements: \"))\n",
    "s2=eval(input(\"Enter a second set of elements: \"))\n",
    "s3=s1&s2\n",
    "if s3==set():\n",
    "    print(\"Input sets are disjoint sets\")\n",
    "else:\n",
    "    print(\"Input sets arn't disjoint sets\")"
   ]
  },
  {
   "cell_type": "code",
   "execution_count": null,
   "id": "53e89009",
   "metadata": {
    "id": "53e89009",
    "outputId": "ffc8ce6e-1f1d-453f-ee81-5b99b47e5c10"
   },
   "outputs": [
    {
     "name": "stdout",
     "output_type": "stream",
     "text": [
      "set of squares of numbers from 1 to 5: {1, 4, 9, 16, 25}\n"
     ]
    }
   ],
   "source": [
    "#Create a set of squares of numbers from 1 to 5\n",
    "s={i**2 for i in range(1,6)}\n",
    "print(\"set of squares of numbers from 1 to 5:\",s)"
   ]
  },
  {
   "cell_type": "code",
   "execution_count": null,
   "id": "19abf167",
   "metadata": {
    "id": "19abf167",
    "outputId": "514b3819-7794-4c5c-eeb6-e5bfe9d98c8a"
   },
   "outputs": [
    {
     "name": "stdout",
     "output_type": "stream",
     "text": [
      "Input a set of elements: {1,2,3,5,9,4,'python'}\n",
      "All even numbers present in the input set: \n",
      "2 4 "
     ]
    }
   ],
   "source": [
    "#Filter out all even numbers from a set\n",
    "s=eval(input(\"Input a set of elements: \"))\n",
    "print(\"All even numbers present in the input set: \")\n",
    "for i in s:\n",
    "    if type(i)!=type(str()) and i%2==0:\n",
    "        print(i,end=\" \")"
   ]
  },
  {
   "cell_type": "code",
   "execution_count": null,
   "id": "d0b4a351",
   "metadata": {
    "id": "d0b4a351",
    "outputId": "9934013e-fca3-4c1b-968d-5cffc408f339"
   },
   "outputs": [
    {
     "name": "stdout",
     "output_type": "stream",
     "text": [
      "Enter a set of elements: {16,7,9,4,6,2,3,'python'}\n",
      "Input set: {2, 3, 4, 6, 7, 9, 16, 'python'}\n",
      "Output set: {32, 4, 6, 8, 12, 14, 18, 'pythonpython'}\n"
     ]
    }
   ],
   "source": [
    "#Multiply all elements in a set by 2\n",
    "s=eval(input(\"Enter a set of elements: \"))\n",
    "print(\"Input set:\",s)\n",
    "s1={i*2 for i in s}\n",
    "print(\"Output set:\",s1)"
   ]
  },
  {
   "cell_type": "code",
   "execution_count": null,
   "id": "ed71e9ff",
   "metadata": {
    "id": "ed71e9ff",
    "outputId": "fa26e87f-14cb-4ee5-bbb5-2b6d12d95fe8"
   },
   "outputs": [
    {
     "name": "stdout",
     "output_type": "stream",
     "text": [
      "Enter the number of elements required: 10\n",
      "A set of 10 random numbers: {-892, 196, 488, -664, -24, -597, -875, -42, -455, 219}\n"
     ]
    }
   ],
   "source": [
    "#Create a set of random numbers\n",
    "import random\n",
    "n=int(input(\"Enter the number of elements required: \"))\n",
    "s=set()\n",
    "for i in range(n):\n",
    "    s.add(random.randint(-1000,1000))\n",
    "print(f\"A set of {n} random numbers:\",s)"
   ]
  },
  {
   "cell_type": "code",
   "execution_count": null,
   "id": "828d23e1",
   "metadata": {
    "id": "828d23e1",
    "outputId": "56f88f7a-edd5-4441-b2f1-4373cb62b346"
   },
   "outputs": [
    {
     "name": "stdout",
     "output_type": "stream",
     "text": [
      "Enter a set of elements: {}\n",
      "Your set is empty!\n"
     ]
    }
   ],
   "source": [
    "#Check if a set is empty\n",
    "s=eval(input(\"Enter a set of elements: \"))\n",
    "if s=={}:\n",
    "    print(\"Your set is empty!\")\n",
    "else:\n",
    "    print(\"Your input set:\",s)"
   ]
  },
  {
   "cell_type": "code",
   "execution_count": null,
   "id": "6780c040",
   "metadata": {
    "id": "6780c040",
    "outputId": "d043ef0d-c47b-4674-870f-de16884b4c54"
   },
   "outputs": [
    {
     "name": "stdout",
     "output_type": "stream",
     "text": [
      "Enter a nested set: {{2,3,6},{1,3,6,9}}\n"
     ]
    },
    {
     "ename": "TypeError",
     "evalue": "unhashable type: 'set'",
     "output_type": "error",
     "traceback": [
      "\u001b[1;31m---------------------------------------------------------------------------\u001b[0m",
      "\u001b[1;31mTypeError\u001b[0m                                 Traceback (most recent call last)",
      "Cell \u001b[1;32mIn[26], line 3\u001b[0m\n\u001b[0;32m      1\u001b[0m \u001b[38;5;66;03m#Create a nested set\u001b[39;00m\n\u001b[0;32m      2\u001b[0m s\u001b[38;5;241m=\u001b[39m\u001b[38;5;28mfrozenset\u001b[39m()\n\u001b[1;32m----> 3\u001b[0m s\u001b[38;5;241m=\u001b[39m\u001b[38;5;28meval\u001b[39m(\u001b[38;5;28minput\u001b[39m(\u001b[38;5;124m\"\u001b[39m\u001b[38;5;124mEnter a nested set: \u001b[39m\u001b[38;5;124m\"\u001b[39m))\n\u001b[0;32m      4\u001b[0m \u001b[38;5;28;01mfor\u001b[39;00m i \u001b[38;5;129;01min\u001b[39;00m s:\n\u001b[0;32m      5\u001b[0m     \u001b[38;5;28;01mfor\u001b[39;00m j \u001b[38;5;129;01min\u001b[39;00m i:\n",
      "File \u001b[1;32m<string>:1\u001b[0m\n",
      "\u001b[1;31mTypeError\u001b[0m: unhashable type: 'set'"
     ]
    }
   ],
   "source": [
    "#Create a nested set\n",
    "s=frozenset()\n",
    "s=eval(input(\"Enter a nested set: \"))\n",
    "for i in s:\n",
    "    for j in i:\n",
    "        print(j,end=\" \")\n",
    "    print()"
   ]
  },
  {
   "cell_type": "code",
   "execution_count": null,
   "id": "d0b2c995",
   "metadata": {
    "id": "d0b2c995",
    "outputId": "53cddfe3-8207-4c89-9b5e-acf2a7930927"
   },
   "outputs": [
    {
     "name": "stdout",
     "output_type": "stream",
     "text": [
      "Enter a set of elements: {12,3,6,4,26,68}\n",
      "Input set: {3, 4, 68, 6, 26, 12}\n",
      "Enter an element that you want to remove from the input set: 26\n",
      "Current set: {3, 4, 68, 6, 12}\n"
     ]
    }
   ],
   "source": [
    "#Remove an element from a set using the discard method\n",
    "s=eval(input(\"Enter a set of elements: \"))\n",
    "print(\"Input set:\",s)\n",
    "item=input(\"Enter an element that you want to remove from the input set: \")\n",
    "if item.isdigit():\n",
    "    item=int(item)\n",
    "s.discard(item)\n",
    "print(\"Current set:\",s)"
   ]
  },
  {
   "cell_type": "code",
   "execution_count": null,
   "id": "d804e27b",
   "metadata": {
    "id": "d804e27b",
    "outputId": "cbc2fe1f-4b56-4a1c-9b2b-45e6624c6a4a"
   },
   "outputs": [
    {
     "name": "stdout",
     "output_type": "stream",
     "text": [
      "Enter a set of items: {2,3,6,4,61}\n",
      "Enter a second set of items: {5,3,21}\n",
      "First set is greater compared to second set\n"
     ]
    }
   ],
   "source": [
    "#Compare two sets\n",
    "s1=eval(input(\"Enter a set of items: \"))\n",
    "s2=eval(input(\"Enter a second set of items: \"))\n",
    "if len(s1)<len(s2):\n",
    "    print(\"First set is smaller compared to second set\")\n",
    "elif len(s1)>len(s2):\n",
    "    print(\"First set is greater compared to second set\")\n",
    "else:\n",
    "    print(\"Both the input sets are identical\")"
   ]
  },
  {
   "cell_type": "code",
   "execution_count": null,
   "id": "4d408f4a",
   "metadata": {
    "id": "4d408f4a",
    "outputId": "11f520d6-2fbb-4e03-8c86-e03ad8b5fe03"
   },
   "outputs": [
    {
     "name": "stdout",
     "output_type": "stream",
     "text": [
      "Enter a setring: Python\n",
      "Set of the input string: {'P', 'o', 't', 'y', 'n', 'h'}\n"
     ]
    }
   ],
   "source": [
    "#Create a set from a string\n",
    "string=input(\"Enter a setring: \")\n",
    "s=set(string)\n",
    "print(\"Set of the input string:\",s)"
   ]
  },
  {
   "cell_type": "code",
   "execution_count": null,
   "id": "8faf1fe5",
   "metadata": {
    "id": "8faf1fe5",
    "outputId": "08ebad93-cfd4-4e98-94a1-556fa926870d"
   },
   "outputs": [
    {
     "name": "stdout",
     "output_type": "stream",
     "text": [
      "Enter a set of strings: {1,2,3,'i','am','learning','python'}\n",
      "Input set: {1, 2, 3, 'am', 'learning', 'python', 'i'}\n",
      "Output set: {1, 2, 3, 97, 105, 108, 112}\n"
     ]
    }
   ],
   "source": [
    "#Convert a set of strings to a set of integers\n",
    "s=eval(input(\"Enter a set of strings: \"))\n",
    "s1=set()\n",
    "for i in s:\n",
    "    if type(i)==type(str()):\n",
    "        s1.add(ord(i[0]))\n",
    "    else:\n",
    "        s1.add(i)\n",
    "print(\"Input set:\",s)\n",
    "print(\"Output set:\",s1)"
   ]
  },
  {
   "cell_type": "code",
   "execution_count": null,
   "id": "09099463",
   "metadata": {
    "id": "09099463",
    "outputId": "18dd260a-1471-4034-b761-3dd267cc923c"
   },
   "outputs": [
    {
     "name": "stdout",
     "output_type": "stream",
     "text": [
      "Enter a set of integers: {2,3,65,46,70,500}\n",
      "Input set: {65, 2, 3, 500, 70, 46}\n",
      "Output set: {'Ǵ', '\\x03', 'F', 'A', '\\x02', '.'}\n"
     ]
    }
   ],
   "source": [
    "#Convert a set of integers to a set of strings\n",
    "s=eval(input(\"Enter a set of integers: \"))\n",
    "s1=set()\n",
    "for i in s:\n",
    "    s1.add(chr(i))\n",
    "print(\"Input set:\",s)\n",
    "print(\"Output set:\",s1)"
   ]
  },
  {
   "cell_type": "code",
   "execution_count": null,
   "id": "36113290",
   "metadata": {
    "id": "36113290",
    "outputId": "3f529b50-d631-4188-be93-21fface500f6"
   },
   "outputs": [
    {
     "name": "stdout",
     "output_type": "stream",
     "text": [
      "Enter a tuple of elements: (2,6,4,6,6,6,'python','java',6,9,46,)\n",
      "Tuple of elements: (2, 6, 4, 6, 6, 6, 'python', 'java', 6, 9, 46)\n",
      "Set of input tuple of elements: {2, 4, 6, 9, 'java', 46, 'python'}\n"
     ]
    }
   ],
   "source": [
    "#Create a set from a tuple\n",
    "t=eval(input(\"Enter a tuple of elements: \"))\n",
    "s=set(t)\n",
    "print(\"Tuple of elements:\",t)\n",
    "print(\"Set of input tuple of elements:\",s)"
   ]
  },
  {
   "cell_type": "code",
   "execution_count": null,
   "id": "6d1099c1",
   "metadata": {
    "id": "6d1099c1",
    "outputId": "3a03cb01-1934-48de-fb25-cea5182dcccf"
   },
   "outputs": [
    {
     "name": "stdout",
     "output_type": "stream",
     "text": [
      "Enter a set of elements: {9,89,36,6,6,2,9}\n",
      "Set of elements: {89, 2, 36, 6, 9}\n",
      "Tuple of input set of elements: (89, 2, 36, 6, 9)\n"
     ]
    }
   ],
   "source": [
    "#Convert a set to a tuple\n",
    "s=eval(input(\"Enter a set of elements: \"))\n",
    "t=tuple(s)\n",
    "print(\"Set of elements:\",s)\n",
    "print(\"Tuple of input set of elements:\",t)"
   ]
  },
  {
   "cell_type": "code",
   "execution_count": null,
   "id": "bd437350",
   "metadata": {
    "id": "bd437350",
    "outputId": "2e15983d-80bd-4e29-8f57-2e958dcd17c1"
   },
   "outputs": [
    {
     "name": "stdout",
     "output_type": "stream",
     "text": [
      "Enter a set of elements: {33,56,27,64,21,13,'python','java'}\n",
      "Maximum element present in the input set is: 64\n"
     ]
    }
   ],
   "source": [
    "#Find the maximum value in a set\n",
    "s=eval(input(\"Enter a set of elements: \"))\n",
    "s1=set()\n",
    "for i in s:\n",
    "    if type(i)!=type(str()):\n",
    "        s1.add(i)\n",
    "print(\"Maximum element present in the input set is:\",max(s1))"
   ]
  },
  {
   "cell_type": "code",
   "execution_count": null,
   "id": "7433dacc",
   "metadata": {
    "id": "7433dacc",
    "outputId": "005e8c10-edc1-4d79-c4e4-006f7ecbca05"
   },
   "outputs": [
    {
     "name": "stdout",
     "output_type": "stream",
     "text": [
      "Enter a set of elements: {33,56,27,64,21,13,'python','java'}\n",
      "Minimum element present in the input set is: 13\n"
     ]
    }
   ],
   "source": [
    "#Find the minimum value in a set\n",
    "s=eval(input(\"Enter a set of elements: \"))\n",
    "s1=set()\n",
    "for i in s:\n",
    "    if type(i)!=type(str()):\n",
    "        s1.add(i)\n",
    "print(\"Minimum element present in the input set is:\",min(s1))"
   ]
  },
  {
   "cell_type": "code",
   "execution_count": null,
   "id": "9f23eb0d",
   "metadata": {
    "id": "9f23eb0d",
    "outputId": "73f1e9e8-af5f-41db-84da-217d5b749842"
   },
   "outputs": [
    {
     "name": "stdout",
     "output_type": "stream",
     "text": [
      "Enter the number of elements required: 5\n",
      "Enter element no.1: 25\n",
      "Enter element no.2: python\n",
      "Enter element no.3: 26\n",
      "Enter element no.4: 27\n",
      "Enter element no.5: java\n",
      "Your input set: {'java', 'python', 25, 26, 27}\n"
     ]
    }
   ],
   "source": [
    "#Create a set from user input\n",
    "s=set()\n",
    "n=int(input(\"Enter the number of elements required: \"))\n",
    "for i in range(n):\n",
    "    item=input(f\"Enter element no.{i+1}: \")\n",
    "    if item.isdigit():\n",
    "        s.add(int(item))\n",
    "    else:\n",
    "        s.add(item)\n",
    "print(\"Your input set:\",s)"
   ]
  },
  {
   "cell_type": "code",
   "execution_count": null,
   "id": "2b31f9b9",
   "metadata": {
    "id": "2b31f9b9",
    "outputId": "e966788e-90e8-4d55-9806-d056d4c18bf2"
   },
   "outputs": [
    {
     "name": "stdout",
     "output_type": "stream",
     "text": [
      "Enter a set of elements: {2,3,6,4,3}\n",
      "Enter second set of elements: {9,7,8}\n",
      "Intersection of the input sets is empty!\n"
     ]
    }
   ],
   "source": [
    "#Check if the intersection of two sets is empty\n",
    "s1=eval(input(\"Enter a set of elements: \"))\n",
    "s2=eval(input(\"Enter second set of elements: \"))\n",
    "s3=s1&s2\n",
    "if s3==set():\n",
    "    print(\"Intersection of the input sets is empty!\")\n",
    "else:\n",
    "    print(\"Intersection of the input sets is:\",s3)"
   ]
  },
  {
   "cell_type": "code",
   "execution_count": null,
   "id": "2334e23f",
   "metadata": {
    "id": "2334e23f",
    "outputId": "8ddcbb7a-a4a9-4a69-b3c2-4040063f5584"
   },
   "outputs": [
    {
     "name": "stdout",
     "output_type": "stream",
     "text": [
      "Set of first 5 fibonacci numbers: {0, 1, 2, 3}\n"
     ]
    }
   ],
   "source": [
    "#Create a set of the first 5 Fibonacci numbers\n",
    "l=[0,1]\n",
    "for i in range(5-2):\n",
    "    l.append(l[i+1]+l[i])\n",
    "s=set(l)\n",
    "print(\"Set of first 5 fibonacci numbers:\",s)"
   ]
  },
  {
   "cell_type": "code",
   "execution_count": null,
   "id": "6831e29d",
   "metadata": {
    "id": "6831e29d",
    "outputId": "3912c0a3-01d4-4523-ea6b-b46824400015"
   },
   "outputs": [
    {
     "name": "stdout",
     "output_type": "stream",
     "text": [
      "Enter a list of items: [2,6,4,2,6,23,'python',6,'python']\n",
      "Input list with duplicate elements: [2, 6, 4, 2, 6, 23, 'python', 6, 'python']\n",
      "Output list without duplicate elements: [2, 4, 6, 'python', 23]\n"
     ]
    }
   ],
   "source": [
    "#Remove duplicates from a list using sets\n",
    "l=eval(input(\"Enter a list of items: \"))\n",
    "print(\"Input list with duplicate elements:\",l)\n",
    "s=set(l)\n",
    "l=list(s)\n",
    "print(\"Output list without duplicate elements:\",l)"
   ]
  },
  {
   "cell_type": "code",
   "execution_count": null,
   "id": "f4f742e6",
   "metadata": {
    "id": "f4f742e6",
    "outputId": "50d7720d-923b-458e-ec34-03fea23db4d8"
   },
   "outputs": [
    {
     "name": "stdout",
     "output_type": "stream",
     "text": [
      "Enter a set of elements: {1,23,6,46,5}\n",
      "Enter a second set of elements: {1,23,46,5}\n",
      "The symmetric difference between the input sets: {6}\n"
     ]
    }
   ],
   "source": [
    "#Check if two sets have the same elements, regardless of their count\n",
    "s1=eval(input(\"Enter a set of elements: \"))\n",
    "s2=eval(input(\"Enter a second set of elements: \"))\n",
    "s3=s1^s2    #s3  represents the symmetric difference between the sets\n",
    "if s3==set():\n",
    "    print(\"Input sets have the same elements\")\n",
    "else:\n",
    "    print(\"The symmetric difference between the input sets:\",s3)"
   ]
  },
  {
   "cell_type": "code",
   "execution_count": null,
   "id": "1768460e",
   "metadata": {
    "id": "1768460e",
    "outputId": "47814246-3ac7-492b-e3cd-633a9f586c2e"
   },
   "outputs": [
    {
     "name": "stdout",
     "output_type": "stream",
     "text": [
      "Enter a value of n: 5\n",
      "set of the first `5` powers of 2: {1, 2, 4, 8, 16}\n"
     ]
    }
   ],
   "source": [
    "#Create a set of the first `n` powers of 2\n",
    "n=int(input(\"Enter a value of n: \"))\n",
    "s={2**i for i in range(n)}\n",
    "print(f\"set of the first `{n}` powers of 2:\",s)"
   ]
  },
  {
   "cell_type": "code",
   "execution_count": null,
   "id": "dbb95aaa",
   "metadata": {
    "id": "dbb95aaa",
    "outputId": "f16bd6d2-c628-4764-f65e-e458dde4c297"
   },
   "outputs": [
    {
     "name": "stdout",
     "output_type": "stream",
     "text": [
      "Enter a list of items: [2,3,1,55,65,50]\n",
      "Enter a set of elements: {23,2,55,70,5,65}\n",
      "The common elements between the input set and the list are: {65, 2, 55}\n"
     ]
    }
   ],
   "source": [
    "#Find the common elements between a set and a list\n",
    "l=eval(input(\"Enter a list of items: \"))\n",
    "s=eval(input(\"Enter a set of elements: \"))\n",
    "s1=set(l)\n",
    "s2=s1&s\n",
    "print(\"The common elements between the input set and the list are:\",s2)"
   ]
  },
  {
   "cell_type": "code",
   "execution_count": null,
   "id": "f85b274b",
   "metadata": {
    "id": "f85b274b",
    "outputId": "6909ec92-5b03-4c93-b345-d329ebe49864"
   },
   "outputs": [
    {
     "name": "stdout",
     "output_type": "stream",
     "text": [
      "Enter a value of n: 10\n",
      "Set of the first `10` triangular numbers is: {1, 3, 36, 6, 10, 45, 15, 21, 28}\n"
     ]
    }
   ],
   "source": [
    "#Create a set of the first `n` triangular numbers\n",
    "n=int(input(\"Enter a value of n: \"))\n",
    "s=set()\n",
    "item,k=1,2\n",
    "for i in range(1,n):\n",
    "    s.add(item)\n",
    "    item+=k\n",
    "    k+=1\n",
    "print(f\"Set of the first `{n}` triangular numbers is:\",s)"
   ]
  },
  {
   "cell_type": "code",
   "execution_count": null,
   "id": "38e3693b",
   "metadata": {
    "id": "38e3693b"
   },
   "outputs": [],
   "source": [
    "#Check if a set contains another set as a subset\n"
   ]
  },
  {
   "cell_type": "code",
   "execution_count": null,
   "id": "63393e44",
   "metadata": {
    "id": "63393e44",
    "outputId": "b82eb22b-f3ca-4be5-8b8f-62b16cd593e2"
   },
   "outputs": [
    {
     "name": "stdout",
     "output_type": "stream",
     "text": [
      "Enter the value of n: 10\n",
      "Set of alternating 1s and 0s of length `10`: {0, 1}\n"
     ]
    }
   ],
   "source": [
    "#Create a set of alternating 1s and 0s of length `n`\n",
    "n=int(input(\"Enter the value of n: \"))\n",
    "s=set()\n",
    "for i in range(n):\n",
    "    if i%2==0:\n",
    "        s.add(1)\n",
    "    else:\n",
    "        s.add(0)\n",
    "print(f\"Set of alternating 1s and 0s of length `{n}`:\",s)"
   ]
  },
  {
   "cell_type": "code",
   "execution_count": null,
   "id": "f92acf1a",
   "metadata": {
    "id": "f92acf1a",
    "outputId": "8065cc94-7b5c-4dd5-c3b7-0da63b676dfe"
   },
   "outputs": [
    {
     "name": "stdout",
     "output_type": "stream",
     "text": [
      "Enter the number of sets required: 5\n",
      "Enter set no.1: {56,464,4,66,6,2}\n",
      "Enter set no.2: {2,131,6,6,5}\n",
      "Enter set no.3: {1,31,13,1}\n",
      "Enter set no.4: {79,212,44,1,12,1}\n",
      "Enter set no.5: {146,41,31,3}\n",
      "Output: {1, 66, 2, 4, 131, 6, 5, 3, 12, 13, 79, 464, 146, 212, 31, 41, 44, 56}\n"
     ]
    }
   ],
   "source": [
    "#Merge multiple sets into one\n",
    "n=int(input(\"Enter the number of sets required: \"))\n",
    "s=set()\n",
    "s1=set()\n",
    "for i in range(n):\n",
    "    s=eval(input(f\"Enter set no.{i+1}: \"))\n",
    "    s1.update(s)\n",
    "print(\"Output:\",s1)"
   ]
  },
  {
   "cell_type": "code",
   "execution_count": null,
   "id": "bc1c0fd3",
   "metadata": {
    "id": "bc1c0fd3"
   },
   "outputs": [],
   "source": []
  }
 ],
 "metadata": {
  "colab": {
   "provenance": []
  },
  "kernelspec": {
   "display_name": "Python 3 (ipykernel)",
   "language": "python",
   "name": "python3"
  },
  "language_info": {
   "codemirror_mode": {
    "name": "ipython",
    "version": 3
   },
   "file_extension": ".py",
   "mimetype": "text/x-python",
   "name": "python",
   "nbconvert_exporter": "python",
   "pygments_lexer": "ipython3",
   "version": "3.11.3"
  }
 },
 "nbformat": 4,
 "nbformat_minor": 5
}
