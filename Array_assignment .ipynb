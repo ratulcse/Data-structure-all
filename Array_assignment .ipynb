{
 "cells": [
  {
   "cell_type": "code",
   "execution_count": 2,
   "id": "85d220d0",
   "metadata": {},
   "outputs": [
    {
     "name": "stdout",
     "output_type": "stream",
     "text": [
      "False\n"
     ]
    }
   ],
   "source": [
    "#1. 1. Given an array, check if it contains any duplicates or not.\n",
    "list1 = [1, 2, 4,2, 5, 9]\n",
    "flag = False  # Use a boolean flag\n",
    "\n",
    "n = len(list1)\n",
    "\n",
    "for i in range(n - 1):\n",
    "    for j in range(i + 1, n):  # Start j from i + 1 to avoid self-comparison\n",
    "        if list1[i] == list1[j]:\n",
    "            flag = True\n",
    "            break  # Exit the loop as soon as a duplicate is found\n",
    "\n",
    "if flag:\n",
    "    print(\"True\")\n",
    "else:\n",
    "    print(\"False\")\n"
   ]
  },
  {
   "cell_type": "code",
   "execution_count": 11,
   "id": "fb7531ec",
   "metadata": {},
   "outputs": [
    {
     "name": "stdout",
     "output_type": "stream",
     "text": [
      "[5, 6, 7, 1, 2, 3, 4]\n"
     ]
    }
   ],
   "source": [
    "#2.2. Given an array and an integer k, rotate the array to the right by k steps.\n",
    "arr = [1, 2, 3, 4, 5, 6, 7]\n",
    "k=3\n",
    "n=len(arr)\n",
    "rotate_array=[0]*n\n",
    "for j in range(n):\n",
    "        rotate_array[(j+k)%n]=arr[j]\n",
    "print(rotate_array)"
   ]
  },
  {
   "cell_type": "code",
   "execution_count": 4,
   "id": "c2fbebbc",
   "metadata": {},
   "outputs": [
    {
     "name": "stdout",
     "output_type": "stream",
     "text": [
      "[12, 9, 7, 5, 4, 2]\n"
     ]
    }
   ],
   "source": [
    "#3. Reverse the given array in-place, means without using any extra data structure.\n",
    "arr = [2, 4, 5, 7, 9, 12]\n",
    "n=len(arr)\n",
    "j=-1\n",
    "for i in range(n//2):\n",
    "    t=arr[i]\n",
    "    arr[i]=arr[j]\n",
    "    arr[j]=t\n",
    "    j=j-1\n",
    "print(arr)\n",
    "    \n",
    "    "
   ]
  },
  {
   "cell_type": "code",
   "execution_count": 5,
   "id": "65e1063e",
   "metadata": {},
   "outputs": [
    {
     "name": "stdout",
     "output_type": "stream",
     "text": [
      "20\n"
     ]
    }
   ],
   "source": [
    "#4. Given an array of integers, find the maximum element in an array\n",
    "arr = [10, 5, 20, 8, 15]\n",
    "max=0\n",
    "for i in arr:\n",
    "    if i>=max:\n",
    "        max=i\n",
    "print(max)"
   ]
  },
  {
   "cell_type": "code",
   "execution_count": 1,
   "id": "b1f9f3a9",
   "metadata": {},
   "outputs": [
    {
     "name": "stdout",
     "output_type": "stream",
     "text": [
      "[1, 2, 3, 4, 5]\n"
     ]
    }
   ],
   "source": [
    "#5. Given a sorted array, remove the duplicate element without using any extra data structure.\n",
    "arr = [1, 1, 2, 2, 2, 3, 3, 4, 4, 4, 5, 5]\n",
    "i = 1\n",
    "while i < len(arr):\n",
    "    if arr[i] == arr[i-1]:\n",
    "        arr.pop(i)\n",
    "    else:\n",
    "        i +=1\n",
    "print(arr)"
   ]
  },
  {
   "cell_type": "code",
   "execution_count": null,
   "id": "a2f3d64a",
   "metadata": {},
   "outputs": [],
   "source": []
  },
  {
   "cell_type": "code",
   "execution_count": null,
   "id": "70975b48",
   "metadata": {},
   "outputs": [],
   "source": []
  }
 ],
 "metadata": {
  "kernelspec": {
   "display_name": "Python 3 (ipykernel)",
   "language": "python",
   "name": "python3"
  },
  "language_info": {
   "codemirror_mode": {
    "name": "ipython",
    "version": 3
   },
   "file_extension": ".py",
   "mimetype": "text/x-python",
   "name": "python",
   "nbconvert_exporter": "python",
   "pygments_lexer": "ipython3",
   "version": "3.11.3"
  }
 },
 "nbformat": 4,
 "nbformat_minor": 5
}
