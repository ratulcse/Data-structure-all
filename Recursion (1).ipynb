{
 "cells": [
  {
   "cell_type": "code",
   "execution_count": 3,
   "id": "f5610d98",
   "metadata": {},
   "outputs": [
    {
     "ename": "SyntaxError",
     "evalue": "invalid decimal literal (2582047617.py, line 4)",
     "output_type": "error",
     "traceback": [
      "\u001b[1;36m  Cell \u001b[1;32mIn[3], line 4\u001b[1;36m\u001b[0m\n\u001b[1;33m    1.Only one disk can be moved at a time.\u001b[0m\n\u001b[1;37m     ^\u001b[0m\n\u001b[1;31mSyntaxError\u001b[0m\u001b[1;31m:\u001b[0m invalid decimal literal\n"
     ]
    }
   ],
   "source": [
    "#1.Can you explain the logic and working of the Tower of Hanoi algorithm by writing a Java program? How does the recursion work, and how are the movements of disks between rods accomplished?\n",
    "The objective of the puzzle is to move the entire stack to another rod, obeying the following simple rules:\n",
    "\n",
    "1.Only one disk can be moved at a time.\n",
    "2.Each move consists of taking the upper disk from one of the stacks and placing it on top of another stack or on an empty rod.\n",
    "3.No disk may be placed on top of a smaller disk."
   ]
  },
  {
   "cell_type": "code",
   "execution_count": null,
   "id": "8fea24c0",
   "metadata": {},
   "outputs": [],
   "source": [
    "public class TowerOfHanoi {\n",
    "    public static void main(String[] args) {\n",
    "        int numDisks = 3;\n",
    "        towerOfHanoi(numDisks, 'A', 'C', 'B');\n",
    "    }\n",
    "\n",
    "    // Recursive function to solve Tower of Hanoi problem\n",
    "    static void towerOfHanoi(int n, char source, char destination, char auxiliary) {\n",
    "        if (n == 1) {\n",
    "            System.out.println(\"Move disk 1 from \" + source + \" to \" + destination);\n",
    "            return;\n",
    "        }\n",
    "\n",
    "        // Move n-1 disks from source to auxiliary peg\n",
    "        towerOfHanoi(n - 1, source, auxiliary, destination);\n",
    "\n",
    "        // Move the nth disk from source to destination peg\n",
    "        System.out.println(\"Move disk \" + n + \" from \" + source + \" to \" + destination);\n",
    "\n",
    "        // Move the n-1 disks from auxiliary peg to destination peg\n",
    "        towerOfHanoi(n - 1, auxiliary, destination, source);\n",
    "    }\n",
    "}\n"
   ]
  },
  {
   "cell_type": "code",
   "execution_count": 2,
   "id": "dd1fc6a8",
   "metadata": {},
   "outputs": [
    {
     "name": "stdout",
     "output_type": "stream",
     "text": [
      "Minimum number of operations: 3\n"
     ]
    }
   ],
   "source": [
    "#2.given two strings word1 and word2, now return the minimum number of operations required to convert word1 to wordd2\n",
    "def min_operations_recursive(word1, word2, i, j):\n",
    "    # Base case: If either of the strings is empty, return the length of the other string\n",
    "    if i == 0:\n",
    "        return j\n",
    "    if j == 0:\n",
    "        return i\n",
    "\n",
    "    # If the characters are the same, no operation is needed, move to the next characters\n",
    "    if word1[i - 1] == word2[j - 1]:\n",
    "        return min_operations_recursive(word1, word2, i - 1, j - 1)\n",
    "\n",
    "    # If the characters are different, consider three operations: deletion, insertion, and substitution\n",
    "    delete_op = min_operations_recursive(word1, word2, i - 1, j)\n",
    "    insert_op = min_operations_recursive(word1, word2, i, j - 1)\n",
    "    substitute_op = min_operations_recursive(word1, word2, i - 1, j - 1)\n",
    "\n",
    "    # Return the minimum of the three operations plus 1 (for the current operation)\n",
    "    return 1 + min(delete_op, insert_op, substitute_op)\n",
    "\n",
    "#3.Wrapper function to start the recursion with the full length of both words\n",
    "def min_operations(word1, word2):\n",
    "    return min_operations_recursive(word1, word2, len(word1), len(word2))\n",
    "\n",
    "# Example usage:\n",
    "word1 = \"horse\"\n",
    "word2 = \"ros\"\n",
    "result = min_operations(word1, word2)\n",
    "print(f\"Minimum number of operations: {result}\")\n"
   ]
  },
  {
   "cell_type": "code",
   "execution_count": 6,
   "id": "3d8e1455",
   "metadata": {},
   "outputs": [
    {
     "name": "stdout",
     "output_type": "stream",
     "text": [
      "Enter the number of elements required: 10\n",
      "Enter element no.1: 12\n",
      "Enter element no.2: 31\n",
      "Enter element no.3: 5\n",
      "Enter element no.4: 19\n",
      "Enter element no.5: -5\n",
      "Enter element no.6: 17\n",
      "Enter element no.7: 33\n",
      "Enter element no.8: 14\n",
      "Enter element no.9: 22\n",
      "Enter element no.10: 0\n",
      "Your input list: [12, 31, 5, 19, -5, 17, 33, 14, 22, 0]\n",
      "The maximum element in the given list: 33\n"
     ]
    }
   ],
   "source": [
    "#4.finding the sum of a given list of numbers using recursion\n",
    "def maximum(arr,i,lock):\n",
    "    if i-1==0:\n",
    "        return lock\n",
    "    else:\n",
    "        if lock<arr[i-1]:\n",
    "            lock=arr[i-1]\n",
    "        return maximum(arr,i-1,lock)\n",
    "    \n",
    "arr=list()\n",
    "n=int(input(\"Enter the number of elements required: \"))\n",
    "for i in range(n):\n",
    "    arr.append(int(input(f\"Enter element no.{i+1}: \")))\n",
    "print(\"Your input list:\",arr)\n",
    "result=maximum(arr,n,arr[0])\n",
    "print(\"The maximum element in the given list:\",result)"
   ]
  },
  {
   "cell_type": "code",
   "execution_count": 2,
   "id": "54cc874c",
   "metadata": {},
   "outputs": [
    {
     "name": "stdout",
     "output_type": "stream",
     "text": [
      "Enter the number of elements required: 10\n",
      "Enter element no.1: 12\n",
      "Enter element no.2: 31\n",
      "Enter element no.3: 5\n",
      "Enter element no.4: 19\n",
      "Enter element no.5: -5\n",
      "Enter element no.6: 17\n",
      "Enter element no.7: 33\n",
      "Enter element no.8: 14\n",
      "Enter element no.9: 22\n",
      "Enter element no.10: -10\n",
      "The sum of the given list elements: 138\n"
     ]
    }
   ],
   "source": [
    "#5.finding the sum of a given list of elements using recursion\n",
    "def sum(arr,i):\n",
    "    if i-1==0:\n",
    "        return arr[i-1]\n",
    "    else:\n",
    "        return arr[i-1]+sum(arr,i-1)\n",
    "\n",
    "arr=list()\n",
    "n=int(input(\"Enter the number of elements required: \"))\n",
    "for i in range(n):\n",
    "    arr.append(int(input(f\"Enter element no.{i+1}: \")))\n",
    "result=sum(arr,n)\n",
    "print(\"The sum of the given list elements:\",result)"
   ]
  },
  {
   "cell_type": "code",
   "execution_count": 4,
   "id": "3bb91751",
   "metadata": {},
   "outputs": [
    {
     "name": "stdout",
     "output_type": "stream",
     "text": [
      "Enter a number: 1456\n",
      "1456 is not a armstrong number\n"
     ]
    }
   ],
   "source": [
    "#6.finding whether a number is armstrong or not using recursion\n",
    "def armstrong(n,c):\n",
    "    if n==0:\n",
    "        return 0\n",
    "    else:\n",
    "        rem=n%10\n",
    "        return rem**c+armstrong(n//10,c)\n",
    "\n",
    "n=input(\"Enter a number: \")\n",
    "c=len(n)\n",
    "n=int(n)\n",
    "armno=armstrong(n,c)\n",
    "if armno==n:\n",
    "    print(f\"{n} is a armstrong number\")\n",
    "else:\n",
    "    print(f\"{n} is not a armstrong number\")"
   ]
  },
  {
   "cell_type": "code",
   "execution_count": null,
   "id": "498dfe64",
   "metadata": {},
   "outputs": [],
   "source": []
  }
 ],
 "metadata": {
  "kernelspec": {
   "display_name": "Python 3 (ipykernel)",
   "language": "python",
   "name": "python3"
  },
  "language_info": {
   "codemirror_mode": {
    "name": "ipython",
    "version": 3
   },
   "file_extension": ".py",
   "mimetype": "text/x-python",
   "name": "python",
   "nbconvert_exporter": "python",
   "pygments_lexer": "ipython3",
   "version": "3.11.3"
  }
 },
 "nbformat": 4,
 "nbformat_minor": 5
}
